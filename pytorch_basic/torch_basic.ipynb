{
 "cells": [
  {
   "cell_type": "code",
   "execution_count": 1,
   "outputs": [
    {
     "name": "stdout",
     "output_type": "stream",
     "text": [
      "1.12.0+cu116\n",
      "1.23.1\n"
     ]
    },
    {
     "data": {
      "text/plain": "True"
     },
     "execution_count": 1,
     "metadata": {},
     "output_type": "execute_result"
    }
   ],
   "source": [
    "import torch\n",
    "import numpy\n",
    "print(torch.__version__)\n",
    "print(numpy.__version__)\n",
    "torch.cuda.is_available()"
   ],
   "metadata": {
    "collapsed": false,
    "pycharm": {
     "name": "#%%\n"
    }
   }
  },
  {
   "cell_type": "code",
   "execution_count": 3,
   "outputs": [
    {
     "name": "stdout",
     "output_type": "stream",
     "text": [
      "tensor([[4.2251e-05, 6.7134e-07],\n",
      "        [1.3074e+22, 2.6311e+20],\n",
      "        [5.3782e+22, 1.0871e-05],\n",
      "        [4.3679e-05, 2.7150e-06]])\n"
     ]
    }
   ],
   "source": [
    "x = torch.empty(4,2)\n",
    "print(x)"
   ],
   "metadata": {
    "collapsed": false,
    "pycharm": {
     "name": "#%%\n"
    }
   }
  },
  {
   "cell_type": "code",
   "execution_count": 4,
   "outputs": [
    {
     "name": "stdout",
     "output_type": "stream",
     "text": [
      "tensor([[0.1616, 0.3230],\n",
      "        [0.3177, 0.3536],\n",
      "        [0.3800, 0.3699],\n",
      "        [0.2159, 0.4635]])\n"
     ]
    }
   ],
   "source": [
    "x = torch.rand(4, 2)\n",
    "print(x)"
   ],
   "metadata": {
    "collapsed": false,
    "pycharm": {
     "name": "#%%\n"
    }
   }
  },
  {
   "cell_type": "markdown",
   "source": [
    "self.long() is equivalent to self.to(torch.int64)"
   ],
   "metadata": {
    "collapsed": false,
    "pycharm": {
     "name": "#%% md\n"
    }
   }
  },
  {
   "cell_type": "code",
   "execution_count": 5,
   "outputs": [
    {
     "name": "stdout",
     "output_type": "stream",
     "text": [
      "tensor([[0, 0],\n",
      "        [0, 0],\n",
      "        [0, 0],\n",
      "        [0, 0]])\n"
     ]
    }
   ],
   "source": [
    "x = torch.zeros(4, 2, dtype=torch.long)\n",
    "print(x)"
   ],
   "metadata": {
    "collapsed": false,
    "pycharm": {
     "name": "#%%\n"
    }
   }
  },
  {
   "cell_type": "code",
   "execution_count": 7,
   "outputs": [
    {
     "name": "stdout",
     "output_type": "stream",
     "text": [
      "tensor([3.0000, 2.3000])\n"
     ]
    }
   ],
   "source": [
    "x = torch.tensor([3, 2.3])\n",
    "print(x)"
   ],
   "metadata": {
    "collapsed": false,
    "pycharm": {
     "name": "#%%\n"
    }
   }
  },
  {
   "cell_type": "markdown",
   "source": [
    "TORCH.TENSOR.NEW_ONES\n",
    "\n",
    "Returns a Tensor of size size filled with 1. By default, the returned Tensor has the same torch.dtype and torch.device as this tensor.\n",
    "\n",
    "TORCH.TENSOR.DOUBLE\n",
    "\n",
    "self.double() is equivalent to self.to(torch.float64)"
   ],
   "metadata": {
    "collapsed": false,
    "pycharm": {
     "name": "#%% md\n"
    }
   }
  },
  {
   "cell_type": "code",
   "execution_count": 8,
   "outputs": [
    {
     "name": "stdout",
     "output_type": "stream",
     "text": [
      "tensor([[1., 1., 1., 1.],\n",
      "        [1., 1., 1., 1.]], dtype=torch.float64)\n"
     ]
    }
   ],
   "source": [
    "x = x.new_ones(2, 4, dtype=torch.double)\n",
    "print(x)"
   ],
   "metadata": {
    "collapsed": false,
    "pycharm": {
     "name": "#%%\n"
    }
   }
  },
  {
   "cell_type": "code",
   "execution_count": 13,
   "outputs": [
    {
     "name": "stdout",
     "output_type": "stream",
     "text": [
      "tensor([[-1.6374, -0.5044,  0.1426,  1.0584],\n",
      "        [-0.3501,  0.3227,  0.7758, -1.8916]])\n"
     ]
    }
   ],
   "source": [
    "x = torch.randn_like(x, dtype=torch.float)\n",
    "print(x)"
   ],
   "metadata": {
    "collapsed": false,
    "pycharm": {
     "name": "#%%\n"
    }
   }
  },
  {
   "cell_type": "code",
   "execution_count": 15,
   "outputs": [
    {
     "name": "stdout",
     "output_type": "stream",
     "text": [
      "tensor([[0.6198, 0.0490, 0.2527, 0.2988],\n",
      "        [0.6551, 0.4138, 0.4409, 0.0529]])\n"
     ]
    }
   ],
   "source": [
    "y = torch.rand(2,4)\n",
    "print(y)"
   ],
   "metadata": {
    "collapsed": false,
    "pycharm": {
     "name": "#%%\n"
    }
   }
  },
  {
   "cell_type": "code",
   "execution_count": 18,
   "outputs": [
    {
     "name": "stdout",
     "output_type": "stream",
     "text": [
      "tensor([[-1.0176, -0.4554,  0.3953,  1.3571],\n",
      "        [ 0.3050,  0.7365,  1.2167, -1.8387]])\n",
      "tensor([[-1.0176, -0.4554,  0.3953,  1.3571],\n",
      "        [ 0.3050,  0.7365,  1.2167, -1.8387]])\n"
     ]
    }
   ],
   "source": [
    "print(x + y)\n",
    "print(torch.add(x, y))"
   ],
   "metadata": {
    "collapsed": false,
    "pycharm": {
     "name": "#%%\n"
    }
   }
  },
  {
   "cell_type": "code",
   "execution_count": 19,
   "outputs": [
    {
     "data": {
      "text/plain": "tensor([[-1.0176, -0.4554,  0.3953,  1.3571],\n        [ 0.3050,  0.7365,  1.2167, -1.8387]])"
     },
     "execution_count": 19,
     "metadata": {},
     "output_type": "execute_result"
    }
   ],
   "source": [
    "y.add_(x) #y += x"
   ],
   "metadata": {
    "collapsed": false,
    "pycharm": {
     "name": "#%%\n"
    }
   }
  },
  {
   "cell_type": "code",
   "execution_count": 21,
   "outputs": [
    {
     "name": "stdout",
     "output_type": "stream",
     "text": [
      "tensor([[20., 28.],\n",
      "        [52., 76.]])\n"
     ]
    }
   ],
   "source": [
    "x = torch.Tensor([[1,3],\n",
    "                  [5,7]])\n",
    "y = torch.Tensor([[2,4],\n",
    "                  [6,8]])\n",
    "print(torch.mm(x,y)) #(1*2)+(3*6)"
   ],
   "metadata": {
    "collapsed": false,
    "pycharm": {
     "name": "#%%\n"
    }
   }
  },
  {
   "cell_type": "code",
   "execution_count": 23,
   "outputs": [
    {
     "name": "stdout",
     "output_type": "stream",
     "text": [
      "tensor([[1., 3.],\n",
      "        [5., 7.]])\n"
     ]
    }
   ],
   "source": [
    "print(x)"
   ],
   "metadata": {
    "collapsed": false,
    "pycharm": {
     "name": "#%%\n"
    }
   }
  },
  {
   "cell_type": "code",
   "execution_count": 24,
   "outputs": [
    {
     "name": "stdout",
     "output_type": "stream",
     "text": [
      "tensor([3., 7.])\n"
     ]
    }
   ],
   "source": [
    "print(x[:,1])"
   ],
   "metadata": {
    "collapsed": false,
    "pycharm": {
     "name": "#%%\n"
    }
   }
  },
  {
   "cell_type": "code",
   "execution_count": 27,
   "outputs": [
    {
     "name": "stdout",
     "output_type": "stream",
     "text": [
      "tensor([[ 0.8325,  0.9705, -0.9409, -0.2729, -0.7319],\n",
      "        [-0.2335,  0.3574, -1.7165,  0.5418, -0.7865],\n",
      "        [ 0.9549, -0.9734, -0.5038, -0.9493, -0.3297],\n",
      "        [-2.1688,  1.2235, -0.1438, -1.0460, -1.2150]])\n",
      "tensor([ 0.8325,  0.9705, -0.9409, -0.2729, -0.7319, -0.2335,  0.3574, -1.7165,\n",
      "         0.5418, -0.7865,  0.9549, -0.9734, -0.5038, -0.9493, -0.3297, -2.1688,\n",
      "         1.2235, -0.1438, -1.0460, -1.2150])\n",
      "tensor([[ 0.8325,  0.9705, -0.9409, -0.2729],\n",
      "        [-0.7319, -0.2335,  0.3574, -1.7165],\n",
      "        [ 0.5418, -0.7865,  0.9549, -0.9734],\n",
      "        [-0.5038, -0.9493, -0.3297, -2.1688],\n",
      "        [ 1.2235, -0.1438, -1.0460, -1.2150]])\n"
     ]
    }
   ],
   "source": [
    "x = torch.randn(4,5)\n",
    "y = x.view(20)\n",
    "z = x.view(5,-1)\n",
    "\n",
    "print(x)\n",
    "print(y)\n",
    "print(z)"
   ],
   "metadata": {
    "collapsed": false,
    "pycharm": {
     "name": "#%%\n"
    }
   }
  },
  {
   "cell_type": "code",
   "execution_count": 28,
   "outputs": [
    {
     "name": "stdout",
     "output_type": "stream",
     "text": [
      "tensor([0.7252])\n",
      "0.7252404093742371\n",
      "torch.float32\n"
     ]
    }
   ],
   "source": [
    "x = torch.randn(1)\n",
    "print(x)\n",
    "print(x.item())\n",
    "print(x.dtype)"
   ],
   "metadata": {
    "collapsed": false,
    "pycharm": {
     "name": "#%%\n"
    }
   }
  },
  {
   "cell_type": "code",
   "execution_count": 29,
   "outputs": [
    {
     "name": "stdout",
     "output_type": "stream",
     "text": [
      "tensor([-1.0933, -0.2635])\n"
     ]
    }
   ],
   "source": [
    "x = torch.randn(2)\n",
    "print(x)"
   ],
   "metadata": {
    "collapsed": false,
    "pycharm": {
     "name": "#%%\n"
    }
   }
  },
  {
   "cell_type": "markdown",
   "source": [
    "item() can extract only one scalar"
   ],
   "metadata": {
    "collapsed": false,
    "pycharm": {
     "name": "#%% md\n"
    }
   }
  },
  {
   "cell_type": "code",
   "execution_count": 30,
   "outputs": [
    {
     "ename": "ValueError",
     "evalue": "only one element tensors can be converted to Python scalars",
     "output_type": "error",
     "traceback": [
      "\u001B[1;31m---------------------------------------------------------------------------\u001B[0m",
      "\u001B[1;31mValueError\u001B[0m                                Traceback (most recent call last)",
      "Input \u001B[1;32mIn [30]\u001B[0m, in \u001B[0;36m<cell line: 1>\u001B[1;34m()\u001B[0m\n\u001B[1;32m----> 1\u001B[0m \u001B[38;5;28mprint\u001B[39m(\u001B[43mx\u001B[49m\u001B[38;5;241;43m.\u001B[39;49m\u001B[43mitem\u001B[49m\u001B[43m(\u001B[49m\u001B[43m)\u001B[49m)\n",
      "\u001B[1;31mValueError\u001B[0m: only one element tensors can be converted to Python scalars"
     ]
    }
   ],
   "source": [
    "print(x.item())"
   ],
   "metadata": {
    "collapsed": false,
    "pycharm": {
     "name": "#%%\n"
    }
   }
  },
  {
   "cell_type": "code",
   "execution_count": 31,
   "outputs": [
    {
     "name": "stdout",
     "output_type": "stream",
     "text": [
      "tensor([[[0.1549, 0.9954, 0.4358],\n",
      "         [0.9675, 0.2141, 0.5993],\n",
      "         [0.2213, 0.8787, 0.7652]]])\n",
      "torch.Size([1, 3, 3])\n",
      "tensor([[0.1549, 0.9954, 0.4358],\n",
      "        [0.9675, 0.2141, 0.5993],\n",
      "        [0.2213, 0.8787, 0.7652]])\n",
      "torch.Size([3, 3])\n"
     ]
    }
   ],
   "source": [
    "tensor = torch.rand(1, 3, 3) # 3 dimension\n",
    "print(tensor)\n",
    "print(tensor.shape)\n",
    "\n",
    "t = tensor.squeeze()\n",
    "print(t)\n",
    "print(t.shape)"
   ],
   "metadata": {
    "collapsed": false,
    "pycharm": {
     "name": "#%%\n"
    }
   }
  },
  {
   "cell_type": "code",
   "execution_count": 32,
   "outputs": [
    {
     "name": "stdout",
     "output_type": "stream",
     "text": [
      "tensor([[[[0.1549, 0.9954, 0.4358],\n",
      "          [0.9675, 0.2141, 0.5993],\n",
      "          [0.2213, 0.8787, 0.7652]]]])\n",
      "torch.Size([1, 1, 3, 3])\n"
     ]
    }
   ],
   "source": [
    "t = tensor.unsqueeze(dim=0)\n",
    "print(t)\n",
    "print(t.shape)"
   ],
   "metadata": {
    "collapsed": false,
    "pycharm": {
     "name": "#%%\n"
    }
   }
  },
  {
   "cell_type": "code",
   "execution_count": 34,
   "outputs": [
    {
     "name": "stdout",
     "output_type": "stream",
     "text": [
      "tensor([[1., 4.],\n",
      "        [1., 4.],\n",
      "        [1., 4.]])\n"
     ]
    }
   ],
   "source": [
    "x = torch.FloatTensor([1,4])\n",
    "y = torch.FloatTensor([1,4])\n",
    "z = torch.FloatTensor([1,4])\n",
    "\n",
    "print(torch.stack([x, y, z]))"
   ],
   "metadata": {
    "collapsed": false,
    "pycharm": {
     "name": "#%%\n"
    }
   }
  },
  {
   "cell_type": "code",
   "execution_count": 35,
   "outputs": [
    {
     "name": "stdout",
     "output_type": "stream",
     "text": [
      "tensor([[[[-0.2579, -0.1175,  0.9612],\n",
      "          [ 1.0278,  1.5451, -1.1229],\n",
      "          [-1.7517, -1.3157, -0.0370]]],\n",
      "\n",
      "\n",
      "        [[[ 1.0278,  0.0206, -0.0933],\n",
      "          [-1.3338, -0.6957, -0.5234],\n",
      "          [-0.9263, -1.8338, -1.8048]]]])\n",
      "torch.Size([2, 1, 3, 3])\n"
     ]
    }
   ],
   "source": [
    "a = torch.randn(1, 1, 3, 3)\n",
    "b = torch.randn(1, 1, 3, 3)\n",
    "c = torch.cat((a,b), dim=0)\n",
    "\n",
    "print(c)\n",
    "print(c.size())"
   ],
   "metadata": {
    "collapsed": false,
    "pycharm": {
     "name": "#%%\n"
    }
   }
  },
  {
   "cell_type": "code",
   "execution_count": 36,
   "outputs": [
    {
     "name": "stdout",
     "output_type": "stream",
     "text": [
      "tensor([[[ 0.7629,  0.8261,  0.6061],\n",
      "         [-0.8260, -0.7346, -0.2523],\n",
      "         [-0.3283,  0.1293, -0.6384]],\n",
      "\n",
      "        [[ 0.6722,  0.3604,  0.2858],\n",
      "         [ 1.4664,  1.4813, -0.2243],\n",
      "         [-0.9979, -0.6393,  0.2671]]])\n",
      "torch.Size([2, 3, 3])\n"
     ]
    }
   ],
   "source": [
    "a = torch.randn(1, 3, 3)\n",
    "b = torch.randn(1, 3, 3)\n",
    "c = torch.cat((a,b), dim=0)\n",
    "\n",
    "print(c)\n",
    "print(c.size())"
   ],
   "metadata": {
    "collapsed": false,
    "pycharm": {
     "name": "#%%\n"
    }
   }
  },
  {
   "cell_type": "code",
   "execution_count": 37,
   "outputs": [
    {
     "name": "stdout",
     "output_type": "stream",
     "text": [
      "tensor([[[ 0.3434, -0.7073, -0.2052],\n",
      "         [ 0.4547, -1.9578,  0.7714],\n",
      "         [ 1.2634, -1.0574,  2.5056],\n",
      "         [-0.3482,  1.3135, -0.5961],\n",
      "         [ 0.0775,  1.6019, -1.3745],\n",
      "         [-0.3630, -0.9014,  1.2045]]])\n",
      "torch.Size([1, 6, 3])\n"
     ]
    }
   ],
   "source": [
    "a = torch.randn(1, 3, 3)\n",
    "b = torch.randn(1, 3, 3)\n",
    "c = torch.cat((a,b), dim=1)\n",
    "\n",
    "print(c)\n",
    "print(c.size())"
   ],
   "metadata": {
    "collapsed": false,
    "pycharm": {
     "name": "#%%\n"
    }
   }
  },
  {
   "cell_type": "code",
   "execution_count": 38,
   "outputs": [
    {
     "name": "stdout",
     "output_type": "stream",
     "text": [
      "tensor([[[-1.6983,  0.1502,  0.5657,  1.1365, -0.2098, -1.8873],\n",
      "         [ 2.1066, -0.1699,  1.0551,  0.7999,  0.1805,  1.2036],\n",
      "         [ 0.4179,  0.3578,  0.7410,  1.1297,  0.6931,  0.8618]]])\n",
      "torch.Size([1, 3, 6])\n"
     ]
    }
   ],
   "source": [
    "a = torch.randn(1, 3, 3)\n",
    "b = torch.randn(1, 3, 3)\n",
    "c = torch.cat((a,b), dim=2)\n",
    "\n",
    "print(c)\n",
    "print(c.size())"
   ],
   "metadata": {
    "collapsed": false,
    "pycharm": {
     "name": "#%%\n"
    }
   }
  },
  {
   "cell_type": "markdown",
   "source": [
    "Divide dimensions by 3"
   ],
   "metadata": {
    "collapsed": false,
    "pycharm": {
     "name": "#%% md\n"
    }
   }
  },
  {
   "cell_type": "code",
   "execution_count": 40,
   "outputs": [
    {
     "name": "stdout",
     "output_type": "stream",
     "text": [
      "tensor([[0.0152, 0.8873, 0.0334, 0.7959, 0.7652, 0.8113],\n",
      "        [0.2054, 0.8310, 0.0062, 0.2904, 0.9101, 0.5908],\n",
      "        [0.3354, 0.3309, 0.1251, 0.1279, 0.1227, 0.6131]])\n",
      "tensor([[0.0152, 0.8873],\n",
      "        [0.2054, 0.8310],\n",
      "        [0.3354, 0.3309]])\n",
      "tensor([[0.0334, 0.7959],\n",
      "        [0.0062, 0.2904],\n",
      "        [0.1251, 0.1279]])\n",
      "tensor([[0.7652, 0.8113],\n",
      "        [0.9101, 0.5908],\n",
      "        [0.1227, 0.6131]])\n"
     ]
    }
   ],
   "source": [
    "tensor = torch.rand(3, 6)\n",
    "t1, t2, t3 = torch.chunk(tensor, 3, dim =1)\n",
    "\n",
    "print(tensor)\n",
    "print(t1)\n",
    "print(t2)\n",
    "print(t3)"
   ],
   "metadata": {
    "collapsed": false,
    "pycharm": {
     "name": "#%%\n"
    }
   }
  },
  {
   "cell_type": "markdown",
   "source": [
    "Split : Size of tensors (Not divide by)"
   ],
   "metadata": {
    "collapsed": false,
    "pycharm": {
     "name": "#%% md\n"
    }
   }
  },
  {
   "cell_type": "code",
   "execution_count": 41,
   "outputs": [
    {
     "name": "stdout",
     "output_type": "stream",
     "text": [
      "tensor([[0.8730, 0.7641, 0.3796, 0.5922, 0.5371, 0.9999],\n",
      "        [0.6336, 0.1352, 0.3545, 0.1777, 0.1803, 0.9061],\n",
      "        [0.1242, 0.8783, 0.8131, 0.1330, 0.2199, 0.3187]])\n",
      "tensor([[0.8730, 0.7641, 0.3796],\n",
      "        [0.6336, 0.1352, 0.3545],\n",
      "        [0.1242, 0.8783, 0.8131]])\n",
      "tensor([[0.5922, 0.5371, 0.9999],\n",
      "        [0.1777, 0.1803, 0.9061],\n",
      "        [0.1330, 0.2199, 0.3187]])\n"
     ]
    }
   ],
   "source": [
    "tensor = torch.rand(3,6)\n",
    "t1, t2 = torch.split(tensor, 3, dim=1)\n",
    "\n",
    "print(tensor)\n",
    "print(t1)\n",
    "print(t2)"
   ],
   "metadata": {
    "collapsed": false,
    "pycharm": {
     "name": "#%%\n"
    }
   }
  },
  {
   "cell_type": "code",
   "execution_count": 3,
   "outputs": [
    {
     "name": "stdout",
     "output_type": "stream",
     "text": [
      "tensor([1., 1., 1., 1., 1., 1., 1.])\n"
     ]
    }
   ],
   "source": [
    "a = torch.ones(7)\n",
    "print(a)"
   ],
   "metadata": {
    "collapsed": false,
    "pycharm": {
     "name": "#%%\n"
    }
   }
  },
  {
   "cell_type": "code",
   "execution_count": 4,
   "outputs": [
    {
     "name": "stdout",
     "output_type": "stream",
     "text": [
      "[1. 1. 1. 1. 1. 1. 1.]\n"
     ]
    }
   ],
   "source": [
    "b = a.numpy()\n",
    "print(b)"
   ],
   "metadata": {
    "collapsed": false,
    "pycharm": {
     "name": "#%%\n"
    }
   }
  },
  {
   "cell_type": "markdown",
   "source": [
    "Tensor\n",
    "\n",
    "data: tensor형태의 데이터\n",
    "\n",
    "grad: data가 겨쳐온 layer에 대한 미분값 저장\n",
    "\n",
    "grad_fn: 미분값을 계산한 함수에 대한 정보 저장 (어떤 함수에 대해서 backprop 했는지)\n",
    "\n",
    "requires_grad 속성을 True로 설정하면, 해당 텐서에서 이루어지는 모든 연산들을 추적하기 시작\n",
    "\n",
    "계산이 완료된 후, .backward()를 호출하면 자동으로 gradient를 계산할 수 있으며, .grad 속성에 누적됨\n",
    "\n",
    "기록을 추적하는 것을 중단하게 하려면, .detach()를 호출하여 연산기록으로부터 분리\n",
    "\n",
    "기록을 추적하는 것을 방지하기 위해 코드 블럭을 with torch.no_grad():로 감싸면 gradient는 필요없지만, requires_grad=True로 설정되어 학습 가능한 매개변수를 갖는 모델을 평가(evaluate)할 때 유용\n",
    "\n",
    "Autograd 구현에서 매우 중요한 클래스 : Function 클래스"
   ],
   "metadata": {
    "collapsed": false,
    "pycharm": {
     "name": "#%% md\n"
    }
   }
  },
  {
   "cell_type": "code",
   "execution_count": 1,
   "outputs": [
    {
     "name": "stdout",
     "output_type": "stream",
     "text": [
      "tensor([[1., 1., 1.],\n",
      "        [1., 1., 1.],\n",
      "        [1., 1., 1.]], requires_grad=True)\n"
     ]
    }
   ],
   "source": [
    "import torch\n",
    "x = torch.ones(3, 3, requires_grad=True)\n",
    "print(x)"
   ],
   "metadata": {
    "collapsed": false,
    "pycharm": {
     "name": "#%%\n"
    }
   }
  },
  {
   "cell_type": "code",
   "execution_count": 2,
   "outputs": [
    {
     "name": "stdout",
     "output_type": "stream",
     "text": [
      "tensor([[6., 6., 6.],\n",
      "        [6., 6., 6.],\n",
      "        [6., 6., 6.]], grad_fn=<AddBackward0>)\n"
     ]
    }
   ],
   "source": [
    "y = x + 5\n",
    "print(y)"
   ],
   "metadata": {
    "collapsed": false,
    "pycharm": {
     "name": "#%%\n"
    }
   }
  },
  {
   "cell_type": "code",
   "execution_count": 3,
   "outputs": [
    {
     "name": "stdout",
     "output_type": "stream",
     "text": [
      "<AddBackward0 object at 0x00000170100BA0A0>\n"
     ]
    }
   ],
   "source": [
    "print(y.grad_fn)"
   ],
   "metadata": {
    "collapsed": false,
    "pycharm": {
     "name": "#%%\n"
    }
   }
  },
  {
   "cell_type": "code",
   "execution_count": 4,
   "outputs": [
    {
     "name": "stdout",
     "output_type": "stream",
     "text": [
      "tensor([[72., 72., 72.],\n",
      "        [72., 72., 72.],\n",
      "        [72., 72., 72.]], grad_fn=<MulBackward0>) tensor(72., grad_fn=<MeanBackward0>)\n"
     ]
    }
   ],
   "source": [
    "z =  y * y * 2\n",
    "out = z.mean()\n",
    "print(z, out)"
   ],
   "metadata": {
    "collapsed": false,
    "pycharm": {
     "name": "#%%\n"
    }
   }
  },
  {
   "cell_type": "markdown",
   "source": [
    "requires_grad_(...)는 기존 텐서의 requires_grad값을 바꿔치기(in-place)하여 변경"
   ],
   "metadata": {
    "collapsed": false,
    "pycharm": {
     "name": "#%% md\n"
    }
   }
  },
  {
   "cell_type": "code",
   "execution_count": 8,
   "outputs": [
    {
     "name": "stdout",
     "output_type": "stream",
     "text": [
      "False\n",
      "True\n",
      "<SumBackward0 object at 0x000001701732ED30>\n"
     ]
    }
   ],
   "source": [
    "a = torch.randn(3,3)\n",
    "a = ((a * 3) / (a - 1))\n",
    "print(a.requires_grad)\n",
    "\n",
    "a.requires_grad_(True)\n",
    "print(a.requires_grad)\n",
    "\n",
    "b = (a * a).sum()\n",
    "print(b.grad_fn)"
   ],
   "metadata": {
    "collapsed": false,
    "pycharm": {
     "name": "#%%\n"
    }
   }
  },
  {
   "cell_type": "markdown",
   "source": [
    "기울기(Gradient)\n",
    "역전파: .backward()를 통해 역전파 계산 가능"
   ],
   "metadata": {
    "collapsed": false,
    "pycharm": {
     "name": "#%% md\n"
    }
   }
  },
  {
   "cell_type": "code",
   "execution_count": 9,
   "outputs": [],
   "source": [
    "out.backward()"
   ],
   "metadata": {
    "collapsed": false,
    "pycharm": {
     "name": "#%%\n"
    }
   }
  },
  {
   "cell_type": "code",
   "execution_count": 10,
   "outputs": [
    {
     "name": "stdout",
     "output_type": "stream",
     "text": [
      "tensor([[2.6667, 2.6667, 2.6667],\n",
      "        [2.6667, 2.6667, 2.6667],\n",
      "        [2.6667, 2.6667, 2.6667]])\n"
     ]
    }
   ],
   "source": [
    "print(x.grad)"
   ],
   "metadata": {
    "collapsed": false,
    "pycharm": {
     "name": "#%%\n"
    }
   }
  },
  {
   "cell_type": "code",
   "execution_count": 13,
   "outputs": [
    {
     "name": "stdout",
     "output_type": "stream",
     "text": [
      "tensor([ 0.8241,  1.1607, -0.5850], requires_grad=True)\n",
      "tensor([ 843.8942, 1188.5480, -599.0236], grad_fn=<MulBackward0>)\n"
     ]
    }
   ],
   "source": [
    "x = torch.randn(3, requires_grad=True)\n",
    "print(x)\n",
    "\n",
    "y = x * 2\n",
    "while y.data.norm() < 1000:\n",
    "    y = y * 2\n",
    "\n",
    "print(y)"
   ],
   "metadata": {
    "collapsed": false,
    "pycharm": {
     "name": "#%%\n"
    }
   }
  },
  {
   "cell_type": "code",
   "execution_count": 14,
   "outputs": [
    {
     "name": "stdout",
     "output_type": "stream",
     "text": [
      "tensor([ 102.4000, 1024.0000,    1.0240])\n"
     ]
    }
   ],
   "source": [
    "v = torch.tensor([0.1, 1.0, 0.001], dtype=torch.float)\n",
    "y.backward(v)\n",
    "\n",
    "print(x.grad)"
   ],
   "metadata": {
    "collapsed": false,
    "pycharm": {
     "name": "#%%\n"
    }
   }
  },
  {
   "cell_type": "markdown",
   "source": [
    "자동 미분 흐름 다시 보기(1)\n",
    "계산 흐름\n",
    "a→b→c→out\n",
    "\n",
    "∂out∂a=?\n",
    "backward()를 통해\n",
    "\n",
    "a←b←c←out 을 계산하면\n",
    "∂out∂a 값이 a.grad에 채워짐"
   ],
   "metadata": {
    "collapsed": false,
    "pycharm": {
     "name": "#%% md\n"
    }
   }
  },
  {
   "cell_type": "code",
   "execution_count": 15,
   "outputs": [
    {
     "name": "stdout",
     "output_type": "stream",
     "text": [
      "tensor([[1., 1.],\n",
      "        [1., 1.]])\n"
     ]
    }
   ],
   "source": [
    "import torch\n",
    "a = torch.ones(2,2)\n",
    "print(a)"
   ],
   "metadata": {
    "collapsed": false,
    "pycharm": {
     "name": "#%%\n"
    }
   }
  },
  {
   "cell_type": "code",
   "execution_count": 26,
   "outputs": [
    {
     "name": "stdout",
     "output_type": "stream",
     "text": [
      "tensor([[1., 1.],\n",
      "        [1., 1.]], requires_grad=True)\n"
     ]
    }
   ],
   "source": [
    "a = torch.ones(2, 2, requires_grad=True)\n",
    "print(a)"
   ],
   "metadata": {
    "collapsed": false,
    "pycharm": {
     "name": "#%%\n"
    }
   }
  },
  {
   "cell_type": "code",
   "execution_count": 27,
   "outputs": [
    {
     "name": "stdout",
     "output_type": "stream",
     "text": [
      "a.data tensor([[1., 1.],\n",
      "        [1., 1.]], requires_grad=True)\n",
      "a.grad None\n",
      "a.grad_fn None\n"
     ]
    }
   ],
   "source": [
    "print(\"a.data\", a)\n",
    "print(\"a.grad\", a.grad)\n",
    "print(\"a.grad_fn\", a.grad_fn)"
   ],
   "metadata": {
    "collapsed": false,
    "pycharm": {
     "name": "#%%\n"
    }
   }
  },
  {
   "cell_type": "code",
   "execution_count": 28,
   "outputs": [
    {
     "name": "stdout",
     "output_type": "stream",
     "text": [
      "tensor([[3., 3.],\n",
      "        [3., 3.]], grad_fn=<AddBackward0>)\n"
     ]
    }
   ],
   "source": [
    "b = a + 2\n",
    "print(b)"
   ],
   "metadata": {
    "collapsed": false,
    "pycharm": {
     "name": "#%%\n"
    }
   }
  },
  {
   "cell_type": "code",
   "execution_count": 29,
   "outputs": [
    {
     "name": "stdout",
     "output_type": "stream",
     "text": [
      "tensor([[9., 9.],\n",
      "        [9., 9.]], grad_fn=<PowBackward0>)\n"
     ]
    }
   ],
   "source": [
    "c = b**2\n",
    "print(c)"
   ],
   "metadata": {
    "collapsed": false,
    "pycharm": {
     "name": "#%%\n"
    }
   }
  },
  {
   "cell_type": "code",
   "execution_count": 30,
   "outputs": [
    {
     "name": "stdout",
     "output_type": "stream",
     "text": [
      "tensor(36., grad_fn=<SumBackward0>)\n"
     ]
    }
   ],
   "source": [
    "out = c.sum()\n",
    "print(out)"
   ],
   "metadata": {
    "collapsed": false,
    "pycharm": {
     "name": "#%%\n"
    }
   }
  },
  {
   "cell_type": "code",
   "execution_count": 31,
   "outputs": [
    {
     "name": "stdout",
     "output_type": "stream",
     "text": [
      "a.data tensor([[1., 1.],\n",
      "        [1., 1.]], requires_grad=True)\n",
      "a.grad tensor([[6., 6.],\n",
      "        [6., 6.]])\n",
      "a.grad_fn None\n"
     ]
    }
   ],
   "source": [
    "out.backward()\n",
    "print(\"a.data\", a)\n",
    "print(\"a.grad\", a.grad)\n",
    "print(\"a.grad_fn\", a.grad_fn)"
   ],
   "metadata": {
    "collapsed": false,
    "pycharm": {
     "name": "#%%\n"
    }
   }
  },
  {
   "cell_type": "code",
   "execution_count": 32,
   "outputs": [
    {
     "name": "stdout",
     "output_type": "stream",
     "text": [
      "b.data tensor([[3., 3.],\n",
      "        [3., 3.]], grad_fn=<AddBackward0>)\n",
      "b.grad None\n",
      "b.grad_fn <AddBackward0 object at 0x0000017018242D30>\n"
     ]
    },
    {
     "name": "stderr",
     "output_type": "stream",
     "text": [
      "C:\\Users\\pjm98\\PycharmProjects\\pytorch_image\\venv\\lib\\site-packages\\torch\\_tensor.py:1083: UserWarning: The .grad attribute of a Tensor that is not a leaf Tensor is being accessed. Its .grad attribute won't be populated during autograd.backward(). If you indeed want the .grad field to be populated for a non-leaf Tensor, use .retain_grad() on the non-leaf Tensor. If you access the non-leaf Tensor by mistake, make sure you access the leaf Tensor instead. See github.com/pytorch/pytorch/pull/30531 for more informations. (Triggered internally at  C:\\actions-runner\\_work\\pytorch\\pytorch\\builder\\windows\\pytorch\\build\\aten\\src\\ATen/core/TensorBody.h:482.)\n",
      "  return self._grad\n"
     ]
    }
   ],
   "source": [
    "print(\"b.data\", b)\n",
    "print(\"b.grad\", b.grad)\n",
    "print(\"b.grad_fn\", b.grad_fn)"
   ],
   "metadata": {
    "collapsed": false,
    "pycharm": {
     "name": "#%%\n"
    }
   }
  },
  {
   "cell_type": "code",
   "execution_count": 33,
   "outputs": [
    {
     "name": "stdout",
     "output_type": "stream",
     "text": [
      "c.data tensor([[9., 9.],\n",
      "        [9., 9.]], grad_fn=<PowBackward0>)\n",
      "c.grad None\n",
      "c.grad_fn <PowBackward0 object at 0x00000170172E6670>\n"
     ]
    },
    {
     "name": "stderr",
     "output_type": "stream",
     "text": [
      "C:\\Users\\pjm98\\PycharmProjects\\pytorch_image\\venv\\lib\\site-packages\\torch\\_tensor.py:1083: UserWarning: The .grad attribute of a Tensor that is not a leaf Tensor is being accessed. Its .grad attribute won't be populated during autograd.backward(). If you indeed want the .grad field to be populated for a non-leaf Tensor, use .retain_grad() on the non-leaf Tensor. If you access the non-leaf Tensor by mistake, make sure you access the leaf Tensor instead. See github.com/pytorch/pytorch/pull/30531 for more informations. (Triggered internally at  C:\\actions-runner\\_work\\pytorch\\pytorch\\builder\\windows\\pytorch\\build\\aten\\src\\ATen/core/TensorBody.h:482.)\n",
      "  return self._grad\n"
     ]
    }
   ],
   "source": [
    "print(\"c.data\", c)\n",
    "print(\"c.grad\", c.grad)\n",
    "print(\"c.grad_fn\", c.grad_fn)"
   ],
   "metadata": {
    "collapsed": false,
    "pycharm": {
     "name": "#%%\n"
    }
   }
  },
  {
   "cell_type": "code",
   "execution_count": 34,
   "outputs": [
    {
     "name": "stdout",
     "output_type": "stream",
     "text": [
      "out.data tensor(36., grad_fn=<SumBackward0>)\n",
      "out.grad None\n",
      "out.grad_fn <SumBackward0 object at 0x000001706AEA3FD0>\n"
     ]
    },
    {
     "name": "stderr",
     "output_type": "stream",
     "text": [
      "C:\\Users\\pjm98\\PycharmProjects\\pytorch_image\\venv\\lib\\site-packages\\torch\\_tensor.py:1083: UserWarning: The .grad attribute of a Tensor that is not a leaf Tensor is being accessed. Its .grad attribute won't be populated during autograd.backward(). If you indeed want the .grad field to be populated for a non-leaf Tensor, use .retain_grad() on the non-leaf Tensor. If you access the non-leaf Tensor by mistake, make sure you access the leaf Tensor instead. See github.com/pytorch/pytorch/pull/30531 for more informations. (Triggered internally at  C:\\actions-runner\\_work\\pytorch\\pytorch\\builder\\windows\\pytorch\\build\\aten\\src\\ATen/core/TensorBody.h:482.)\n",
      "  return self._grad\n"
     ]
    }
   ],
   "source": [
    "print(\"out.data\", out)\n",
    "print(\"out.grad\", out.grad)\n",
    "print(\"out.grad_fn\", out.grad_fn)"
   ],
   "metadata": {
    "collapsed": false,
    "pycharm": {
     "name": "#%%\n"
    }
   }
  },
  {
   "cell_type": "markdown",
   "source": [
    "## nn & nn.functional\n",
    "두 패키지가 같은 기능이지만 방식이 조금 다름\n",
    "\n",
    "위의 autograd 관련 작업들을 두 패키지를 통해 진행할 수 있음\n",
    "\n",
    "텐서를 직접 다룰 때 requires_grad와 같은 방식으로 진행할 수 있음\n",
    "\n",
    "결론적으로, torch.nn은 attribute를 활용해 state를 저장하고 활용하고,\n",
    "torch.nn.functional로 구현한 함수의 경우에는 인스턴스화 시킬 필요 없이 사용이 가능"
   ],
   "metadata": {
    "collapsed": false,
    "pycharm": {
     "name": "#%% md\n"
    }
   }
  },
  {
   "cell_type": "markdown",
   "source": [
    "## nn 패키지\n",
    "주로 가중치(weights), 편향(bias)값들이 내부에서 자동으로 생성되는 레이어들을 사용할 때\n",
    "\n",
    "따라서, weight값들을 직접 선언 안함\n",
    "예시\n",
    "\n",
    "Containers\n",
    "\n",
    "Convolution Layers\n",
    "\n",
    "Pooling layers\n",
    "\n",
    "Padding Layers\n",
    "\n",
    "Non-linear Activations (weighted sum, nonlinearity)\n",
    "\n",
    "Non-linear Activations (other)\n",
    "\n",
    "Normalization Layers\n",
    "\n",
    "Recurrent Layers\n",
    "\n",
    "Transformer Layers\n",
    "\n",
    "Linear Layers\n",
    "\n",
    "Dropout Layers\n",
    "\n",
    "Sparse Layers\n",
    "\n",
    "Distance Functions\n",
    "\n",
    "Loss Functions"
   ],
   "metadata": {
    "collapsed": false,
    "pycharm": {
     "name": "#%% md\n"
    }
   }
  },
  {
   "cell_type": "code",
   "execution_count": 36,
   "outputs": [],
   "source": [
    "import torch\n",
    "import torch.nn as nn"
   ],
   "metadata": {
    "collapsed": false,
    "pycharm": {
     "name": "#%%\n"
    }
   }
  },
  {
   "cell_type": "code",
   "execution_count": 38,
   "outputs": [
    {
     "name": "stdout",
     "output_type": "stream",
     "text": [
      "tensor([[[[ 3.4544e-01, -6.7082e-02, -5.2966e-01,  ...,  6.7880e-01,\n",
      "           -3.2373e-01,  4.2794e-01],\n",
      "          [-1.1754e+00,  5.1228e-01, -7.4649e-01,  ..., -9.0243e-01,\n",
      "           -1.0631e+00,  1.1820e+00],\n",
      "          [-6.4549e-01,  2.0090e-01, -2.3482e-01,  ...,  3.2799e-01,\n",
      "            1.3873e+00, -2.2724e-01],\n",
      "          ...,\n",
      "          [-3.1855e-02, -2.1912e-01,  1.4961e+00,  ..., -7.8725e-02,\n",
      "           -1.9245e+00,  1.7191e+00],\n",
      "          [ 1.8861e+00,  3.9927e-01, -2.4903e-01,  ...,  2.0241e+00,\n",
      "            8.2510e-01,  3.0530e-02],\n",
      "          [ 1.2742e+00, -5.8601e-01, -1.0199e+00,  ..., -4.2455e-01,\n",
      "            1.7671e-01, -2.0260e-01]],\n",
      "\n",
      "         [[-1.0445e+00,  5.7953e-01,  2.9674e-01,  ...,  6.2609e-01,\n",
      "            1.7465e+00, -4.1992e-01],\n",
      "          [-6.9096e-02,  7.8954e-02,  6.5288e-01,  ...,  9.6059e-01,\n",
      "           -1.3862e+00,  1.2550e+00],\n",
      "          [-7.8445e-01, -2.6093e+00, -5.9307e-01,  ..., -1.1858e-01,\n",
      "           -1.5006e-01,  8.7295e-02],\n",
      "          ...,\n",
      "          [ 3.7199e-01,  1.4935e+00,  1.9328e-01,  ..., -4.1520e-01,\n",
      "            1.3504e+00,  1.0723e+00],\n",
      "          [ 1.4990e+00,  2.9843e-01, -8.0805e-02,  ..., -6.7228e-01,\n",
      "           -5.2815e-01, -7.1595e-01],\n",
      "          [ 1.4874e+00, -4.3952e-01,  6.6142e-01,  ...,  5.3564e-01,\n",
      "            1.0604e+00,  6.1542e-01]],\n",
      "\n",
      "         [[ 1.7517e+00, -2.0310e+00,  7.6643e-01,  ...,  1.3614e+00,\n",
      "            2.9212e-01, -6.4886e-01],\n",
      "          [ 1.9394e+00, -1.4054e+00,  6.0513e-01,  ...,  2.3834e-01,\n",
      "           -6.9887e-01, -1.8044e+00],\n",
      "          [-3.5320e-01,  6.8569e-01, -1.0510e+00,  ...,  8.4069e-01,\n",
      "            8.0329e-01, -9.2916e-01],\n",
      "          ...,\n",
      "          [ 2.5309e-01, -2.3330e-01,  1.0533e-01,  ..., -1.4759e+00,\n",
      "            2.8401e-01, -8.4947e-01],\n",
      "          [-5.7438e-01, -1.1269e+00, -5.9798e-01,  ...,  3.5661e-01,\n",
      "           -1.3895e+00,  5.8452e-01],\n",
      "          [ 1.3767e+00,  1.5571e+00, -1.4053e+00,  ...,  3.3927e+00,\n",
      "           -2.5974e-01, -1.1991e+00]],\n",
      "\n",
      "         ...,\n",
      "\n",
      "         [[ 3.7171e-01,  1.7087e-01,  7.8940e-01,  ..., -3.0399e+00,\n",
      "            7.2696e-02, -7.3869e-01],\n",
      "          [ 2.7442e-01,  1.7069e+00, -5.0457e-01,  ...,  4.0002e-01,\n",
      "           -5.8625e-01, -5.3261e-01],\n",
      "          [-1.0942e+00,  1.1985e+00,  3.9720e-01,  ..., -2.5079e-01,\n",
      "           -5.4168e-01,  5.9855e-01],\n",
      "          ...,\n",
      "          [ 2.1827e+00,  1.3980e-01,  1.1398e+00,  ..., -9.5898e-02,\n",
      "            9.8856e-01,  7.8076e-01],\n",
      "          [-7.6897e-02,  2.0832e+00,  3.3814e-01,  ..., -4.8530e-01,\n",
      "           -8.0341e-01,  2.4434e-01],\n",
      "          [ 2.7508e-01,  1.2355e+00, -1.5064e+00,  ..., -2.4859e+00,\n",
      "            1.6592e-01,  6.3807e-01]],\n",
      "\n",
      "         [[-2.3301e-01, -7.0931e-01, -1.0563e+00,  ...,  9.7178e-01,\n",
      "           -6.0252e-01,  8.3342e-01],\n",
      "          [ 1.4207e+00, -1.6080e-01,  1.8076e-02,  ...,  7.0074e-01,\n",
      "            1.1465e+00,  1.4091e+00],\n",
      "          [ 1.0295e+00, -9.5846e-01, -9.2483e-01,  ..., -7.1786e-01,\n",
      "           -9.5044e-01,  5.4734e-01],\n",
      "          ...,\n",
      "          [ 1.0162e+00,  5.3408e-02,  6.8676e-01,  ...,  5.3263e-01,\n",
      "           -7.4365e-01, -5.8096e-01],\n",
      "          [ 1.1910e+00, -9.8647e-01,  1.2694e+00,  ...,  2.0712e-01,\n",
      "           -1.2936e-01, -1.0958e+00],\n",
      "          [-3.2524e-01,  1.3925e-01, -4.7931e-01,  ..., -8.6808e-02,\n",
      "            2.9940e-01, -9.2232e-01]],\n",
      "\n",
      "         [[ 7.5903e-01, -3.4717e-01,  1.2762e-01,  ...,  6.8128e-01,\n",
      "            9.7684e-01, -4.1069e-01],\n",
      "          [ 1.0549e+00,  1.0774e+00,  1.5808e-01,  ...,  1.4520e-01,\n",
      "           -2.2704e+00, -1.0557e+00],\n",
      "          [-1.1255e+00, -7.8160e-02,  1.4068e+00,  ...,  9.8178e-01,\n",
      "           -1.5403e-01,  4.1410e-01],\n",
      "          ...,\n",
      "          [ 6.5495e-01,  1.1325e+00, -5.5289e-01,  ..., -4.2024e-02,\n",
      "           -2.0464e-01,  1.6004e+00],\n",
      "          [ 5.8016e-01,  5.1387e-01,  2.5885e-01,  ...,  8.7088e-01,\n",
      "            3.7215e-01,  7.6219e-01],\n",
      "          [-1.6036e+00, -3.3491e-01,  1.7156e-01,  ..., -1.8074e-01,\n",
      "           -1.7313e+00, -2.2666e-01]]],\n",
      "\n",
      "\n",
      "        [[[ 1.3186e+00,  9.0023e-01,  1.1386e+00,  ...,  4.1095e-01,\n",
      "           -7.7488e-01, -1.3152e+00],\n",
      "          [ 2.8240e-01,  1.5496e-01, -6.3331e-01,  ...,  1.8745e+00,\n",
      "           -5.1414e-01,  3.1315e-01],\n",
      "          [ 1.1637e-01,  1.3140e+00,  1.4318e+00,  ...,  9.5305e-01,\n",
      "           -5.1635e-01, -3.3431e-01],\n",
      "          ...,\n",
      "          [-1.1830e+00, -1.9561e+00,  2.4338e-01,  ...,  4.6687e-01,\n",
      "            7.3772e-02, -1.0828e+00],\n",
      "          [-2.6042e-01,  9.6571e-02,  3.1069e-01,  ...,  4.2393e-01,\n",
      "           -7.3087e-03,  2.6988e-01],\n",
      "          [-1.0457e+00, -1.5864e+00, -1.4463e-02,  ..., -7.2634e-01,\n",
      "            3.4190e-01, -1.5619e+00]],\n",
      "\n",
      "         [[ 3.8588e-02, -7.7785e-01,  1.2507e+00,  ...,  1.6081e+00,\n",
      "            3.1099e-01, -3.0978e-01],\n",
      "          [-2.9612e+00, -2.0818e+00, -2.9542e-01,  ...,  9.1425e-01,\n",
      "            7.8758e-01,  8.4599e-01],\n",
      "          [ 5.7304e-01, -9.8123e-01,  5.6977e-01,  ...,  7.8875e-01,\n",
      "            3.7605e-01,  4.3033e-02],\n",
      "          ...,\n",
      "          [ 8.5412e-01, -5.3111e-01,  1.4981e+00,  ..., -4.6715e-01,\n",
      "            5.2756e-01, -1.6813e+00],\n",
      "          [ 2.5267e-01, -2.1845e-01,  2.8584e-01,  ..., -2.4448e+00,\n",
      "            1.5169e+00,  1.3817e+00],\n",
      "          [-4.7973e-01,  4.2449e-01, -2.0696e-01,  ..., -7.8246e-01,\n",
      "           -8.6005e-01, -8.1149e-02]],\n",
      "\n",
      "         [[ 5.6637e-01,  1.6495e+00,  3.3698e-01,  ...,  3.1530e-01,\n",
      "            4.2552e-02, -9.1868e-01],\n",
      "          [ 7.4634e-01,  1.7141e+00,  3.2252e-01,  ..., -6.9037e-01,\n",
      "            5.2709e-01, -1.2416e+00],\n",
      "          [-1.9012e-01,  5.7583e-01,  1.3120e+00,  ...,  2.5332e+00,\n",
      "           -5.9957e-01, -9.3271e-01],\n",
      "          ...,\n",
      "          [ 2.2895e-01,  1.2208e+00, -1.6834e+00,  ...,  3.3806e-01,\n",
      "           -5.3243e-01, -8.6021e-02],\n",
      "          [ 1.6503e-01,  1.1737e+00,  2.8353e-01,  ..., -1.8577e+00,\n",
      "            5.4142e-01,  8.9989e-01],\n",
      "          [ 1.2664e+00,  1.6784e-02,  1.4554e+00,  ...,  9.5883e-01,\n",
      "           -2.2883e+00, -6.0673e-01]],\n",
      "\n",
      "         ...,\n",
      "\n",
      "         [[ 1.3096e+00, -2.9046e-01, -1.2576e+00,  ..., -2.2207e+00,\n",
      "           -5.3254e-01,  1.6194e+00],\n",
      "          [-7.0512e-01, -9.3133e-01,  1.4913e+00,  ..., -8.9024e-01,\n",
      "            1.8085e-01, -3.4022e-02],\n",
      "          [-3.2944e-01,  7.2473e-01,  1.7165e+00,  ..., -3.5710e-01,\n",
      "           -1.9885e-01,  3.3502e-01],\n",
      "          ...,\n",
      "          [ 6.3524e-01,  9.5669e-01,  8.2066e-01,  ..., -1.7088e+00,\n",
      "            2.6287e-01, -5.7310e-01],\n",
      "          [-6.4831e-01,  2.8156e-01,  7.8803e-01,  ..., -5.8643e-01,\n",
      "           -4.1848e-01,  4.0730e-01],\n",
      "          [-4.0949e-01,  1.5423e-01,  5.2931e-01,  ...,  2.3255e-01,\n",
      "            1.3895e+00, -1.5849e+00]],\n",
      "\n",
      "         [[ 1.6657e-01, -2.9061e-01, -1.9615e+00,  ..., -1.4343e+00,\n",
      "            4.5637e-01,  7.4990e-02],\n",
      "          [ 3.1224e-01, -5.1628e-01, -3.2164e-02,  ..., -1.5273e+00,\n",
      "           -1.2143e+00, -3.8758e-01],\n",
      "          [-7.1896e-01,  1.8814e-01, -2.3535e-01,  ..., -5.2343e-01,\n",
      "           -1.4870e+00, -7.8260e-01],\n",
      "          ...,\n",
      "          [ 4.3885e-01, -7.5230e-02,  2.8913e-01,  ...,  1.2351e+00,\n",
      "            3.9051e-02,  5.1255e-01],\n",
      "          [-3.0054e-02,  8.0759e-01, -3.8963e-01,  ..., -8.2399e-01,\n",
      "            1.3030e+00, -3.7132e-01],\n",
      "          [-1.7275e-01, -1.1260e+00,  1.6577e+00,  ...,  1.0266e+00,\n",
      "            5.9928e-01, -2.8591e-01]],\n",
      "\n",
      "         [[ 1.9791e-01, -1.7983e+00, -2.7713e-02,  ...,  1.2716e-01,\n",
      "            6.7879e-02, -1.1792e+00],\n",
      "          [-9.9528e-01, -8.9126e-01, -6.9337e-02,  ...,  6.6655e-01,\n",
      "            2.1457e-01, -1.2930e+00],\n",
      "          [-4.7074e-01,  4.6252e-01,  1.2673e-01,  ..., -4.1171e-01,\n",
      "            8.7395e-02,  1.2493e+00],\n",
      "          ...,\n",
      "          [ 6.8550e-01, -1.1615e+00, -1.4277e-02,  ..., -1.0959e+00,\n",
      "            5.0062e-01, -2.4298e-01],\n",
      "          [-1.9097e+00,  1.1423e-01,  4.7797e-02,  ..., -1.5935e-02,\n",
      "            8.8072e-01, -1.1749e+00],\n",
      "          [ 8.3789e-01, -4.0351e-01, -1.5315e+00,  ...,  2.6285e-01,\n",
      "           -6.7791e-01, -4.3266e-01]]],\n",
      "\n",
      "\n",
      "        [[[-1.0303e+00,  2.4351e+00, -1.2971e+00,  ...,  2.3012e-01,\n",
      "           -6.1995e-01,  1.1392e-01],\n",
      "          [-9.4685e-02,  6.0950e-01, -1.1096e+00,  ..., -5.8893e-01,\n",
      "            3.3576e-02, -6.2964e-01],\n",
      "          [ 1.8758e+00, -1.9103e-01, -6.3930e-02,  ...,  1.6214e+00,\n",
      "            2.8176e-01, -2.5302e-01],\n",
      "          ...,\n",
      "          [-2.2348e-01,  1.0843e+00,  3.0547e-01,  ..., -8.5886e-01,\n",
      "           -1.5136e-01,  9.4238e-01],\n",
      "          [ 6.1642e-01,  7.8047e-01,  7.1272e-01,  ...,  2.8451e-01,\n",
      "            1.0364e+00, -9.2895e-01],\n",
      "          [-3.8495e-01, -6.9793e-01,  1.3023e+00,  ..., -1.0540e+00,\n",
      "            2.2348e+00,  2.5198e-01]],\n",
      "\n",
      "         [[-7.6445e-01, -1.5387e+00, -3.7519e-01,  ..., -3.0178e-01,\n",
      "           -1.3273e-01, -1.6850e+00],\n",
      "          [ 1.7074e-01,  1.7338e-01,  1.6666e+00,  ...,  4.4858e-01,\n",
      "            1.4356e+00, -3.5218e-01],\n",
      "          [-1.2953e+00, -4.4865e-01, -5.0975e-01,  ...,  1.7526e-01,\n",
      "            5.9387e-01, -9.9125e-02],\n",
      "          ...,\n",
      "          [ 3.2781e-01, -7.5789e-02,  7.1367e-01,  ...,  1.6992e-01,\n",
      "           -1.5666e-01, -6.8707e-01],\n",
      "          [-2.0877e+00, -4.9949e-01,  2.1340e-01,  ...,  1.6285e-01,\n",
      "            4.2420e-01,  4.4192e-01],\n",
      "          [-1.4143e-01, -1.7551e+00, -1.1164e+00,  ..., -8.7267e-01,\n",
      "           -6.6234e-02, -3.0439e-01]],\n",
      "\n",
      "         [[ 1.0744e+00, -5.1936e-01,  5.3144e-01,  ..., -9.2987e-02,\n",
      "            1.2310e+00,  5.9897e-01],\n",
      "          [ 8.9916e-01,  2.2145e+00,  2.7424e+00,  ..., -2.5741e-01,\n",
      "            8.7943e-01,  1.3469e-01],\n",
      "          [-5.6339e-01, -6.7629e-01, -5.1205e-01,  ...,  9.1227e-01,\n",
      "            2.1605e+00, -1.3540e+00],\n",
      "          ...,\n",
      "          [ 9.6166e-01,  2.3754e-01, -9.5067e-01,  ...,  1.8174e+00,\n",
      "            1.3845e-01, -2.8114e-01],\n",
      "          [-1.0497e-01, -1.1179e+00, -1.6426e-01,  ...,  6.6249e-01,\n",
      "            1.1698e-01, -2.0309e-01],\n",
      "          [-1.3692e+00, -1.3334e+00,  1.8789e+00,  ...,  5.0062e-01,\n",
      "            6.0671e-01, -8.5165e-01]],\n",
      "\n",
      "         ...,\n",
      "\n",
      "         [[-1.1430e+00,  1.5407e+00,  8.3349e-01,  ...,  3.7744e-01,\n",
      "           -2.0451e+00,  9.3235e-01],\n",
      "          [ 2.3467e+00, -1.2714e+00,  6.6924e-01,  ...,  1.0305e+00,\n",
      "            5.6521e-01,  1.5505e+00],\n",
      "          [-1.0128e+00, -1.2972e+00, -4.2091e-01,  ..., -7.7055e-01,\n",
      "           -8.8942e-01, -8.5222e-01],\n",
      "          ...,\n",
      "          [-8.5311e-01, -1.1252e-01, -1.2992e+00,  ...,  1.9773e+00,\n",
      "           -7.5706e-01,  2.0840e+00],\n",
      "          [-7.9969e-01,  4.1369e-01, -5.5059e-01,  ...,  1.6019e-02,\n",
      "           -8.1918e-01, -6.4442e-01],\n",
      "          [ 1.3318e+00,  7.3641e-01, -1.1208e+00,  ..., -1.5115e+00,\n",
      "            5.9066e-01, -8.8506e-01]],\n",
      "\n",
      "         [[-6.3199e-01, -6.7006e-01,  9.6233e-01,  ..., -1.3987e-01,\n",
      "            1.6916e-01, -1.1363e+00],\n",
      "          [-1.6642e+00, -7.3791e-01, -7.0293e-01,  ..., -4.4064e-02,\n",
      "            2.0107e+00, -2.3152e-01],\n",
      "          [-1.1233e+00, -3.2371e-01, -3.1393e-01,  ...,  7.3034e-01,\n",
      "            9.7281e-01, -5.6617e-01],\n",
      "          ...,\n",
      "          [ 5.5734e-01, -3.2661e-01,  2.0052e+00,  ...,  9.3267e-02,\n",
      "           -5.3365e-02, -1.7863e+00],\n",
      "          [ 1.2989e+00, -2.2957e+00,  1.3203e+00,  ..., -3.4729e-01,\n",
      "            2.1194e+00,  1.1871e+00],\n",
      "          [ 1.7316e+00,  3.7900e-01, -2.6816e+00,  ..., -6.0389e-01,\n",
      "            7.6541e-01,  8.8797e-01]],\n",
      "\n",
      "         [[ 7.4529e-01,  2.1921e-01,  6.4851e-01,  ..., -3.2253e-01,\n",
      "           -7.8350e-01,  1.3470e+00],\n",
      "          [-1.6326e+00,  1.1288e+00,  7.7421e-01,  ...,  2.5438e-01,\n",
      "            2.2267e-01,  4.6527e-01],\n",
      "          [-1.4894e+00, -3.2485e-01,  2.1817e+00,  ..., -1.0466e+00,\n",
      "            7.7635e-01, -9.0074e-01],\n",
      "          ...,\n",
      "          [ 3.7898e-01,  1.5852e+00,  2.5500e+00,  ..., -8.4296e-01,\n",
      "           -1.3380e+00,  1.5102e+00],\n",
      "          [ 1.7056e+00, -4.9921e-01,  7.3803e-02,  ...,  7.7961e-01,\n",
      "           -8.2108e-01, -4.8990e-01],\n",
      "          [-2.2778e-01, -4.1785e-01, -1.6029e+00,  ...,  1.2382e-01,\n",
      "            1.5347e-01, -5.9062e-02]]],\n",
      "\n",
      "\n",
      "        ...,\n",
      "\n",
      "\n",
      "        [[[-3.9476e-01, -1.6267e+00,  3.6335e-01,  ...,  8.3512e-01,\n",
      "           -7.9389e-01,  4.0943e-01],\n",
      "          [-1.1897e-01, -6.5861e-01, -2.5390e-02,  ...,  7.0786e-01,\n",
      "           -4.0086e-01, -1.0655e+00],\n",
      "          [ 1.7926e+00, -2.6043e-01,  4.7191e-02,  ..., -6.8975e-01,\n",
      "           -3.8654e-01, -9.2938e-02],\n",
      "          ...,\n",
      "          [ 2.2453e-01, -2.5907e+00,  8.4688e-02,  ...,  9.5915e-02,\n",
      "           -1.0332e-01, -1.4170e-01],\n",
      "          [ 8.8029e-01,  4.7767e-01,  2.4477e+00,  ...,  8.9674e-01,\n",
      "            4.1155e-01,  1.2780e+00],\n",
      "          [-1.1339e+00,  9.6172e-01,  9.7870e-01,  ..., -1.4665e+00,\n",
      "           -3.7321e-01,  5.4142e-01]],\n",
      "\n",
      "         [[-1.4086e+00,  1.5840e+00,  4.1417e-01,  ..., -2.1229e-01,\n",
      "            4.1271e-01,  9.6255e-01],\n",
      "          [-1.0829e+00,  1.0467e+00,  8.0773e-02,  ..., -6.3229e-01,\n",
      "           -1.1473e+00,  3.1398e-01],\n",
      "          [ 2.4228e-01,  1.0414e+00, -2.9046e-01,  ...,  1.0305e+00,\n",
      "           -1.1025e-02, -4.9838e-01],\n",
      "          ...,\n",
      "          [ 1.1180e-02,  4.2957e-01,  1.6633e+00,  ..., -9.4646e-02,\n",
      "            1.4323e+00,  5.4521e-02],\n",
      "          [-9.0716e-01,  8.8700e-02,  2.8309e+00,  ...,  5.5943e-01,\n",
      "           -6.0917e-01, -1.6460e+00],\n",
      "          [-2.7428e-01, -8.1778e-01, -6.3764e-01,  ...,  1.0080e+00,\n",
      "           -6.4219e-01, -9.0010e-01]],\n",
      "\n",
      "         [[ 1.2994e+00,  1.3597e+00,  1.5519e+00,  ...,  6.2347e-01,\n",
      "           -1.2210e+00,  1.7972e-01],\n",
      "          [ 7.8373e-01,  2.1983e-01, -1.2197e+00,  ..., -2.0350e+00,\n",
      "           -5.1673e-01,  3.6541e-01],\n",
      "          [-4.4800e-01, -5.4487e-01, -5.2301e-01,  ...,  2.1527e-01,\n",
      "           -5.9167e-01, -7.4669e-01],\n",
      "          ...,\n",
      "          [-8.3874e-01, -8.3480e-01, -1.0692e-01,  ...,  1.5284e+00,\n",
      "            3.1209e-01, -1.1306e+00],\n",
      "          [-1.1273e+00, -7.8683e-01, -1.1450e+00,  ...,  1.4981e-01,\n",
      "            6.0220e-01,  2.0560e-01],\n",
      "          [-3.7205e-01, -6.8510e-01,  1.8761e+00,  ...,  7.9520e-01,\n",
      "            1.7566e+00, -1.2084e+00]],\n",
      "\n",
      "         ...,\n",
      "\n",
      "         [[-3.3137e+00,  7.4086e-01,  4.2000e-01,  ..., -3.5818e-01,\n",
      "           -9.6239e-01, -1.8672e+00],\n",
      "          [ 1.4472e-01, -8.4470e-01,  5.1307e-01,  ..., -1.2209e+00,\n",
      "           -1.2785e+00, -1.7835e+00],\n",
      "          [ 1.2093e+00, -2.5581e+00, -2.0685e-01,  ...,  2.8670e-01,\n",
      "            2.2058e-01, -1.0018e+00],\n",
      "          ...,\n",
      "          [-5.0149e-01,  1.3052e+00,  7.0421e-01,  ..., -2.2839e-01,\n",
      "           -5.8760e-01,  7.1318e-01],\n",
      "          [ 3.5908e-01,  2.3726e+00,  8.9659e-01,  ...,  3.6118e-01,\n",
      "            1.4294e-01,  7.1714e-01],\n",
      "          [-5.5049e-01,  5.8670e-01, -2.0333e-01,  ...,  9.1222e-01,\n",
      "           -3.6574e-01,  4.4817e-01]],\n",
      "\n",
      "         [[-5.7232e-01,  1.5089e+00,  8.5729e-01,  ..., -1.8648e-03,\n",
      "           -3.1318e-01,  5.5220e-01],\n",
      "          [-1.3158e-01, -5.9317e-01,  2.4920e-01,  ...,  1.0058e+00,\n",
      "            5.5327e-01,  6.6514e-02],\n",
      "          [ 2.7037e+00, -5.8440e-01, -2.2730e-01,  ..., -1.3033e-01,\n",
      "           -1.6556e+00,  5.7167e-01],\n",
      "          ...,\n",
      "          [ 1.4639e+00, -1.3706e-01, -1.0205e+00,  ...,  3.8562e-01,\n",
      "           -1.2362e-01, -3.9613e-01],\n",
      "          [-3.8559e-01, -2.2234e-01,  1.0969e+00,  ...,  5.3859e-01,\n",
      "            4.1470e-01, -1.1438e+00],\n",
      "          [-6.5585e-02, -4.2499e-01, -6.1133e-01,  ...,  8.5631e-01,\n",
      "            3.6963e-01,  1.4971e-01]],\n",
      "\n",
      "         [[ 3.3521e-01,  1.0792e+00,  1.0942e+00,  ..., -5.7231e-01,\n",
      "           -5.3096e-01, -8.7641e-01],\n",
      "          [-6.0291e-02,  1.3091e+00,  1.7706e+00,  ...,  5.2519e-01,\n",
      "           -7.7387e-01,  1.0298e+00],\n",
      "          [-6.7458e-01, -1.4727e+00, -8.8058e-01,  ...,  8.5790e-01,\n",
      "            6.8574e-02, -6.1081e-02],\n",
      "          ...,\n",
      "          [ 8.5951e-01, -8.5980e-01, -1.5301e-01,  ...,  7.7717e-01,\n",
      "            8.0726e-01, -2.6198e-01],\n",
      "          [ 4.4417e-02, -5.0570e-01,  9.5921e-01,  ...,  9.1190e-01,\n",
      "           -5.5330e-01, -7.8811e-01],\n",
      "          [ 3.7423e-01,  5.1718e-01, -5.2880e-01,  ..., -4.1047e-05,\n",
      "           -1.3124e+00, -1.1893e+00]]],\n",
      "\n",
      "\n",
      "        [[[ 3.1190e-01,  1.5137e+00, -1.6965e+00,  ...,  1.7173e+00,\n",
      "           -9.0872e-01,  5.1800e-01],\n",
      "          [-9.5832e-01,  1.7245e-01, -8.9710e-01,  ..., -8.5960e-01,\n",
      "            8.4377e-01, -3.5729e-01],\n",
      "          [-7.5056e-01, -1.9136e+00,  1.7502e+00,  ..., -1.8808e+00,\n",
      "           -3.9558e-01,  1.6724e+00],\n",
      "          ...,\n",
      "          [ 1.2942e+00,  2.1284e-01,  5.5405e-01,  ..., -2.5951e+00,\n",
      "            1.3925e+00,  1.1260e+00],\n",
      "          [ 1.1675e+00,  5.4041e-01, -5.6777e-01,  ...,  1.3805e+00,\n",
      "            7.8412e-01, -2.7996e-01],\n",
      "          [-8.4444e-01, -1.2819e+00,  1.8988e-01,  ...,  6.6989e-02,\n",
      "            1.2607e+00,  7.5179e-01]],\n",
      "\n",
      "         [[ 6.7628e-01, -1.3605e+00,  9.0740e-01,  ...,  2.3780e+00,\n",
      "            6.2658e-02,  1.5457e+00],\n",
      "          [-1.1075e-01,  5.9459e-01,  1.9586e-01,  ..., -9.1640e-01,\n",
      "           -8.1067e-01,  5.7796e-01],\n",
      "          [-9.7221e-01, -7.4546e-01,  2.5761e-01,  ..., -2.3206e-01,\n",
      "           -1.1138e+00,  6.5956e-01],\n",
      "          ...,\n",
      "          [ 1.7910e+00, -1.0536e+00,  5.1909e-01,  ...,  3.2667e-01,\n",
      "            2.7782e-01, -1.0513e+00],\n",
      "          [-5.7038e-01, -1.7419e+00,  4.6863e-01,  ...,  1.8753e+00,\n",
      "           -5.7360e-02,  1.3453e+00],\n",
      "          [-1.4020e+00, -6.5838e-02, -1.0574e+00,  ..., -8.8708e-01,\n",
      "           -1.5028e+00, -4.6850e-01]],\n",
      "\n",
      "         [[ 1.1102e+00, -1.2726e+00,  1.1630e+00,  ..., -4.4411e-01,\n",
      "           -9.9392e-01, -1.2931e+00],\n",
      "          [-1.0515e+00, -6.6231e-01, -7.9768e-01,  ..., -3.5372e-01,\n",
      "            1.8237e+00,  1.3624e+00],\n",
      "          [ 9.9516e-01,  2.6211e-01,  2.9644e-01,  ..., -3.7906e-01,\n",
      "            1.8431e-01,  1.6743e+00],\n",
      "          ...,\n",
      "          [ 2.4250e+00, -1.2298e+00,  5.7367e-01,  ..., -4.4164e-01,\n",
      "            7.7573e-01,  1.3750e+00],\n",
      "          [-2.0032e+00, -6.2640e-01,  1.2490e+00,  ...,  2.1730e-01,\n",
      "           -3.1017e-01, -6.7371e-01],\n",
      "          [ 1.3561e+00,  1.2329e+00, -8.7003e-01,  ..., -1.6668e+00,\n",
      "           -7.3350e-02, -9.0734e-01]],\n",
      "\n",
      "         ...,\n",
      "\n",
      "         [[ 7.8212e-01,  3.7546e-01, -2.6797e-01,  ...,  3.9288e-01,\n",
      "           -3.8692e-01, -2.0317e-01],\n",
      "          [-1.6521e-01, -1.5300e+00, -3.3989e-01,  ...,  1.7955e-01,\n",
      "            5.5936e-01, -1.6930e-01],\n",
      "          [-4.0471e-01, -1.5615e+00, -1.3130e+00,  ..., -3.1463e-02,\n",
      "            1.0900e+00,  3.7733e-01],\n",
      "          ...,\n",
      "          [-1.6930e+00, -3.5916e-01,  4.0549e-01,  ...,  8.0761e-01,\n",
      "           -4.7360e-01, -2.5548e+00],\n",
      "          [-2.0248e+00,  1.1039e+00,  5.2616e-01,  ..., -6.3128e-01,\n",
      "            8.2659e-01,  3.9238e-01],\n",
      "          [-6.8812e-01,  1.0725e+00,  4.0839e-01,  ...,  7.0256e-01,\n",
      "           -4.8623e-01,  9.9286e-01]],\n",
      "\n",
      "         [[ 7.6390e-02,  1.3257e+00, -8.5036e-01,  ...,  2.1863e-01,\n",
      "           -6.2061e-01, -2.5963e+00],\n",
      "          [-2.6413e-01,  2.8830e-01,  1.0170e+00,  ..., -3.6747e-02,\n",
      "           -1.8418e-01, -2.8293e-01],\n",
      "          [-6.9775e-01,  1.1231e-01,  1.0365e+00,  ..., -4.3999e-01,\n",
      "           -1.1372e+00, -2.3146e+00],\n",
      "          ...,\n",
      "          [-8.6367e-02, -5.3207e-01, -3.9583e-01,  ...,  1.7737e+00,\n",
      "            6.0845e-01, -5.0529e-01],\n",
      "          [ 8.8568e-02,  2.7574e-01,  1.4735e+00,  ...,  1.8303e+00,\n",
      "           -2.6237e-01, -5.6506e-01],\n",
      "          [-9.3798e-01,  3.0014e-01,  4.9451e-01,  ...,  2.2542e-01,\n",
      "            3.9239e-01, -2.4834e-01]],\n",
      "\n",
      "         [[-1.4753e+00,  1.0121e+00, -1.6582e+00,  ...,  4.7976e-01,\n",
      "           -1.8575e+00, -5.2771e-01],\n",
      "          [-5.3604e-01, -1.1629e+00,  1.5723e+00,  ...,  1.8515e+00,\n",
      "           -9.4610e-01,  2.6336e-01],\n",
      "          [ 2.2520e-01,  1.5807e+00, -1.2808e+00,  ...,  4.4527e-01,\n",
      "            3.2032e-01, -8.3732e-01],\n",
      "          ...,\n",
      "          [-7.5930e-01,  2.8807e-01, -1.0989e+00,  ..., -9.7008e-01,\n",
      "           -6.1926e-01, -3.3786e-01],\n",
      "          [ 6.2892e-01,  1.0422e-01,  1.1806e-01,  ...,  1.6188e-01,\n",
      "            3.9306e-01,  1.7270e-01],\n",
      "          [-8.2974e-01,  1.6846e-01, -1.1130e+00,  ..., -2.7365e-01,\n",
      "            6.6465e-01, -9.0386e-01]]],\n",
      "\n",
      "\n",
      "        [[[-6.3137e-03, -9.1250e-01, -8.0134e-02,  ...,  2.0236e+00,\n",
      "            4.6128e-01,  6.0928e-01],\n",
      "          [-1.0917e+00,  3.8569e-02, -7.0259e-01,  ...,  8.4032e-02,\n",
      "           -4.1553e-01,  1.0731e+00],\n",
      "          [ 3.1883e-01,  9.5005e-01, -5.9915e-01,  ...,  1.0723e-01,\n",
      "           -1.5706e-01, -2.5771e-01],\n",
      "          ...,\n",
      "          [-5.6705e-01,  4.4048e-01,  4.5025e-02,  ..., -1.9561e+00,\n",
      "            2.3041e+00, -7.1464e-01],\n",
      "          [-7.8488e-01,  5.6826e-01,  6.8227e-01,  ..., -1.9182e-01,\n",
      "            3.7154e-01,  2.3253e+00],\n",
      "          [-1.1187e+00,  1.9353e-01, -8.6002e-01,  ...,  2.3495e-01,\n",
      "            2.3175e-01,  2.2753e-01]],\n",
      "\n",
      "         [[-5.8136e-01,  6.7548e-02, -8.7363e-01,  ...,  4.6524e-01,\n",
      "           -8.8313e-01,  6.5340e-01],\n",
      "          [-6.6477e-01,  1.3832e-01,  9.9319e-01,  ..., -1.2333e+00,\n",
      "            9.8360e-02,  2.1923e+00],\n",
      "          [-6.9923e-01,  1.4905e+00, -5.2950e-01,  ...,  7.1622e-01,\n",
      "           -1.3943e-01, -2.0341e+00],\n",
      "          ...,\n",
      "          [ 7.2296e-01, -2.5360e-01,  2.9226e-01,  ..., -2.1699e-01,\n",
      "           -1.4517e+00, -1.4509e+00],\n",
      "          [ 2.0908e+00,  1.4530e+00, -4.9437e-01,  ..., -1.9049e+00,\n",
      "            1.0668e+00,  8.3844e-01],\n",
      "          [ 1.8442e-01, -1.4117e+00, -7.7397e-01,  ..., -8.3732e-01,\n",
      "            5.7279e-01,  1.4945e+00]],\n",
      "\n",
      "         [[-1.1843e+00,  1.0933e-01, -1.9976e-01,  ..., -2.8533e+00,\n",
      "            4.9376e-01,  7.1533e-01],\n",
      "          [-1.0266e+00,  3.9232e-01,  2.0905e-01,  ..., -1.0539e+00,\n",
      "           -1.8648e+00,  7.1576e-01],\n",
      "          [-5.3507e-02, -3.4837e-01, -6.0845e-02,  ..., -8.0046e-01,\n",
      "            2.3903e+00, -1.0489e+00],\n",
      "          ...,\n",
      "          [-9.5553e-02,  4.8768e-01, -1.1061e+00,  ...,  1.0962e+00,\n",
      "            9.0432e-01, -3.0470e-01],\n",
      "          [ 7.0810e-01, -6.9917e-01,  7.0385e-01,  ..., -9.0830e-01,\n",
      "            2.1189e+00,  9.3318e-02],\n",
      "          [-3.0688e-02,  2.9327e-01,  9.0287e-01,  ...,  6.0384e-01,\n",
      "            7.4099e-02,  2.7575e-01]],\n",
      "\n",
      "         ...,\n",
      "\n",
      "         [[ 7.6991e-01,  6.7470e-01, -4.5469e-01,  ..., -1.8164e-01,\n",
      "            3.9923e-01, -1.9764e+00],\n",
      "          [ 5.0623e-01,  1.1680e+00, -6.3752e-01,  ..., -2.3234e-01,\n",
      "           -1.0988e+00, -6.9518e-01],\n",
      "          [ 9.1597e-01, -1.1871e+00,  2.1682e+00,  ...,  7.3245e-02,\n",
      "            2.5742e-01,  5.8164e-01],\n",
      "          ...,\n",
      "          [ 1.9879e-01,  3.6102e-01,  2.5773e+00,  ...,  1.4125e+00,\n",
      "           -8.1321e-01,  1.5307e+00],\n",
      "          [-3.2759e-01, -5.6373e-02, -3.1928e-02,  ...,  1.9323e+00,\n",
      "            2.6975e+00, -9.7052e-01],\n",
      "          [-1.3459e+00,  6.7649e-01,  1.1107e-01,  ...,  1.4192e+00,\n",
      "            6.1611e-02,  2.9428e+00]],\n",
      "\n",
      "         [[-1.1041e+00, -2.3395e-01, -1.4116e+00,  ...,  1.5770e+00,\n",
      "           -1.0034e+00, -1.2909e-01],\n",
      "          [ 5.2731e-01,  1.5881e+00, -7.9562e-02,  ..., -1.2829e+00,\n",
      "           -3.0140e-01, -3.8100e-01],\n",
      "          [-4.5980e-01, -1.4379e+00,  6.7440e-01,  ...,  8.8796e-01,\n",
      "            6.3945e-02,  1.6803e+00],\n",
      "          ...,\n",
      "          [-4.0016e-01,  1.2662e+00,  6.8288e-01,  ...,  1.7240e+00,\n",
      "           -6.1478e-02, -2.4586e-01],\n",
      "          [ 1.5318e-01, -9.8738e-02,  1.4412e-01,  ...,  1.1201e+00,\n",
      "           -1.8629e+00,  1.7651e-02],\n",
      "          [-9.9619e-02, -4.7469e-01, -1.4035e+00,  ..., -1.1602e+00,\n",
      "           -5.4415e-02, -1.9529e+00]],\n",
      "\n",
      "         [[ 7.6819e-01,  1.8465e-02,  8.2899e-01,  ..., -1.1463e+00,\n",
      "            1.3224e+00, -1.1510e+00],\n",
      "          [ 1.1400e+00,  4.0540e-01, -6.0466e-01,  ...,  1.0774e+00,\n",
      "            1.9446e-01, -1.6052e+00],\n",
      "          [ 1.6124e+00, -6.6439e-01,  4.3564e-01,  ..., -1.5924e-01,\n",
      "            2.3086e-01, -2.6698e+00],\n",
      "          ...,\n",
      "          [ 7.5112e-01, -1.7672e+00,  1.3464e+00,  ..., -2.3583e+00,\n",
      "           -2.2926e+00, -2.3470e+00],\n",
      "          [ 3.1603e-04, -1.9394e+00, -3.1464e-01,  ..., -2.0260e-01,\n",
      "           -4.4897e-01, -1.1531e+00],\n",
      "          [-2.2083e+00, -1.0792e+00,  1.9861e-01,  ...,  1.5608e+00,\n",
      "           -1.3074e+00,  4.3149e-01]]]])\n",
      "tensor([[[[ 3.8249e-01, -5.4407e-02,  2.8305e-01,  ..., -2.6041e-01,\n",
      "           -5.6552e-02,  3.2033e-02],\n",
      "          [ 1.8029e-01, -7.0830e-01, -2.9014e-01,  ...,  5.9042e-02,\n",
      "            3.2019e-01, -6.2457e-01],\n",
      "          [-5.1623e-01, -1.6328e-01,  4.3430e-01,  ...,  5.5503e-01,\n",
      "           -7.6549e-01,  3.3032e-01],\n",
      "          ...,\n",
      "          [ 1.5351e-01,  2.2421e-01, -4.2686e-01,  ...,  3.0816e-01,\n",
      "            4.1962e-01,  4.5308e-01],\n",
      "          [ 4.8414e-02,  1.6938e-02,  9.7452e-01,  ...,  9.0413e-02,\n",
      "            3.0269e-02,  8.7958e-01],\n",
      "          [-2.4442e-01, -2.9691e-01,  8.6955e-01,  ...,  3.4141e-01,\n",
      "           -3.0101e-01, -8.5752e-01]],\n",
      "\n",
      "         [[-1.7470e-01,  1.9667e-01, -4.2566e-01,  ..., -6.4780e-02,\n",
      "           -2.7556e-02,  2.6478e-02],\n",
      "          [-3.7900e-01, -4.8740e-01,  9.0085e-01,  ..., -5.5892e-01,\n",
      "            8.3117e-02,  1.0169e+00],\n",
      "          [ 1.6057e-01,  6.4114e-01, -7.2119e-01,  ..., -5.6387e-01,\n",
      "           -9.9862e-01,  2.3438e-02],\n",
      "          ...,\n",
      "          [ 1.2230e+00, -1.7452e-01,  1.4444e-01,  ..., -7.4596e-01,\n",
      "           -1.1623e+00,  8.4350e-01],\n",
      "          [ 1.1486e-02,  4.6102e-01, -4.9064e-01,  ...,  1.4761e-01,\n",
      "           -3.0745e-01,  3.8483e-01],\n",
      "          [-1.6257e-02, -3.6218e-01, -1.5239e-01,  ..., -5.6460e-01,\n",
      "           -1.1526e-02,  1.0367e-01]],\n",
      "\n",
      "         [[-2.7140e-02, -3.2744e-01, -1.7299e-01,  ..., -2.7116e-01,\n",
      "            1.2110e-01, -1.6307e-02],\n",
      "          [ 1.1258e-01, -4.0864e-01, -9.5266e-01,  ...,  1.8559e-01,\n",
      "            3.1077e-01, -5.0625e-01],\n",
      "          [ 3.9596e-02, -3.5678e-01, -2.5141e-01,  ..., -6.6803e-01,\n",
      "           -5.4398e-02, -3.0955e-01],\n",
      "          ...,\n",
      "          [-1.8886e-01,  4.7504e-01, -1.2204e+00,  ...,  1.1271e-01,\n",
      "           -4.8493e-01, -3.3715e-01],\n",
      "          [ 3.5799e-01,  1.1029e-01, -1.3077e+00,  ...,  6.0417e-01,\n",
      "            9.6882e-01,  9.9191e-02],\n",
      "          [ 4.3769e-01,  4.3245e-01,  8.6718e-01,  ...,  1.0050e+00,\n",
      "           -1.7385e-01, -7.9419e-02]],\n",
      "\n",
      "         ...,\n",
      "\n",
      "         [[ 2.6079e-01,  3.9262e-01,  2.7749e-01,  ..., -5.6964e-01,\n",
      "            2.6706e-01,  4.8740e-02],\n",
      "          [ 4.8737e-02,  1.3439e-01, -1.2704e-01,  ..., -5.5216e-02,\n",
      "           -2.2208e-01,  2.4185e-01],\n",
      "          [ 4.5683e-01, -2.0578e-02,  3.3762e-01,  ...,  4.0703e-02,\n",
      "           -4.2946e-01,  9.3763e-01],\n",
      "          ...,\n",
      "          [ 3.5612e-01, -1.3087e-01, -9.3660e-01,  ..., -4.2523e-01,\n",
      "            1.4830e-01, -4.8697e-02],\n",
      "          [ 4.1570e-01, -1.1676e-02, -2.2853e-01,  ...,  2.0959e-01,\n",
      "            8.0514e-01,  2.0492e-01],\n",
      "          [-5.3022e-01, -1.5129e-02,  5.5545e-01,  ..., -5.8886e-01,\n",
      "           -5.2077e-01,  2.8401e-02]],\n",
      "\n",
      "         [[-4.4476e-01, -9.1565e-03,  1.9788e-01,  ...,  4.2725e-02,\n",
      "            1.0175e-01,  1.9614e-01],\n",
      "          [-2.6687e-01,  1.5076e-02, -1.8636e-01,  ...,  4.3372e-01,\n",
      "           -5.4378e-01, -4.2898e-01],\n",
      "          [-1.9626e-01, -6.6916e-01,  1.0737e+00,  ..., -4.6814e-01,\n",
      "            3.7548e-01, -5.2776e-01],\n",
      "          ...,\n",
      "          [ 2.6805e-01,  1.6019e-01, -6.2693e-01,  ..., -7.6520e-01,\n",
      "           -5.3737e-01,  7.8346e-01],\n",
      "          [-2.9678e-01, -2.6247e-01,  2.9101e-01,  ...,  5.4621e-01,\n",
      "            5.1964e-01,  3.2463e-01],\n",
      "          [ 2.9532e-02, -8.4072e-02, -7.5178e-01,  ..., -6.2133e-01,\n",
      "           -4.8630e-01,  3.8947e-01]],\n",
      "\n",
      "         [[ 1.7786e-02, -2.3353e-01,  4.1094e-02,  ..., -6.0994e-01,\n",
      "           -1.1553e-01,  2.6680e-01],\n",
      "          [-7.4874e-02, -1.4882e-01,  6.7596e-02,  ..., -6.3638e-01,\n",
      "            5.9237e-01,  5.8768e-01],\n",
      "          [-9.5745e-01,  4.7945e-01, -3.9900e-01,  ..., -9.2995e-01,\n",
      "           -8.5267e-02,  3.0140e-01],\n",
      "          ...,\n",
      "          [-5.6029e-01, -2.3386e-01, -5.1784e-01,  ...,  3.2117e-01,\n",
      "           -8.9542e-01, -8.3565e-02],\n",
      "          [ 1.0943e-02, -3.0742e-02,  3.3427e-01,  ...,  4.3745e-01,\n",
      "           -2.2911e-01, -4.3956e-01],\n",
      "          [-1.2786e-01, -1.5958e-01, -1.3909e-01,  ...,  8.0408e-01,\n",
      "           -6.3273e-01, -8.9791e-01]]],\n",
      "\n",
      "\n",
      "        [[[ 4.3254e-01,  2.1118e-01, -2.5779e-01,  ...,  2.2419e-01,\n",
      "            4.7756e-01,  2.7566e-01],\n",
      "          [-1.2175e-01, -1.5452e-01,  6.8175e-01,  ..., -5.3750e-01,\n",
      "            2.5362e-01, -5.6718e-01],\n",
      "          [ 9.8151e-01, -6.7085e-01, -2.4142e-01,  ...,  1.6548e-03,\n",
      "           -4.9144e-01,  6.3904e-01],\n",
      "          ...,\n",
      "          [-4.3046e-01,  3.6862e-01,  9.7779e-02,  ..., -9.5664e-01,\n",
      "           -1.1425e-01,  7.8214e-01],\n",
      "          [ 4.7426e-01, -1.9714e-01, -6.6347e-01,  ..., -2.3345e-01,\n",
      "            5.0933e-02, -9.9496e-01],\n",
      "          [ 1.2357e-01, -3.0041e-01, -3.8634e-01,  ...,  5.6896e-01,\n",
      "           -2.7669e-01, -5.0338e-01]],\n",
      "\n",
      "         [[-2.4543e-01, -6.0960e-02, -3.4047e-01,  ..., -1.8474e-01,\n",
      "           -5.4311e-01,  3.6851e-02],\n",
      "          [ 1.0663e-01,  1.2408e-01,  5.3217e-01,  ..., -5.5330e-01,\n",
      "            3.9361e-01, -1.1003e+00],\n",
      "          [ 2.1727e-02,  1.0132e+00, -2.1138e-01,  ..., -2.1343e-01,\n",
      "           -7.0178e-01,  1.0785e-01],\n",
      "          ...,\n",
      "          [-2.4259e-01, -4.1492e-02, -4.0606e-01,  ...,  9.7877e-02,\n",
      "           -9.4838e-01,  9.1331e-01],\n",
      "          [-6.0480e-01, -4.9198e-01,  1.0805e-01,  ..., -5.4332e-01,\n",
      "            3.0880e-01,  6.9727e-02],\n",
      "          [-3.4645e-01,  8.8067e-01,  3.4438e-01,  ...,  7.2036e-01,\n",
      "           -3.4696e-01,  4.1019e-01]],\n",
      "\n",
      "         [[ 1.1910e-01,  5.6040e-01,  1.6720e-01,  ...,  2.1276e-01,\n",
      "            2.2393e-01,  1.3156e-01],\n",
      "          [ 6.8329e-01,  9.3023e-02,  9.8101e-01,  ...,  8.5277e-02,\n",
      "           -6.6617e-01,  5.6830e-01],\n",
      "          [ 1.7002e-01, -5.7454e-01, -1.4981e-01,  ...,  1.8610e-02,\n",
      "            5.4481e-01,  1.4432e-01],\n",
      "          ...,\n",
      "          [-4.5394e-01,  9.8009e-01,  3.6010e-01,  ..., -4.3391e-01,\n",
      "           -1.1592e-01,  4.1267e-03],\n",
      "          [ 2.6407e-01, -2.9529e-02, -5.0771e-01,  ..., -7.0836e-02,\n",
      "           -5.9905e-01,  5.4779e-01],\n",
      "          [-1.3500e-01, -3.1192e-01, -8.7911e-01,  ...,  4.1523e-02,\n",
      "           -4.5593e-01, -3.3322e-01]],\n",
      "\n",
      "         ...,\n",
      "\n",
      "         [[ 5.1194e-02, -5.1680e-02, -1.4318e-01,  ...,  4.0653e-01,\n",
      "           -2.2243e-01,  3.3794e-01],\n",
      "          [-3.2022e-04,  4.1707e-04, -2.3578e-01,  ...,  6.7650e-01,\n",
      "           -7.5856e-01, -1.2619e-01],\n",
      "          [-9.0576e-01,  3.8725e-01, -7.2543e-01,  ...,  1.8541e-01,\n",
      "            4.5598e-03, -1.9955e-01],\n",
      "          ...,\n",
      "          [-2.6611e-01,  3.9200e-01,  1.6521e-01,  ..., -4.8201e-01,\n",
      "           -3.1496e-01, -1.0925e-01],\n",
      "          [ 3.5398e-01,  2.7212e-01, -1.8781e-01,  ...,  6.1814e-01,\n",
      "            2.8963e-01, -9.1172e-02],\n",
      "          [ 3.0167e-01,  2.1871e-01,  7.5581e-02,  ..., -8.8181e-02,\n",
      "           -1.0801e+00,  4.3014e-01]],\n",
      "\n",
      "         [[ 3.3334e-01, -1.3100e-01,  1.9885e-01,  ...,  3.7085e-01,\n",
      "           -2.1886e-01,  2.2486e-01],\n",
      "          [-3.4915e-01, -9.5422e-02, -5.4829e-01,  ..., -1.2915e-01,\n",
      "            4.4289e-01, -5.2237e-01],\n",
      "          [-2.1522e-01, -4.1996e-01, -2.5496e-02,  ...,  5.9574e-02,\n",
      "            5.1971e-01, -1.7008e-01],\n",
      "          ...,\n",
      "          [-2.3542e-01, -9.8188e-02, -1.3570e-01,  ..., -2.6677e-01,\n",
      "           -7.7445e-01,  8.5049e-01],\n",
      "          [ 4.1923e-01,  3.0037e-01, -5.4620e-01,  ..., -5.9942e-01,\n",
      "            2.2803e-01,  2.4045e-01],\n",
      "          [-1.5935e-01, -4.4319e-01, -8.5268e-01,  ...,  4.9567e-01,\n",
      "           -6.5658e-01,  6.6022e-01]],\n",
      "\n",
      "         [[ 1.5569e-01, -1.9979e-01,  4.5353e-01,  ...,  5.0331e-02,\n",
      "            4.0448e-01, -5.7541e-02],\n",
      "          [ 2.0393e-02,  7.2448e-01,  5.1456e-01,  ..., -2.7160e-01,\n",
      "           -3.5254e-01, -2.5101e-01],\n",
      "          [ 3.0214e-01, -1.4787e-01, -1.4222e-01,  ..., -3.3968e-02,\n",
      "            3.4796e-01, -8.7369e-02],\n",
      "          ...,\n",
      "          [-6.9466e-02, -2.9389e-01, -5.7806e-01,  ..., -8.2460e-01,\n",
      "           -2.3084e-01,  4.1329e-01],\n",
      "          [ 6.0951e-01,  1.0142e-01,  5.6899e-01,  ...,  6.5081e-02,\n",
      "            1.0113e-01, -5.5509e-01],\n",
      "          [-4.6265e-01, -3.3804e-01,  1.6332e-01,  ..., -2.8449e-01,\n",
      "           -5.8037e-01, -1.5943e-01]]],\n",
      "\n",
      "\n",
      "        [[[-2.6595e-01,  5.3237e-01,  6.3519e-02,  ...,  7.9120e-02,\n",
      "           -1.4591e-01, -6.1425e-02],\n",
      "          [-5.1947e-01, -9.4090e-02,  7.8067e-01,  ...,  5.6156e-01,\n",
      "            9.6652e-01, -7.6064e-02],\n",
      "          [-1.1929e-01,  7.4924e-01,  2.6451e-01,  ...,  1.4087e+00,\n",
      "            1.7710e-01, -9.6439e-01],\n",
      "          ...,\n",
      "          [-4.4233e-02,  1.8457e-01, -1.5671e-01,  ...,  4.6536e-03,\n",
      "            1.0022e+00, -6.1515e-01],\n",
      "          [ 5.9627e-01,  9.5871e-01, -8.3273e-02,  ..., -2.8519e-01,\n",
      "           -5.3078e-01,  4.8488e-02],\n",
      "          [ 3.1367e-01,  1.5487e-01,  6.8637e-02,  ...,  5.2778e-01,\n",
      "           -5.0402e-01,  9.0573e-02]],\n",
      "\n",
      "         [[-7.6175e-02,  2.7711e-01, -4.9612e-02,  ..., -1.6949e-02,\n",
      "           -1.6006e-01, -4.4363e-01],\n",
      "          [-8.5512e-01, -4.4683e-01, -1.7504e-01,  ..., -7.3538e-02,\n",
      "           -2.9575e-01, -8.3098e-02],\n",
      "          [-2.7661e-01,  4.9580e-02, -1.1828e-01,  ..., -6.9050e-01,\n",
      "            5.2129e-01, -1.9788e-01],\n",
      "          ...,\n",
      "          [-5.2256e-02, -4.1555e-04,  1.4848e+00,  ...,  3.9756e-01,\n",
      "           -5.9619e-02, -8.0244e-01],\n",
      "          [ 2.0488e-01, -4.7566e-01,  6.3587e-01,  ...,  5.3062e-01,\n",
      "            1.2438e-01, -8.2771e-02],\n",
      "          [-5.6922e-01, -3.8481e-02, -1.0982e+00,  ..., -9.4834e-02,\n",
      "            1.8171e-01,  9.1287e-02]],\n",
      "\n",
      "         [[-4.0175e-02,  5.2588e-02, -2.3779e-01,  ...,  8.5377e-02,\n",
      "           -2.6904e-01,  3.0606e-01],\n",
      "          [-3.5705e-01, -3.9930e-01, -1.3535e-01,  ...,  3.5497e-01,\n",
      "           -1.0421e-02, -1.8554e-01],\n",
      "          [-2.1811e-01, -2.8194e-01,  2.5999e-01,  ...,  7.2285e-01,\n",
      "           -5.8859e-01, -3.4732e-02],\n",
      "          ...,\n",
      "          [-5.0674e-02, -2.7840e-01, -5.8768e-02,  ..., -2.3974e-01,\n",
      "            2.4572e-01, -2.0894e-01],\n",
      "          [ 7.9025e-01,  4.9649e-01, -6.1076e-01,  ...,  3.9104e-01,\n",
      "            3.7470e-01, -7.3724e-01],\n",
      "          [-1.1497e+00, -2.3564e-01,  3.9982e-01,  ...,  8.5583e-01,\n",
      "            6.3233e-01, -3.1580e-01]],\n",
      "\n",
      "         ...,\n",
      "\n",
      "         [[ 2.3042e-01,  1.7517e-01,  6.5424e-01,  ..., -1.7958e-02,\n",
      "            1.1927e-01,  3.9627e-02],\n",
      "          [ 2.1812e-01,  1.7790e-01,  1.5250e-01,  ..., -3.9567e-02,\n",
      "            6.6477e-01,  8.4033e-01],\n",
      "          [ 3.5884e-01, -6.3131e-01,  1.1679e+00,  ..., -5.6908e-02,\n",
      "            5.1799e-01, -1.4132e-01],\n",
      "          ...,\n",
      "          [ 4.8264e-01,  1.9906e-01, -8.4507e-01,  ...,  6.5719e-01,\n",
      "            2.9745e-01, -4.0654e-01],\n",
      "          [ 8.1790e-01,  1.9350e-02, -4.0936e-01,  ...,  8.8398e-02,\n",
      "           -1.3614e-02,  4.1266e-01],\n",
      "          [-6.9262e-01, -1.8503e-01,  1.3544e-01,  ...,  2.8240e-01,\n",
      "            6.4016e-01,  1.1033e-01]],\n",
      "\n",
      "         [[-1.7326e-01,  1.5472e-01,  2.4969e-01,  ...,  3.1737e-01,\n",
      "           -3.7207e-02,  3.9450e-01],\n",
      "          [ 5.6439e-01, -4.3776e-01,  3.6499e-01,  ..., -3.1128e-01,\n",
      "            3.0032e-01,  2.0215e-01],\n",
      "          [ 3.6812e-01,  2.0877e-01,  1.2749e+00,  ...,  2.3117e-01,\n",
      "           -6.9111e-01, -8.9722e-03],\n",
      "          ...,\n",
      "          [-1.5460e-01,  6.1400e-01,  7.8628e-01,  ...,  2.4510e-01,\n",
      "           -4.3545e-01,  2.0903e-01],\n",
      "          [ 5.7636e-02,  1.3060e+00, -4.9027e-01,  ..., -3.5969e-01,\n",
      "           -6.9028e-02,  9.0861e-03],\n",
      "          [ 4.1967e-02, -3.7606e-01, -1.0275e+00,  ..., -5.6115e-01,\n",
      "            2.6173e-01,  8.3308e-02]],\n",
      "\n",
      "         [[-2.2296e-01,  7.4774e-02, -1.1854e-01,  ..., -4.0490e-02,\n",
      "            4.4477e-03, -4.3915e-01],\n",
      "          [-3.8745e-01,  1.3648e-01,  1.3276e-01,  ..., -4.5929e-01,\n",
      "           -6.7344e-01, -1.3723e-01],\n",
      "          [-2.3120e-01, -6.0120e-02,  7.5696e-02,  ..., -1.1718e-01,\n",
      "           -2.2996e-01, -7.1861e-01],\n",
      "          ...,\n",
      "          [-4.3478e-01, -3.1845e-01, -3.4178e-02,  ...,  2.6296e-01,\n",
      "           -2.4078e-01, -5.1370e-01],\n",
      "          [ 5.2239e-01,  2.9791e-02,  1.5219e-01,  ..., -8.0466e-02,\n",
      "            1.1651e-01,  4.4923e-02],\n",
      "          [-3.1063e-01,  5.0861e-01, -2.3962e-02,  ..., -2.2485e-01,\n",
      "            9.8946e-01, -1.1504e-01]]],\n",
      "\n",
      "\n",
      "        ...,\n",
      "\n",
      "\n",
      "        [[[-2.7004e-01,  3.1127e-01, -3.5854e-02,  ..., -7.7687e-02,\n",
      "           -1.7746e-02,  2.2380e-01],\n",
      "          [-1.9825e-02,  1.8173e-01, -1.3614e-01,  ..., -2.6829e-01,\n",
      "            2.5283e-01,  2.1118e-01],\n",
      "          [-6.2855e-01,  5.8869e-01, -2.0491e-01,  ..., -7.6923e-01,\n",
      "            5.2044e-01, -2.8542e-01],\n",
      "          ...,\n",
      "          [ 6.9407e-01, -9.3911e-01, -4.6986e-01,  ...,  5.0207e-01,\n",
      "           -2.3859e-02, -1.1457e-01],\n",
      "          [ 6.4975e-02, -6.4724e-01,  4.1623e-01,  ...,  3.4216e-02,\n",
      "            5.9454e-01,  1.6092e-01],\n",
      "          [ 1.5624e-01, -1.6530e-01,  1.9779e-01,  ...,  3.4082e-01,\n",
      "            7.3621e-01, -1.4105e-01]],\n",
      "\n",
      "         [[-1.8329e-01, -2.1128e-01,  5.5769e-01,  ..., -4.1383e-01,\n",
      "           -4.5596e-01,  2.1418e-01],\n",
      "          [-1.3917e-02, -1.7593e-01,  1.0203e+00,  ..., -1.3276e-01,\n",
      "           -3.2403e-01, -2.6886e-01],\n",
      "          [-5.4091e-01, -5.5704e-01,  3.7580e-01,  ...,  5.8711e-01,\n",
      "           -6.4650e-01, -1.6845e-01],\n",
      "          ...,\n",
      "          [-1.6761e-01, -2.8994e-01, -3.9193e-01,  ..., -2.4103e-01,\n",
      "            3.3707e-01,  2.0355e-01],\n",
      "          [-6.5944e-01,  9.9413e-02,  3.3781e-01,  ..., -3.0563e-02,\n",
      "           -2.4424e-02, -4.4741e-01],\n",
      "          [ 6.5531e-01,  4.8626e-01,  4.6058e-01,  ..., -4.9637e-01,\n",
      "            1.1758e-02,  2.7602e-01]],\n",
      "\n",
      "         [[-7.8374e-02, -3.5253e-01, -1.7988e-01,  ..., -9.7645e-02,\n",
      "           -2.4995e-01, -3.8968e-01],\n",
      "          [-1.2091e-01,  1.0888e-01, -9.1705e-01,  ..., -2.4546e-01,\n",
      "           -6.7515e-02,  5.7877e-01],\n",
      "          [-2.8490e-01, -2.2569e-01,  5.5608e-01,  ...,  3.4115e-01,\n",
      "           -4.4991e-01, -2.7884e-01],\n",
      "          ...,\n",
      "          [ 3.3600e-01, -9.1656e-02,  7.6775e-02,  ...,  6.5272e-01,\n",
      "            2.0672e-01,  1.2326e-02],\n",
      "          [ 2.9688e-02, -3.2349e-01, -1.1723e-01,  ..., -4.6926e-01,\n",
      "           -3.6969e-01, -7.4660e-02],\n",
      "          [ 2.2523e-01, -9.1785e-01, -2.7286e-01,  ...,  1.9644e-01,\n",
      "            7.2947e-02, -2.9691e-01]],\n",
      "\n",
      "         ...,\n",
      "\n",
      "         [[ 1.8628e-01, -3.3304e-01,  2.5560e-01,  ...,  7.0166e-03,\n",
      "           -1.5717e-01,  3.4045e-01],\n",
      "          [ 2.3027e-01,  8.4251e-01, -1.1948e-02,  ..., -6.9420e-01,\n",
      "           -1.7621e-01, -1.8031e-01],\n",
      "          [ 4.9572e-02,  1.3143e-01,  5.6644e-01,  ..., -8.1981e-01,\n",
      "           -1.2082e-01,  5.3370e-01],\n",
      "          ...,\n",
      "          [ 2.0494e-01, -5.1167e-01, -8.0196e-02,  ..., -2.0539e-01,\n",
      "            5.2800e-01,  5.4420e-01],\n",
      "          [-5.1040e-01,  7.0507e-02,  4.2490e-01,  ..., -4.2224e-01,\n",
      "           -7.3151e-01,  1.1122e-01],\n",
      "          [ 2.1912e-01,  1.8336e-01, -1.9247e-01,  ...,  3.3639e-01,\n",
      "            4.5895e-01, -4.2327e-02]],\n",
      "\n",
      "         [[ 2.9887e-01, -8.1760e-02, -2.5227e-01,  ..., -1.3315e-01,\n",
      "           -5.2124e-02, -2.2130e-01],\n",
      "          [ 1.9906e-01, -3.8480e-01,  6.4728e-01,  ...,  9.3881e-01,\n",
      "            5.9170e-01, -3.5274e-01],\n",
      "          [-9.4995e-03, -2.6095e-01, -8.4278e-02,  ..., -8.0238e-02,\n",
      "           -3.3949e-01, -3.5270e-01],\n",
      "          ...,\n",
      "          [-1.5856e-01,  3.6842e-01, -3.5754e-01,  ...,  2.6883e-01,\n",
      "           -1.4609e-01,  6.1058e-01],\n",
      "          [-3.6932e-01, -9.2441e-03, -5.6929e-02,  ...,  3.0499e-01,\n",
      "           -4.0208e-02, -5.8460e-02],\n",
      "          [ 2.6250e-01,  2.6434e-01, -1.8965e-01,  ...,  3.9480e-01,\n",
      "           -1.6552e-01, -2.6068e-01]],\n",
      "\n",
      "         [[-3.6376e-02, -2.9995e-01, -4.9785e-01,  ...,  2.9150e-01,\n",
      "           -3.9580e-01, -2.8302e-01],\n",
      "          [ 4.4389e-01, -4.4971e-01,  1.0706e-01,  ...,  6.0363e-02,\n",
      "           -4.8076e-01,  4.4646e-01],\n",
      "          [-2.5900e-02, -1.1387e+00,  3.8429e-01,  ..., -7.2578e-02,\n",
      "           -3.1100e-02, -8.9406e-01],\n",
      "          ...,\n",
      "          [ 3.0241e-01, -3.7166e-01, -1.0039e-01,  ..., -6.3491e-01,\n",
      "           -9.8622e-01, -1.1890e-01],\n",
      "          [ 1.1041e-01, -5.5065e-01,  7.2677e-01,  ...,  5.8995e-01,\n",
      "            5.3990e-01,  2.4008e-01],\n",
      "          [-2.0084e-01, -9.8542e-01, -1.6553e-01,  ...,  1.5119e-03,\n",
      "            5.1826e-01,  7.0457e-02]]],\n",
      "\n",
      "\n",
      "        [[[ 8.4992e-03,  1.7976e-01,  2.0016e-01,  ...,  3.0422e-01,\n",
      "            1.5236e-01, -1.7319e-01],\n",
      "          [-2.7405e-01,  4.7969e-02,  1.5924e-01,  ...,  3.1976e-01,\n",
      "           -4.4990e-01,  1.4059e-01],\n",
      "          [ 1.4668e-02,  1.0082e-01,  5.7121e-01,  ...,  5.3945e-01,\n",
      "            8.4287e-01,  4.2908e-01],\n",
      "          ...,\n",
      "          [-1.1844e-01,  1.3041e-02,  7.1036e-01,  ..., -3.2584e-01,\n",
      "            9.2948e-01,  4.7053e-01],\n",
      "          [ 4.5688e-01, -2.3387e-01, -2.6656e-02,  ..., -2.2640e-01,\n",
      "            2.6379e-02,  9.2996e-01],\n",
      "          [-1.6132e-01, -1.7222e-01,  1.2250e-01,  ..., -4.3324e-01,\n",
      "            3.3223e-01, -3.5947e-01]],\n",
      "\n",
      "         [[ 8.0211e-02,  1.0715e-01, -1.6454e-01,  ..., -1.0889e-01,\n",
      "            1.4140e-01, -6.2904e-01],\n",
      "          [-7.3800e-02, -3.1116e-01,  8.8167e-01,  ...,  2.2804e-01,\n",
      "           -1.9253e-01,  4.6595e-01],\n",
      "          [ 2.2655e-01,  2.5790e-01, -5.9771e-01,  ..., -8.9183e-03,\n",
      "           -3.9434e-01, -2.5662e-01],\n",
      "          ...,\n",
      "          [-6.5830e-01,  6.7019e-01,  5.9765e-02,  ...,  1.1222e-01,\n",
      "           -2.7741e-01, -3.5842e-01],\n",
      "          [ 1.5825e-01, -1.9696e-01, -2.1304e-01,  ...,  6.6495e-01,\n",
      "           -3.0284e-01,  1.6139e-01],\n",
      "          [ 1.6977e-01,  2.6046e-01,  5.2735e-03,  ...,  3.2043e-01,\n",
      "            8.6006e-01,  2.1692e-01]],\n",
      "\n",
      "         [[-4.3648e-02, -1.6654e-01,  3.5031e-01,  ..., -2.4521e-01,\n",
      "            6.6793e-01,  8.8913e-02],\n",
      "          [-1.9702e-01,  1.4442e-01,  5.6198e-01,  ..., -7.3190e-01,\n",
      "           -5.4140e-01, -3.9191e-01],\n",
      "          [ 8.0870e-01,  5.3186e-01,  5.3300e-01,  ..., -2.6091e-01,\n",
      "           -5.7686e-01,  1.1580e-01],\n",
      "          ...,\n",
      "          [-1.5091e-01,  4.9856e-01, -1.1402e-02,  ...,  9.3555e-01,\n",
      "            5.5485e-01, -2.3743e-01],\n",
      "          [-5.2102e-01, -1.3813e+00, -4.0069e-01,  ...,  1.7610e-01,\n",
      "           -3.2536e-01, -1.6988e-01],\n",
      "          [ 2.4856e-01,  2.4580e-01, -2.6576e-01,  ..., -3.4300e-01,\n",
      "           -5.2992e-01,  2.1401e-02]],\n",
      "\n",
      "         ...,\n",
      "\n",
      "         [[ 2.6734e-01, -4.1453e-01,  1.6502e-01,  ..., -1.7467e-01,\n",
      "            4.8386e-01, -5.6515e-01],\n",
      "          [ 4.2845e-01,  4.9871e-01,  4.3984e-01,  ...,  5.7706e-01,\n",
      "            1.2201e-01,  1.3606e-01],\n",
      "          [ 3.4919e-01,  5.8224e-01,  7.1241e-01,  ...,  3.3568e-01,\n",
      "           -7.6503e-01, -4.5522e-01],\n",
      "          ...,\n",
      "          [ 1.7678e-02, -1.0465e-01, -2.0604e-02,  ...,  3.8649e-01,\n",
      "            1.7848e-01, -5.3576e-01],\n",
      "          [ 2.8154e-01, -1.0497e+00,  4.5572e-01,  ...,  1.1185e-01,\n",
      "           -1.3237e-01,  4.9764e-01],\n",
      "          [ 3.6838e-02, -2.7136e-02, -3.4612e-01,  ..., -1.9074e-01,\n",
      "           -2.4897e-01,  4.7023e-01]],\n",
      "\n",
      "         [[-3.1545e-01,  1.7299e-01, -2.3833e-01,  ...,  5.5647e-02,\n",
      "            2.9780e-01, -1.3990e-01],\n",
      "          [-3.9344e-01,  8.6199e-03, -6.4311e-02,  ..., -6.2991e-01,\n",
      "            3.2437e-01, -3.4080e-01],\n",
      "          [-3.0327e-01, -2.9974e-01,  1.1360e+00,  ...,  7.0542e-01,\n",
      "            4.2915e-01, -2.8557e-02],\n",
      "          ...,\n",
      "          [-9.2869e-01,  5.6793e-01,  2.6497e-03,  ...,  2.0984e-01,\n",
      "            6.8278e-02,  7.8033e-02],\n",
      "          [ 7.7220e-02,  7.5902e-02, -4.0680e-01,  ..., -1.2027e+00,\n",
      "           -4.7989e-02, -7.5806e-01],\n",
      "          [-2.6675e-01, -6.3719e-01,  5.3212e-01,  ...,  1.7231e-01,\n",
      "           -2.0660e-02, -6.1617e-02]],\n",
      "\n",
      "         [[-3.2567e-01,  4.4478e-02, -4.0167e-01,  ...,  4.9122e-01,\n",
      "           -1.4987e-01,  6.8289e-01],\n",
      "          [-3.2678e-01,  7.9477e-02,  6.0432e-02,  ..., -8.7984e-02,\n",
      "            5.9150e-01,  1.2028e-01],\n",
      "          [ 5.9681e-01,  1.7326e-01, -8.2019e-01,  ..., -2.8976e-01,\n",
      "            3.7933e-01,  8.5761e-02],\n",
      "          ...,\n",
      "          [-6.2445e-01, -4.3651e-02,  3.1286e-01,  ...,  2.2515e-01,\n",
      "           -6.7738e-01,  3.4989e-01],\n",
      "          [-6.0886e-01, -7.2774e-01,  1.1965e-01,  ...,  1.1180e-01,\n",
      "            4.0793e-01,  9.6607e-02],\n",
      "          [-1.0735e-01,  3.3386e-02, -5.3364e-02,  ...,  1.1957e-01,\n",
      "           -3.1177e-01, -1.5513e-01]]],\n",
      "\n",
      "\n",
      "        [[[ 1.0951e-01,  2.5620e-01, -4.9730e-01,  ...,  5.8890e-01,\n",
      "            2.3923e-01, -2.3917e-01],\n",
      "          [-1.6822e-01,  2.2725e-01, -5.3481e-01,  ..., -2.2379e-01,\n",
      "           -1.2422e-01, -2.1180e-01],\n",
      "          [ 5.7760e-01,  8.3927e-01, -1.2146e+00,  ..., -3.9820e-01,\n",
      "            4.3486e-02,  1.3607e-01],\n",
      "          ...,\n",
      "          [ 6.7775e-01, -1.1142e-01, -1.1917e+00,  ...,  9.0573e-02,\n",
      "            4.6758e-01,  4.1645e-01],\n",
      "          [ 1.9121e-01,  6.0912e-01,  4.2810e-01,  ..., -5.2018e-01,\n",
      "            2.0385e-01, -8.7277e-01],\n",
      "          [ 4.1520e-01, -1.1058e+00, -1.2986e-01,  ..., -3.4816e-01,\n",
      "            5.7793e-01, -3.9306e-01]],\n",
      "\n",
      "         [[ 1.7137e-02,  5.8737e-01, -7.0943e-01,  ...,  2.5489e-01,\n",
      "           -7.2362e-01, -1.9325e-01],\n",
      "          [ 1.4438e-01, -7.7440e-02,  4.4703e-01,  ...,  6.2572e-01,\n",
      "            4.8649e-01, -8.0523e-02],\n",
      "          [-4.5352e-02,  8.4609e-01, -1.2917e-01,  ..., -5.3547e-01,\n",
      "           -8.6674e-01, -5.9795e-02],\n",
      "          ...,\n",
      "          [ 2.9260e-01, -5.2195e-01, -4.4927e-01,  ..., -4.0858e-01,\n",
      "            2.9815e-01, -2.3036e-01],\n",
      "          [-1.0902e-01, -2.1644e-01, -2.3448e-01,  ...,  1.4938e-01,\n",
      "            5.7866e-02,  5.0779e-01],\n",
      "          [ 8.1944e-01, -5.4868e-02, -1.0734e+00,  ..., -2.4469e-01,\n",
      "           -7.2095e-02,  3.2043e-01]],\n",
      "\n",
      "         [[-2.2933e-01, -4.3047e-02, -6.9846e-01,  ...,  6.5247e-01,\n",
      "            2.1518e-01,  3.0107e-01],\n",
      "          [ 3.4538e-01, -4.7448e-01,  1.5509e-01,  ..., -1.4423e-01,\n",
      "            8.8638e-02,  3.7286e-01],\n",
      "          [ 3.0587e-02,  3.1252e-01, -1.0238e+00,  ...,  5.6089e-01,\n",
      "           -1.1185e-01, -5.0701e-01],\n",
      "          ...,\n",
      "          [-6.0087e-01,  1.9583e-01, -6.9555e-02,  ...,  9.5473e-01,\n",
      "           -9.8184e-01, -7.6818e-02],\n",
      "          [ 5.5033e-01,  6.4144e-01, -1.1639e+00,  ..., -2.6079e-01,\n",
      "           -1.7993e-01, -3.2067e-01],\n",
      "          [ 2.2732e-01,  6.0345e-02, -2.8755e-02,  ...,  1.0246e-01,\n",
      "            2.5259e-01,  1.3610e-01]],\n",
      "\n",
      "         ...,\n",
      "\n",
      "         [[-4.3967e-01, -2.3286e-02,  2.3149e-01,  ..., -2.0358e-01,\n",
      "           -1.0709e-01,  1.0060e-01],\n",
      "          [ 8.1936e-01,  9.3459e-01,  1.4997e-01,  ..., -2.1659e-01,\n",
      "           -1.3664e-01, -3.1501e-02],\n",
      "          [-1.2418e-01,  6.9040e-02, -7.2460e-01,  ..., -4.8757e-01,\n",
      "           -2.3718e-01, -2.4515e-01],\n",
      "          ...,\n",
      "          [ 2.9595e-01,  1.3755e+00,  6.4235e-01,  ...,  1.5433e-01,\n",
      "           -8.5537e-01, -7.3648e-01],\n",
      "          [ 3.5100e-03,  3.4242e-01, -6.1795e-02,  ..., -5.3097e-01,\n",
      "           -8.2870e-03, -5.3411e-01],\n",
      "          [ 5.4197e-01, -5.3436e-01, -7.4008e-02,  ..., -4.3239e-01,\n",
      "            2.0219e-01, -2.6978e-02]],\n",
      "\n",
      "         [[-1.0864e-01, -4.5946e-01, -3.2146e-01,  ..., -1.0986e-01,\n",
      "           -3.3190e-01, -2.2260e-02],\n",
      "          [ 5.0082e-01, -5.2067e-01, -1.6686e-01,  ...,  3.3256e-01,\n",
      "            1.7047e-01,  3.9314e-01],\n",
      "          [ 9.7356e-01,  2.0355e-01, -1.0083e-01,  ...,  1.0676e-01,\n",
      "           -3.0423e-01, -5.1966e-01],\n",
      "          ...,\n",
      "          [-1.0142e+00, -1.1166e-01,  3.0341e-01,  ..., -6.1742e-01,\n",
      "            4.3195e-01, -9.7755e-02],\n",
      "          [-9.5180e-02, -4.2473e-01,  7.1057e-01,  ..., -2.0651e-01,\n",
      "           -4.6737e-01, -9.3935e-03],\n",
      "          [-9.2007e-01, -3.6314e-01,  2.0360e-01,  ..., -2.4899e-01,\n",
      "            7.9999e-02, -1.7957e-01]],\n",
      "\n",
      "         [[ 2.0744e-01,  3.4200e-01, -4.5155e-01,  ..., -2.8366e-01,\n",
      "           -8.0495e-02,  1.6987e-01],\n",
      "          [-2.7387e-01,  1.2094e-01, -6.4759e-01,  ...,  3.6714e-01,\n",
      "            2.4989e-01, -4.2412e-01],\n",
      "          [ 2.3744e-01, -1.3423e+00, -5.3337e-02,  ..., -1.8033e-01,\n",
      "            3.2566e-01,  8.8527e-01],\n",
      "          ...,\n",
      "          [ 3.1842e-02,  1.6022e-01, -3.1105e-01,  ..., -4.5316e-01,\n",
      "            2.6387e-01, -2.2935e-01],\n",
      "          [ 2.1436e-01, -2.4381e-01, -4.2986e-01,  ..., -1.3693e-01,\n",
      "           -3.0241e-01,  3.0717e-01],\n",
      "          [-1.0308e-01, -1.0329e-01, -1.4651e+00,  ...,  2.9507e-01,\n",
      "           -6.9799e-01,  1.0334e-01]]]], grad_fn=<ConvolutionBackward0>)\n"
     ]
    }
   ],
   "source": [
    "m = nn.Conv2d(16, 33, 3, stride=2)\n",
    "m = nn.Conv2d(16, 33, (3, 5), stride=(2,1), padding=(4,2))\n",
    "m = nn.Conv2d(16, 33, (3, 5), stride=(2,1), padding=(4,2), dilation=(3,1)) #dilation는 패딩 사이의 간격\n",
    "\n",
    "input = torch.randn(20, 16, 50, 100)\n",
    "print(input)\n",
    "output = m(input)\n",
    "print(output)"
   ],
   "metadata": {
    "collapsed": false,
    "pycharm": {
     "name": "#%%\n"
    }
   }
  },
  {
   "cell_type": "code",
   "execution_count": 39,
   "outputs": [
    {
     "data": {
      "text/plain": "torch.Size([20, 33, 26, 100])"
     },
     "execution_count": 39,
     "metadata": {},
     "output_type": "execute_result"
    }
   ],
   "source": [
    "output.shape"
   ],
   "metadata": {
    "collapsed": false,
    "pycharm": {
     "name": "#%%\n"
    }
   }
  },
  {
   "cell_type": "code",
   "execution_count": 40,
   "outputs": [],
   "source": [
    "import torch\n",
    "import torch.nn.functional as F"
   ],
   "metadata": {
    "collapsed": false,
    "pycharm": {
     "name": "#%%\n"
    }
   }
  },
  {
   "cell_type": "code",
   "execution_count": 41,
   "outputs": [
    {
     "data": {
      "text/plain": "torch.Size([1, 8, 5, 5])"
     },
     "execution_count": 41,
     "metadata": {},
     "output_type": "execute_result"
    }
   ],
   "source": [
    "filters = torch.randn(8, 4, 3, 3)\n",
    "inputs = torch.randn(1, 4, 5, 5)\n",
    "conv = F.conv2d(inputs, filters, padding=1)\n",
    "conv.shape"
   ],
   "metadata": {
    "collapsed": false,
    "pycharm": {
     "name": "#%%\n"
    }
   }
  },
  {
   "cell_type": "code",
   "execution_count": null,
   "outputs": [],
   "source": [],
   "metadata": {
    "collapsed": false,
    "pycharm": {
     "name": "#%%\n"
    }
   }
  },
  {
   "cell_type": "code",
   "execution_count": null,
   "outputs": [],
   "source": [],
   "metadata": {
    "collapsed": false,
    "pycharm": {
     "name": "#%%\n"
    }
   }
  },
  {
   "cell_type": "code",
   "execution_count": null,
   "outputs": [],
   "source": [],
   "metadata": {
    "collapsed": false,
    "pycharm": {
     "name": "#%%\n"
    }
   }
  },
  {
   "cell_type": "code",
   "execution_count": null,
   "outputs": [],
   "source": [],
   "metadata": {
    "collapsed": false,
    "pycharm": {
     "name": "#%%\n"
    }
   }
  },
  {
   "cell_type": "code",
   "execution_count": null,
   "outputs": [],
   "source": [],
   "metadata": {
    "collapsed": false,
    "pycharm": {
     "name": "#%%\n"
    }
   }
  },
  {
   "cell_type": "code",
   "execution_count": null,
   "outputs": [],
   "source": [],
   "metadata": {
    "collapsed": false,
    "pycharm": {
     "name": "#%%\n"
    }
   }
  },
  {
   "cell_type": "code",
   "execution_count": null,
   "outputs": [],
   "source": [],
   "metadata": {
    "collapsed": false,
    "pycharm": {
     "name": "#%%\n"
    }
   }
  }
 ],
 "metadata": {
  "kernelspec": {
   "display_name": "Python 3",
   "language": "python",
   "name": "python3"
  },
  "language_info": {
   "codemirror_mode": {
    "name": "ipython",
    "version": 2
   },
   "file_extension": ".py",
   "mimetype": "text/x-python",
   "name": "python",
   "nbconvert_exporter": "python",
   "pygments_lexer": "ipython2",
   "version": "2.7.6"
  }
 },
 "nbformat": 4,
 "nbformat_minor": 0
}