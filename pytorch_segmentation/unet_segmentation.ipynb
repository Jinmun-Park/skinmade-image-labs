{
 "cells": [
  {
   "cell_type": "markdown",
   "id": "a885f428",
   "metadata": {
    "pycharm": {
     "name": "#%% md\n"
    }
   },
   "source": [
    "# CT Segmentation\n",
    "## 폐, 기도, 심장"
   ]
  },
  {
   "cell_type": "markdown",
   "id": "782cf237",
   "metadata": {
    "pycharm": {
     "name": "#%% md\n"
    }
   },
   "source": [
    "## LIBRARY"
   ]
  },
  {
   "cell_type": "code",
   "execution_count": 1,
   "id": "827b16e7",
   "metadata": {
    "pycharm": {
     "name": "#%%\n"
    }
   },
   "outputs": [],
   "source": [
    "import os\n",
    "import pandas as pd\n",
    "import numpy as np\n",
    "\n",
    "import cv2\n",
    "import matplotlib.pyplot as plt\n",
    "from PIL import Image\n",
    "\n",
    "import torch\n",
    "import torch.nn as nn\n",
    "import torch.nn.functional as F\n",
    "from torchvision import transforms\n",
    "from torch.utils.data import DataLoader"
   ]
  },
  {
   "cell_type": "code",
   "execution_count": 2,
   "outputs": [
    {
     "name": "stdout",
     "output_type": "stream",
     "text": [
      "cuda\n",
      "1.12.1+cu113\n",
      "True\n"
     ]
    }
   ],
   "source": [
    "device = torch.device(\"cuda\")\n",
    "print(device)\n",
    "print(torch.__version__)\n",
    "print(torch.cuda.is_available())"
   ],
   "metadata": {
    "collapsed": false,
    "pycharm": {
     "name": "#%%\n"
    }
   }
  },
  {
   "cell_type": "markdown",
   "source": [
    "# DATA OVERVIEW"
   ],
   "metadata": {
    "collapsed": false,
    "pycharm": {
     "name": "#%% md\n"
    }
   }
  },
  {
   "cell_type": "code",
   "execution_count": 3,
   "id": "5c2dd353",
   "metadata": {
    "pycharm": {
     "name": "#%%\n"
    }
   },
   "outputs": [
    {
     "data": {
      "text/plain": "                           ImageId                                MaskId\n0  ID00007637202177411956430_0.jpg  ID00007637202177411956430_mask_0.jpg\n1  ID00007637202177411956430_1.jpg  ID00007637202177411956430_mask_1.jpg\n2  ID00007637202177411956430_2.jpg  ID00007637202177411956430_mask_2.jpg\n3  ID00007637202177411956430_3.jpg  ID00007637202177411956430_mask_3.jpg\n4  ID00007637202177411956430_4.jpg  ID00007637202177411956430_mask_4.jpg",
      "text/html": "<div>\n<style scoped>\n    .dataframe tbody tr th:only-of-type {\n        vertical-align: middle;\n    }\n\n    .dataframe tbody tr th {\n        vertical-align: top;\n    }\n\n    .dataframe thead th {\n        text-align: right;\n    }\n</style>\n<table border=\"1\" class=\"dataframe\">\n  <thead>\n    <tr style=\"text-align: right;\">\n      <th></th>\n      <th>ImageId</th>\n      <th>MaskId</th>\n    </tr>\n  </thead>\n  <tbody>\n    <tr>\n      <th>0</th>\n      <td>ID00007637202177411956430_0.jpg</td>\n      <td>ID00007637202177411956430_mask_0.jpg</td>\n    </tr>\n    <tr>\n      <th>1</th>\n      <td>ID00007637202177411956430_1.jpg</td>\n      <td>ID00007637202177411956430_mask_1.jpg</td>\n    </tr>\n    <tr>\n      <th>2</th>\n      <td>ID00007637202177411956430_2.jpg</td>\n      <td>ID00007637202177411956430_mask_2.jpg</td>\n    </tr>\n    <tr>\n      <th>3</th>\n      <td>ID00007637202177411956430_3.jpg</td>\n      <td>ID00007637202177411956430_mask_3.jpg</td>\n    </tr>\n    <tr>\n      <th>4</th>\n      <td>ID00007637202177411956430_4.jpg</td>\n      <td>ID00007637202177411956430_mask_4.jpg</td>\n    </tr>\n  </tbody>\n</table>\n</div>"
     },
     "execution_count": 3,
     "metadata": {},
     "output_type": "execute_result"
    }
   ],
   "source": [
    "data_dir = \"../data/segmentation/\"\n",
    "data_df = pd.read_csv(os.path.join(data_dir, \"train.csv\"))\n",
    "data_df.head()"
   ]
  },
  {
   "cell_type": "code",
   "execution_count": 4,
   "id": "e6c265ea",
   "metadata": {
    "pycharm": {
     "name": "#%%\n"
    }
   },
   "outputs": [],
   "source": [
    "def extract_client_id(x):\n",
    "    return x.split(\"_\")[0]"
   ]
  },
  {
   "cell_type": "code",
   "execution_count": 5,
   "id": "3a9575cb",
   "metadata": {
    "pycharm": {
     "name": "#%%\n"
    }
   },
   "outputs": [
    {
     "data": {
      "text/plain": "                                 ImageId  \\\n0        ID00007637202177411956430_0.jpg   \n1        ID00007637202177411956430_1.jpg   \n2        ID00007637202177411956430_2.jpg   \n3        ID00007637202177411956430_3.jpg   \n4        ID00007637202177411956430_4.jpg   \n...                                  ...   \n16703  ID00426637202313170790466_403.jpg   \n16704  ID00426637202313170790466_404.jpg   \n16705  ID00426637202313170790466_405.jpg   \n16706  ID00426637202313170790466_406.jpg   \n16707  ID00426637202313170790466_407.jpg   \n\n                                       MaskId                         Id  \n0        ID00007637202177411956430_mask_0.jpg  ID00007637202177411956430  \n1        ID00007637202177411956430_mask_1.jpg  ID00007637202177411956430  \n2        ID00007637202177411956430_mask_2.jpg  ID00007637202177411956430  \n3        ID00007637202177411956430_mask_3.jpg  ID00007637202177411956430  \n4        ID00007637202177411956430_mask_4.jpg  ID00007637202177411956430  \n...                                       ...                        ...  \n16703  ID00426637202313170790466_mask_403.jpg  ID00426637202313170790466  \n16704  ID00426637202313170790466_mask_404.jpg  ID00426637202313170790466  \n16705  ID00426637202313170790466_mask_405.jpg  ID00426637202313170790466  \n16706  ID00426637202313170790466_mask_406.jpg  ID00426637202313170790466  \n16707  ID00426637202313170790466_mask_407.jpg  ID00426637202313170790466  \n\n[16708 rows x 3 columns]",
      "text/html": "<div>\n<style scoped>\n    .dataframe tbody tr th:only-of-type {\n        vertical-align: middle;\n    }\n\n    .dataframe tbody tr th {\n        vertical-align: top;\n    }\n\n    .dataframe thead th {\n        text-align: right;\n    }\n</style>\n<table border=\"1\" class=\"dataframe\">\n  <thead>\n    <tr style=\"text-align: right;\">\n      <th></th>\n      <th>ImageId</th>\n      <th>MaskId</th>\n      <th>Id</th>\n    </tr>\n  </thead>\n  <tbody>\n    <tr>\n      <th>0</th>\n      <td>ID00007637202177411956430_0.jpg</td>\n      <td>ID00007637202177411956430_mask_0.jpg</td>\n      <td>ID00007637202177411956430</td>\n    </tr>\n    <tr>\n      <th>1</th>\n      <td>ID00007637202177411956430_1.jpg</td>\n      <td>ID00007637202177411956430_mask_1.jpg</td>\n      <td>ID00007637202177411956430</td>\n    </tr>\n    <tr>\n      <th>2</th>\n      <td>ID00007637202177411956430_2.jpg</td>\n      <td>ID00007637202177411956430_mask_2.jpg</td>\n      <td>ID00007637202177411956430</td>\n    </tr>\n    <tr>\n      <th>3</th>\n      <td>ID00007637202177411956430_3.jpg</td>\n      <td>ID00007637202177411956430_mask_3.jpg</td>\n      <td>ID00007637202177411956430</td>\n    </tr>\n    <tr>\n      <th>4</th>\n      <td>ID00007637202177411956430_4.jpg</td>\n      <td>ID00007637202177411956430_mask_4.jpg</td>\n      <td>ID00007637202177411956430</td>\n    </tr>\n    <tr>\n      <th>...</th>\n      <td>...</td>\n      <td>...</td>\n      <td>...</td>\n    </tr>\n    <tr>\n      <th>16703</th>\n      <td>ID00426637202313170790466_403.jpg</td>\n      <td>ID00426637202313170790466_mask_403.jpg</td>\n      <td>ID00426637202313170790466</td>\n    </tr>\n    <tr>\n      <th>16704</th>\n      <td>ID00426637202313170790466_404.jpg</td>\n      <td>ID00426637202313170790466_mask_404.jpg</td>\n      <td>ID00426637202313170790466</td>\n    </tr>\n    <tr>\n      <th>16705</th>\n      <td>ID00426637202313170790466_405.jpg</td>\n      <td>ID00426637202313170790466_mask_405.jpg</td>\n      <td>ID00426637202313170790466</td>\n    </tr>\n    <tr>\n      <th>16706</th>\n      <td>ID00426637202313170790466_406.jpg</td>\n      <td>ID00426637202313170790466_mask_406.jpg</td>\n      <td>ID00426637202313170790466</td>\n    </tr>\n    <tr>\n      <th>16707</th>\n      <td>ID00426637202313170790466_407.jpg</td>\n      <td>ID00426637202313170790466_mask_407.jpg</td>\n      <td>ID00426637202313170790466</td>\n    </tr>\n  </tbody>\n</table>\n<p>16708 rows × 3 columns</p>\n</div>"
     },
     "execution_count": 5,
     "metadata": {},
     "output_type": "execute_result"
    }
   ],
   "source": [
    "data_df[\"Id\"] = data_df.ImageId.apply(lambda x:extract_client_id(x))\n",
    "data_df"
   ]
  },
  {
   "cell_type": "code",
   "execution_count": 6,
   "outputs": [
    {
     "name": "stdout",
     "output_type": "stream",
     "text": [
      "16708\n"
     ]
    }
   ],
   "source": [
    "print(len(data_df))"
   ],
   "metadata": {
    "collapsed": false,
    "pycharm": {
     "name": "#%%\n"
    }
   }
  },
  {
   "cell_type": "code",
   "execution_count": 7,
   "outputs": [
    {
     "name": "stdout",
     "output_type": "stream",
     "text": [
      "Length :  112 \n",
      "\n",
      "Data :  ['ID00007637202177411956430' 'ID00009637202177434476278'\n",
      " 'ID00010637202177584971671' 'ID00012637202177665765362'\n",
      " 'ID00014637202177757139317' 'ID00015637202177877247924'\n",
      " 'ID00019637202178323708467' 'ID00025637202179541264076'\n",
      " 'ID00027637202179689871102' 'ID00032637202181710233084'\n",
      " 'ID00035637202182204917484' 'ID00047637202184938901501'\n",
      " 'ID00048637202185016727717' 'ID00051637202185848464638'\n",
      " 'ID00060637202187965290703' 'ID00061637202188184085559'\n",
      " 'ID00068637202190879923934' 'ID00072637202198161894406'\n",
      " 'ID00073637202198167792918' 'ID00075637202198610425520'\n",
      " 'ID00076637202199015035026' 'ID00077637202199102000916'\n",
      " 'ID00082637202201836229724' 'ID00089637202204675567570'\n",
      " 'ID00090637202204766623410' 'ID00094637202205333947361'\n",
      " 'ID00102637202206574119190' 'ID00104637202208063407045'\n",
      " 'ID00105637202208831864134' 'ID00109637202210454292264'\n",
      " 'ID00110637202210673668310' 'ID00111637202210956877205'\n",
      " 'ID00117637202212360228007' 'ID00119637202215426335765'\n",
      " 'ID00122637202216437668965' 'ID00123637202217151272140'\n",
      " 'ID00125637202218590429387' 'ID00126637202218610655908'\n",
      " 'ID00129637202219868188000' 'ID00130637202220059448013'\n",
      " 'ID00131637202220424084844' 'ID00139637202231703564336'\n",
      " 'ID00140637202231728595149' 'ID00161637202235731948764'\n",
      " 'ID00167637202237397919352' 'ID00168637202237852027833'\n",
      " 'ID00169637202238024117706' 'ID00170637202238079193844'\n",
      " 'ID00172637202238316925179' 'ID00184637202242062969203'\n",
      " 'ID00186637202242472088675' 'ID00192637202245493238298'\n",
      " 'ID00196637202246668775836' 'ID00197637202246865691526'\n",
      " 'ID00199637202248141386743' 'ID00207637202252526380974'\n",
      " 'ID00210637202257228694086' 'ID00213637202257692916109'\n",
      " 'ID00218637202258156844710' 'ID00219637202258203123958'\n",
      " 'ID00225637202259339837603' 'ID00229637202260254240583'\n",
      " 'ID00232637202260377586117' 'ID00235637202261451839085'\n",
      " 'ID00241637202264294508775' 'ID00249637202266730854017'\n",
      " 'ID00255637202267923028520' 'ID00264637202270643353440'\n",
      " 'ID00267637202270790561585' 'ID00273637202271319294586'\n",
      " 'ID00275637202271440119890' 'ID00276637202271694539978'\n",
      " 'ID00279637202272164826258' 'ID00285637202278913507108'\n",
      " 'ID00288637202279148973731' 'ID00290637202279304677843'\n",
      " 'ID00296637202279895784347' 'ID00298637202280361773446'\n",
      " 'ID00299637202280383305867' 'ID00305637202281772703145'\n",
      " 'ID00307637202282126172865' 'ID00319637202283897208687'\n",
      " 'ID00322637202284842245491' 'ID00323637202285211956970'\n",
      " 'ID00329637202285906759848' 'ID00331637202286306023714'\n",
      " 'ID00335637202286784464927' 'ID00337637202286839091062'\n",
      " 'ID00340637202287399835821' 'ID00343637202287577133798'\n",
      " 'ID00344637202287684217717' 'ID00351637202289476567312'\n",
      " 'ID00355637202295106567614' 'ID00358637202295388077032'\n",
      " 'ID00360637202295712204040' 'ID00364637202296074419422'\n",
      " 'ID00365637202296085035729' 'ID00367637202296290303449'\n",
      " 'ID00370637202296737666151' 'ID00381637202299644114027'\n",
      " 'ID00383637202300493233675' 'ID00392637202302319160044'\n",
      " 'ID00398637202303897337979' 'ID00400637202305055099402'\n",
      " 'ID00405637202308359492977' 'ID00407637202308788732304'\n",
      " 'ID00411637202309374271828' 'ID00414637202310318891556'\n",
      " 'ID00417637202310901214011' 'ID00421637202311550012437'\n",
      " 'ID00423637202312137826377' 'ID00426637202313170790466']\n"
     ]
    }
   ],
   "source": [
    "client_ids = np.unique(data_df.Id.values)\n",
    "print('Length : ', len(client_ids), '\\n\\nData : ', client_ids)"
   ],
   "metadata": {
    "collapsed": false,
    "pycharm": {
     "name": "#%%\n"
    }
   }
  },
  {
   "cell_type": "code",
   "execution_count": 8,
   "id": "49a9750f",
   "metadata": {
    "pycharm": {
     "name": "#%%\n"
    }
   },
   "outputs": [
    {
     "name": "stdout",
     "output_type": "stream",
     "text": [
      "                             ImageId                                 MaskId\n",
      "0    ID00007637202177411956430_0.jpg   ID00007637202177411956430_mask_0.jpg\n",
      "1    ID00007637202177411956430_1.jpg   ID00007637202177411956430_mask_1.jpg\n",
      "2    ID00007637202177411956430_2.jpg   ID00007637202177411956430_mask_2.jpg\n",
      "3    ID00007637202177411956430_3.jpg   ID00007637202177411956430_mask_3.jpg\n",
      "4    ID00007637202177411956430_4.jpg   ID00007637202177411956430_mask_4.jpg\n",
      "5    ID00007637202177411956430_5.jpg   ID00007637202177411956430_mask_5.jpg\n",
      "6    ID00007637202177411956430_6.jpg   ID00007637202177411956430_mask_6.jpg\n",
      "7    ID00007637202177411956430_7.jpg   ID00007637202177411956430_mask_7.jpg\n",
      "8    ID00007637202177411956430_8.jpg   ID00007637202177411956430_mask_8.jpg\n",
      "9    ID00007637202177411956430_9.jpg   ID00007637202177411956430_mask_9.jpg\n",
      "10  ID00007637202177411956430_10.jpg  ID00007637202177411956430_mask_10.jpg\n",
      "11  ID00007637202177411956430_11.jpg  ID00007637202177411956430_mask_11.jpg\n",
      "12  ID00007637202177411956430_12.jpg  ID00007637202177411956430_mask_12.jpg\n",
      "13  ID00007637202177411956430_13.jpg  ID00007637202177411956430_mask_13.jpg\n",
      "14  ID00007637202177411956430_14.jpg  ID00007637202177411956430_mask_14.jpg\n",
      "15  ID00007637202177411956430_15.jpg  ID00007637202177411956430_mask_15.jpg\n",
      "16  ID00007637202177411956430_16.jpg  ID00007637202177411956430_mask_16.jpg\n",
      "17  ID00007637202177411956430_17.jpg  ID00007637202177411956430_mask_17.jpg\n",
      "18  ID00007637202177411956430_18.jpg  ID00007637202177411956430_mask_18.jpg\n",
      "19  ID00007637202177411956430_19.jpg  ID00007637202177411956430_mask_19.jpg\n",
      "20  ID00007637202177411956430_20.jpg  ID00007637202177411956430_mask_20.jpg\n",
      "21  ID00007637202177411956430_21.jpg  ID00007637202177411956430_mask_21.jpg\n",
      "22  ID00007637202177411956430_22.jpg  ID00007637202177411956430_mask_22.jpg\n",
      "23  ID00007637202177411956430_23.jpg  ID00007637202177411956430_mask_23.jpg\n",
      "24  ID00007637202177411956430_24.jpg  ID00007637202177411956430_mask_24.jpg\n",
      "25  ID00007637202177411956430_25.jpg  ID00007637202177411956430_mask_25.jpg\n",
      "26  ID00007637202177411956430_26.jpg  ID00007637202177411956430_mask_26.jpg\n",
      "27  ID00007637202177411956430_27.jpg  ID00007637202177411956430_mask_27.jpg\n",
      "28  ID00007637202177411956430_28.jpg  ID00007637202177411956430_mask_28.jpg\n",
      "29  ID00007637202177411956430_29.jpg  ID00007637202177411956430_mask_29.jpg\n"
     ]
    }
   ],
   "source": [
    "# filter bu unique ID\n",
    "index = 0\n",
    "client_data = data_df[data_df.Id == client_ids[index]][[\"ImageId\", \"MaskId\"]]\n",
    "print(client_data)"
   ]
  },
  {
   "cell_type": "markdown",
   "source": [
    "# PREPROCESSING\n",
    "### JPG는 손실압축 방법으로서 픽셀간의 근접한 부분이 어그러질 가능성이 높다.\n",
    "### MASK 데이터는 .PNG, ARRAY가 제일 좋다.\n",
    "### .JPG 일 경우 0 or 255로 바꾸는게 좋다. MASK의 채널은 3개다 (폐, 심장, 기도)."
   ],
   "metadata": {
    "collapsed": false,
    "pycharm": {
     "name": "#%% md\n"
    }
   }
  },
  {
   "cell_type": "code",
   "execution_count": 9,
   "outputs": [
    {
     "name": "stdout",
     "output_type": "stream",
     "text": [
      "ID00007637202177411956430_16.jpg ID00007637202177411956430_mask_16.jpg\n",
      "\n",
      " MASK SHAPE :  (512, 512, 3)\n",
      "\n",
      " MASK UNIQUE :  [  0   1   2   3   4   5   6   7   8   9  10  11  12  13  14  15  16  17\n",
      "  18  19  20  21  22  23  24  25  26  27  28  29  30  31  32  33  34  35\n",
      "  36  37  38  39  40  41  42  43  44  45  46  47  48  49  50  51  52  53\n",
      "  54  55  56  57  58  59  60  61  62  63  64  65  66  67  68  69  70  71\n",
      "  72  73  74  75  76  77  78  79  80  81  82  83  84  85  86  87  88  89\n",
      "  90  91  92  93  94  95  96  97  98  99 100 101 102 103 104 105 106 107\n",
      " 108 109 110 111 112 113 114 115 116 117 118 119 120 121 122 123 124 125\n",
      " 126 127 128 129 130 131 133 134 135 136 137 138 139 140 141 142 143 144\n",
      " 145 146 147 148 149 150 151 152 153 154 155 156 157 158 159 160 161 162\n",
      " 163 164 165 166 167 168 169 170 171 172 173 174 175 176 177 178 179 180\n",
      " 181 182 183 184 185 186 187 188 189 190 191 192 193 194 195 196 197 198\n",
      " 199 200 201 202 203 204 205 206 207 208 209 210 211 212 213 214 215 216\n",
      " 217 218 219 220 221 222 223 224 225 226 227 228 229 230 231 232 233 234\n",
      " 235 236 237 238 239 240 241 242 243 244 245 246 247 248 249 250 251 252\n",
      " 253 254 255]\n"
     ]
    },
    {
     "data": {
      "text/plain": "<Figure size 576x432 with 2 Axes>",
      "image/png": "[encoded data removed]"
     },
     "metadata": {
      "needs_background": "light"
     },
     "output_type": "display_data"
    }
   ],
   "source": [
    "# Filter unique ID -> Filter sub_ID\n",
    "sub_index = 16\n",
    "\n",
    "img_name, mask_name = client_data.iloc[sub_index].values\n",
    "img_path, mask_path = os.path.join(data_dir, \"images\", img_name), os.path.join(data_dir, \"masks\", mask_name)\n",
    "\n",
    "image = cv2.imread(img_path)\n",
    "mask = cv2.imread(mask_path)\n",
    "\n",
    "# Print\n",
    "print(img_name, mask_name)\n",
    "print('\\n MASK SHAPE : ', mask.shape)\n",
    "print('\\n MASK UNIQUE : ', np.unique(mask))\n",
    "# Plot\n",
    "plt.figure(figsize=(8,6))\n",
    "plt.subplot(121)\n",
    "plt.title(\"image\")\n",
    "plt.imshow(image)\n",
    "\n",
    "plt.subplot(122)\n",
    "plt.title(\"mask\")\n",
    "plt.imshow(mask)\n",
    "plt.tight_layout()"
   ],
   "metadata": {
    "collapsed": false,
    "pycharm": {
     "name": "#%%\n"
    }
   }
  },
  {
   "cell_type": "code",
   "execution_count": 10,
   "outputs": [
    {
     "data": {
      "text/plain": "array([[  0,   0,   0],\n       [  0,   0,   0],\n       [  0,   0,   0],\n       [  0,   0,   0],\n       [  0,   0,   0],\n       [  0,   0,   0],\n       [  0,   0,   0],\n       [  0,   0,   0],\n       [  0,   0,   0],\n       [  0,   0,   0],\n       [  0,   0,   0],\n       [  0,   1,   0],\n       [  0,   2,   0],\n       [  0,   2,   0],\n       [  0,   0,   0],\n       [  0,   0,   0],\n       [  2,   0,   1],\n       [  2,   0,   1],\n       [  2,   0,   0],\n       [  0,   0,   0],\n       [  0,   1,   0],\n       [  0,   1,   0],\n       [  0,   1,   0],\n       [  0,   1,   0],\n       [  0,   1,   0],\n       [  0,   1,   0],\n       [  2,   0,   1],\n       [ 12,   0,   0],\n       [ 30,   0,   0],\n       [ 82,   0,   0],\n       [199,  10,   9],\n       [242,   1,   0],\n       [249,   3,   0],\n       [247,   0,   0],\n       [255,   5,   4],\n       [252,   0,   1],\n       [247,   1,   1],\n       [247,   2,   0],\n       [249,   1,   0],\n       [251,   1,   0],\n       [252,   1,   0],\n       [252,   0,   1],\n       [254,   0,   0],\n       [254,   0,   0],\n       [254,   0,   0],\n       [254,   0,   0],\n       [254,   0,   0],\n       [254,   0,   0],\n       [254,   0,   0],\n       [254,   0,   0]], dtype=uint8)"
     },
     "execution_count": 10,
     "metadata": {},
     "output_type": "execute_result"
    }
   ],
   "source": [
    "mask[100:150, 150]"
   ],
   "metadata": {
    "collapsed": false,
    "pycharm": {
     "name": "#%%\n"
    }
   }
  },
  {
   "cell_type": "code",
   "execution_count": 11,
   "outputs": [
    {
     "name": "stdout",
     "output_type": "stream",
     "text": [
      "(512, 512)\n"
     ]
    },
    {
     "data": {
      "text/plain": "<Figure size 432x288 with 1 Axes>",
      "image/png": "[encoded data removed]"
     },
     "metadata": {
      "needs_background": "light"
     },
     "output_type": "display_data"
    }
   ],
   "source": [
    "plt.imshow(mask[..., 0])\n",
    "print(mask[..., 0].shape)"
   ],
   "metadata": {
    "collapsed": false,
    "pycharm": {
     "name": "#%%\n"
    }
   }
  },
  {
   "cell_type": "code",
   "execution_count": 12,
   "outputs": [
    {
     "name": "stdout",
     "output_type": "stream",
     "text": [
      "(512, 512)\n"
     ]
    },
    {
     "data": {
      "text/plain": "<Figure size 432x288 with 1 Axes>",
      "image/png": "[encoded data removed]"
     },
     "metadata": {
      "needs_background": "light"
     },
     "output_type": "display_data"
    }
   ],
   "source": [
    "plt.imshow(mask[..., 1])\n",
    "print(mask[..., 1].shape)"
   ],
   "metadata": {
    "collapsed": false,
    "pycharm": {
     "name": "#%%\n"
    }
   }
  },
  {
   "cell_type": "code",
   "execution_count": 13,
   "outputs": [
    {
     "name": "stdout",
     "output_type": "stream",
     "text": [
      "(512, 512)\n"
     ]
    },
    {
     "data": {
      "text/plain": "<Figure size 432x288 with 1 Axes>",
      "image/png": "[encoded data removed]"
     },
     "metadata": {
      "needs_background": "light"
     },
     "output_type": "display_data"
    }
   ],
   "source": [
    "plt.imshow(mask[..., 2])\n",
    "print(mask[..., 2].shape)"
   ],
   "metadata": {
    "collapsed": false,
    "pycharm": {
     "name": "#%%\n"
    }
   }
  },
  {
   "cell_type": "code",
   "execution_count": 14,
   "outputs": [
    {
     "name": "stdout",
     "output_type": "stream",
     "text": [
      "ID00007637202177411956430_16.jpg ID00007637202177411956430_mask_16.jpg\n",
      "\n",
      " MASK SHAPE :  (512, 512, 3)\n",
      "\n",
      " MASK UNIQUE :  [  0 255]\n"
     ]
    },
    {
     "data": {
      "text/plain": "<Figure size 576x432 with 2 Axes>",
      "image/png": "[encoded data removed]"
     },
     "metadata": {
      "needs_background": "light"
     },
     "output_type": "display_data"
    }
   ],
   "source": [
    "# Filter unique ID -> Filter sub_ID\n",
    "img_name, mask_name = client_data.iloc[sub_index].values\n",
    "img_path, mask_path = os.path.join(data_dir, \"images\", img_name), os.path.join(data_dir, \"masks\", mask_name)\n",
    "image = cv2.imread(img_path)\n",
    "mask = cv2.imread(mask_path)\n",
    "\n",
    "thres = 240\n",
    "mask[mask < thres] = 0\n",
    "mask[mask >= thres] = 255\n",
    "\n",
    "# Print\n",
    "print(img_name, mask_name)\n",
    "print('\\n MASK SHAPE : ', mask.shape)\n",
    "print('\\n MASK UNIQUE : ', np.unique(mask))\n",
    "# Plot\n",
    "plt.figure(figsize=(8,6))\n",
    "plt.subplot(121)\n",
    "plt.title(\"image\")\n",
    "plt.imshow(image)\n",
    "plt.subplot(122)\n",
    "plt.title(\"mask\")\n",
    "plt.imshow(mask)\n",
    "plt.tight_layout()"
   ],
   "metadata": {
    "collapsed": false,
    "pycharm": {
     "name": "#%%\n"
    }
   }
  },
  {
   "cell_type": "code",
   "execution_count": 15,
   "outputs": [
    {
     "data": {
      "text/plain": "array([[  0,   0,   0],\n       [  0,   0,   0],\n       [  0,   0,   0],\n       [  0,   0,   0],\n       [  0,   0,   0],\n       [  0,   0,   0],\n       [  0,   0,   0],\n       [  0,   0,   0],\n       [  0,   0,   0],\n       [  0,   0,   0],\n       [  0,   0,   0],\n       [  0,   0,   0],\n       [  0,   0,   0],\n       [  0,   0,   0],\n       [  0,   0,   0],\n       [  0,   0,   0],\n       [  0,   0,   0],\n       [  0,   0,   0],\n       [  0,   0,   0],\n       [  0,   0,   0],\n       [  0,   0,   0],\n       [  0,   0,   0],\n       [  0,   0,   0],\n       [  0,   0,   0],\n       [  0,   0,   0],\n       [  0,   0,   0],\n       [  0,   0,   0],\n       [  0,   0,   0],\n       [  0,   0,   0],\n       [  0,   0,   0],\n       [  0,   0,   0],\n       [255,   0,   0],\n       [255,   0,   0],\n       [255,   0,   0],\n       [255,   0,   0],\n       [255,   0,   0],\n       [255,   0,   0],\n       [255,   0,   0],\n       [255,   0,   0],\n       [255,   0,   0],\n       [255,   0,   0],\n       [255,   0,   0],\n       [255,   0,   0],\n       [255,   0,   0],\n       [255,   0,   0],\n       [255,   0,   0],\n       [255,   0,   0],\n       [255,   0,   0],\n       [255,   0,   0],\n       [255,   0,   0]], dtype=uint8)"
     },
     "execution_count": 15,
     "metadata": {},
     "output_type": "execute_result"
    }
   ],
   "source": [
    "mask[100:150, 150]"
   ],
   "metadata": {
    "collapsed": false,
    "pycharm": {
     "name": "#%%\n"
    }
   }
  },
  {
   "cell_type": "code",
   "execution_count": 16,
   "outputs": [
    {
     "data": {
      "text/plain": "<matplotlib.image.AxesImage at 0x1e799d3da30>"
     },
     "execution_count": 16,
     "metadata": {},
     "output_type": "execute_result"
    },
    {
     "data": {
      "text/plain": "<Figure size 432x288 with 1 Axes>",
      "image/png": "[encoded data removed]"
     },
     "metadata": {
      "needs_background": "light"
     },
     "output_type": "display_data"
    }
   ],
   "source": [
    "plt.imshow(mask[..., 0])"
   ],
   "metadata": {
    "collapsed": false,
    "pycharm": {
     "name": "#%%\n"
    }
   }
  },
  {
   "cell_type": "code",
   "execution_count": 17,
   "outputs": [
    {
     "data": {
      "text/plain": "<matplotlib.image.AxesImage at 0x1e799da1ac0>"
     },
     "execution_count": 17,
     "metadata": {},
     "output_type": "execute_result"
    },
    {
     "data": {
      "text/plain": "<Figure size 432x288 with 1 Axes>",
      "image/png": "[encoded data removed]"
     },
     "metadata": {
      "needs_background": "light"
     },
     "output_type": "display_data"
    }
   ],
   "source": [
    "plt.imshow(mask[..., 1])"
   ],
   "metadata": {
    "collapsed": false,
    "pycharm": {
     "name": "#%%\n"
    }
   }
  },
  {
   "cell_type": "code",
   "execution_count": 18,
   "outputs": [
    {
     "data": {
      "text/plain": "<matplotlib.image.AxesImage at 0x1e799e039d0>"
     },
     "execution_count": 18,
     "metadata": {},
     "output_type": "execute_result"
    },
    {
     "data": {
      "text/plain": "<Figure size 432x288 with 1 Axes>",
      "image/png": "[encoded data removed]"
     },
     "metadata": {
      "needs_background": "light"
     },
     "output_type": "display_data"
    }
   ],
   "source": [
    "plt.imshow(mask[..., 2])"
   ],
   "metadata": {
    "collapsed": false,
    "pycharm": {
     "name": "#%%\n"
    }
   }
  },
  {
   "cell_type": "markdown",
   "source": [
    "### SEGMENTATION NEEDS BACKGROUND\n",
    "### OPEN CV : (B, G, R)"
   ],
   "metadata": {
    "collapsed": false,
    "pycharm": {
     "name": "#%% md\n"
    }
   }
  },
  {
   "cell_type": "code",
   "execution_count": 19,
   "outputs": [],
   "source": [
    "regions = [\"background\", \"trachea\", \"heart\", \"lung\"]\n",
    "colors = ((0,0,0), (255, 0, 0), (0, 255, 0), (0, 0, 255)) # (B, G , R)"
   ],
   "metadata": {
    "collapsed": false,
    "pycharm": {
     "name": "#%%\n"
    }
   }
  },
  {
   "cell_type": "code",
   "execution_count": 20,
   "outputs": [],
   "source": [
    "def get_client_data(data_df, index):\n",
    "    # 'data_df' has its unique ID\n",
    "    client_ids = np.unique(data_df.Id.values)\n",
    "    client_id = client_ids[index]\n",
    "    # Main index\n",
    "    client_data = data_df[data_df.Id == client_id]\n",
    "    image_files = list(client_data[\"ImageId\"])\n",
    "    mask_files = list(client_data[\"MaskId\"])\n",
    "    return client_id, image_files, mask_files"
   ],
   "metadata": {
    "collapsed": false,
    "pycharm": {
     "name": "#%%\n"
    }
   }
  },
  {
   "cell_type": "code",
   "execution_count": 21,
   "id": "3f3dcf3d",
   "metadata": {
    "pycharm": {
     "name": "#%%\n"
    }
   },
   "outputs": [],
   "source": [
    "index = 0\n",
    "client_id, image_files, mask_files = get_client_data(data_df, index)\n",
    "\n",
    "# 영상은 기본으로 8비트 'np.uint8'\n",
    "# shape = (255,255) -> IMAGE + MASK 영상을 집어넣기 위해서 가로(512), 폭(512*2+50[Buffer])\n",
    "grid_pad = 70\n",
    "canvas = np.zeros(shape=(512, 2*512+grid_pad, 3), dtype=np.uint8)\n",
    "for i in range(len(image_files)):\n",
    "    # image files\n",
    "    image = cv2.imread(os.path.join(data_dir, \"images\", image_files[i]))\n",
    "    image = cv2.cvtColor(image, cv2.COLOR_BGR2RGB)\n",
    "    # mask files\n",
    "    mask = cv2.imread(os.path.join(data_dir, \"masks\", mask_files[i]))\n",
    "    mask = cv2.cvtColor(mask, cv2.COLOR_BGR2RGB)\n",
    "\n",
    "    # MASK IMAGE PREPROCESSING\n",
    "    thres = 240\n",
    "    mask[mask < thres] = 0\n",
    "    mask[mask >= thres] = 255\n",
    "\n",
    "\n",
    "    # CANVAS SETTING (512+grid_pad:2*512+grid_pad)\n",
    "    canvas[:, :512, :] = image #왼쪽부터 'image'\n",
    "    canvas[:, 512+grid_pad:2*512+grid_pad, :] = mask # Buffer 이후부터 'mask'\n",
    "    \n",
    "    text_buff = 410\n",
    "    for j in range(1, len(regions)):\n",
    "        cv2.putText(canvas, f'{regions[j].upper()}', (900, text_buff), cv2.FONT_HERSHEY_SIMPLEX, 1, colors[j], 2)\n",
    "        text_buff += 40\n",
    "    \n",
    "    cv2.imshow('CT frames', canvas)\n",
    "    key = cv2.waitKey(100)\n",
    "    if key == 27:\n",
    "        break\n",
    "cv2.destroyAllWindows()"
   ]
  },
  {
   "cell_type": "code",
   "execution_count": 22,
   "outputs": [
    {
     "data": {
      "text/plain": "array([0], dtype=uint8)"
     },
     "execution_count": 22,
     "metadata": {},
     "output_type": "execute_result"
    }
   ],
   "source": [
    "# mask -> end of the loop\n",
    "# mask index needs to be set\n",
    "mask\n",
    "np.unique(mask)"
   ],
   "metadata": {
    "collapsed": false,
    "pycharm": {
     "name": "#%%\n"
    }
   }
  },
  {
   "cell_type": "markdown",
   "id": "389a654e",
   "metadata": {
    "pycharm": {
     "name": "#%% md\n"
    }
   },
   "source": [
    "## TENSOR CONVERT\n",
    "<pre><font size=\"4\">\n",
    "data_dir\n",
    "ㄴ train\n",
    "     ㄴ images = *.jpg\n",
    "     ㄴ masks = *.jpg\n",
    " ㄴ mask\n",
    "     ㄴ images = *.jpg\n",
    "     ㄴ masks = *.jpg\n",
    "</pre></font>"
   ]
  },
  {
   "cell_type": "markdown",
   "source": [
    "### cv2.resiz.interpolation :\n",
    "<pre><font size=\"4\">\n",
    "\n",
    "https://chadrick-kwag.net/cv2-resize-interpolation-methods/\n",
    "\n",
    "https://stackoverflow.com/questions/23853632/which-kind-of-interpolation-best-for-resizing-image\n",
    "    'To shrink an image, it will generally look best with INTER_AREA interpolation,\n",
    "    whereas to enlarge an image, it will generally look best with INTER_CUBIC (slow) or\n",
    "    INTER_LINEAR (faster but still looks OK).'\n",
    "</pre></font>\n",
    "\n",
    "### cv2.resiz.interpolation = cv2.INTER_NEAREST :\n",
    "<pre><font size=\"4\">\n",
    "* MASK -> .PNG is the best\n",
    "* mask*.jpg -> replace the pixel in the nearest values. If value range (0,10),\n",
    "then replace to the nearest eiter 1 or 10, not 5.\n",
    "</pre></font>"
   ],
   "metadata": {
    "collapsed": false,
    "pycharm": {
     "name": "#%% md\n"
    }
   }
  },
  {
   "cell_type": "code",
   "execution_count": 39,
   "outputs": [
    {
     "name": "stdout",
     "output_type": "stream",
     "text": [
      "512 512 3\n",
      "BACKGROUND SHAPE AFTER ADJUSTMENT :  (512, 512)\n",
      "\n",
      "BACKGROUND : \n",
      "\n"
     ]
    },
    {
     "data": {
      "text/plain": "array([[1., 1., 1., ..., 1., 1., 1.],\n       [1., 1., 1., ..., 1., 1., 1.],\n       [1., 1., 1., ..., 1., 1., 1.],\n       ...,\n       [1., 1., 1., ..., 1., 1., 1.],\n       [1., 1., 1., ..., 1., 1., 1.],\n       [1., 1., 1., ..., 1., 1., 1.]])"
     },
     "execution_count": 39,
     "metadata": {},
     "output_type": "execute_result"
    }
   ],
   "source": [
    "mask_H, mask_W, mask_C = mask.shape # (512, 512, 3)\n",
    "print(mask_H, mask_W, mask_C)\n",
    "print_background = np.ones(shape=(mask_H, mask_W)) # 1로 가득찬 array를 생성\n",
    "print('BACKGROUND SHAPE AFTER ADJUSTMENT : ', print_background.shape)\n",
    "print('\\nBACKGROUND : \\n')\n",
    "print_background"
   ],
   "metadata": {
    "collapsed": false,
    "pycharm": {
     "name": "#%%\n"
    }
   }
  },
  {
   "cell_type": "code",
   "execution_count": 40,
   "outputs": [
    {
     "name": "stdout",
     "output_type": "stream",
     "text": [
      "\n",
      "BACKGROUND ADDED IN MASK SHAPE: \n",
      "\n",
      "(512, 512, 4)\n",
      "\n",
      "BACKGROUND ADDED IN MASK: \n",
      "\n"
     ]
    },
    {
     "data": {
      "text/plain": "array([[[1., 0., 0., 0.],\n        [1., 0., 0., 0.],\n        [1., 0., 0., 0.],\n        ...,\n        [1., 0., 0., 0.],\n        [1., 0., 0., 0.],\n        [1., 0., 0., 0.]],\n\n       [[1., 0., 0., 0.],\n        [1., 0., 0., 0.],\n        [1., 0., 0., 0.],\n        ...,\n        [1., 0., 0., 0.],\n        [1., 0., 0., 0.],\n        [1., 0., 0., 0.]],\n\n       [[1., 0., 0., 0.],\n        [1., 0., 0., 0.],\n        [1., 0., 0., 0.],\n        ...,\n        [1., 0., 0., 0.],\n        [1., 0., 0., 0.],\n        [1., 0., 0., 0.]],\n\n       ...,\n\n       [[1., 0., 0., 0.],\n        [1., 0., 0., 0.],\n        [1., 0., 0., 0.],\n        ...,\n        [1., 0., 0., 0.],\n        [1., 0., 0., 0.],\n        [1., 0., 0., 0.]],\n\n       [[1., 0., 0., 0.],\n        [1., 0., 0., 0.],\n        [1., 0., 0., 0.],\n        ...,\n        [1., 0., 0., 0.],\n        [1., 0., 0., 0.],\n        [1., 0., 0., 0.]],\n\n       [[1., 0., 0., 0.],\n        [1., 0., 0., 0.],\n        [1., 0., 0., 0.],\n        ...,\n        [1., 0., 0., 0.],\n        [1., 0., 0., 0.],\n        [1., 0., 0., 0.]]])"
     },
     "execution_count": 40,
     "metadata": {},
     "output_type": "execute_result"
    }
   ],
   "source": [
    "print_background[mask[...,0] != 0] = 0 # FILL BACKGROUND [0]\n",
    "print_background[mask[...,1] != 0] = 0 # FILL BACKGROUND [1]\n",
    "print_background[mask[...,2] != 0] = 0 # FILL BACKGROUND [2]\n",
    "\n",
    "print_mask = np.concatenate([np.expand_dims(print_background, -1), mask], axis=-1) # (1, 2, 3, Background)\n",
    "print('\\nBACKGROUND ADDED IN MASK SHAPE: \\n')\n",
    "print(print_mask.shape)\n",
    "print('\\nBACKGROUND ADDED IN MASK: \\n')\n",
    "print_mask"
   ],
   "metadata": {
    "collapsed": false,
    "pycharm": {
     "name": "#%%\n"
    }
   }
  },
  {
   "cell_type": "code",
   "execution_count": 41,
   "outputs": [
    {
     "name": "stdout",
     "output_type": "stream",
     "text": [
      "(512, 512)\n",
      "[0 1 2 3]\n"
     ]
    },
    {
     "data": {
      "text/plain": "array([[0, 0, 0, ..., 0, 0, 0],\n       [0, 0, 0, ..., 0, 0, 0],\n       [0, 0, 0, ..., 0, 0, 0],\n       ...,\n       [0, 0, 0, ..., 0, 0, 0],\n       [0, 0, 0, ..., 0, 0, 0],\n       [0, 0, 0, ..., 0, 0, 0]], dtype=int64)"
     },
     "execution_count": 41,
     "metadata": {},
     "output_type": "execute_result"
    }
   ],
   "source": [
    "print_mask = np.argmax(print_mask, axis=-1, keepdims=False) # SQUEEZE INTO 1\n",
    "print(print_mask.shape)\n",
    "print(np.unique(print_mask))\n",
    "\n",
    "print_mask"
   ],
   "metadata": {
    "collapsed": false,
    "pycharm": {
     "name": "#%%\n"
    }
   }
  },
  {
   "cell_type": "code",
   "execution_count": 43,
   "outputs": [
    {
     "name": "stdout",
     "output_type": "stream",
     "text": [
      "torch.Size([512, 512, 3])\n"
     ]
    }
   ],
   "source": [
    "print_target = torch.from_numpy(mask).long()\n",
    "print(print_target.shape)"
   ],
   "metadata": {
    "collapsed": false,
    "pycharm": {
     "name": "#%%\n"
    }
   }
  },
  {
   "cell_type": "markdown",
   "source": [
    "### DATASET CLASS"
   ],
   "metadata": {
    "collapsed": false,
    "pycharm": {
     "name": "#%% md\n"
    }
   }
  },
  {
   "cell_type": "code",
   "execution_count": 24,
   "outputs": [],
   "source": [
    "class CT_dataset():\n",
    "    \"\"\"\n",
    "    data_dir = \"../data/segmentation/\"\n",
    "    phase = \"train\"\n",
    "    \"\"\"\n",
    "    def __init__(self, data_dir, phase, transformer=None):\n",
    "        self.phase = phase\n",
    "        self.images_dir = os.path.join(data_dir, phase, \"images\")\n",
    "        self.masks_dir = os.path.join(data_dir, phase, \"masks\")\n",
    "        self.image_files = [filename for filename in os.listdir(self.images_dir) if filename.endswith(\"jpg\")]\n",
    "        self.mask_files = [filename for filename in os.listdir(self.masks_dir) if filename.endswith(\"jpg\")]\n",
    "\n",
    "        assert len(self.image_files) == len(self.mask_files) # https://wikidocs.net/21050\n",
    "\n",
    "        self.transformer = transformer\n",
    "\n",
    "    def __len__(self):\n",
    "        return len(self.image_files)\n",
    "\n",
    "    def __getitem__(self, index):\n",
    "        image = cv2.imread(os.path.join(self.images_dir, self.image_files[index]))\n",
    "        image = cv2.resize(image, dsize=(IMAGE_SIZE,IMAGE_SIZE), interpolation=cv2.INTER_LINEAR)\n",
    "        mask = cv2.imread(os.path.join(self.masks_dir, self.mask_files[index]))\n",
    "        # MASK -> .PNG is the best\n",
    "        # mask*.jpg -> replace the pixel in the nearest values.\n",
    "        # If value range (0,10), then replace to the nearest, eiter 1 or 10, not 5.\n",
    "        mask = cv2.resize(mask, dsize=(IMAGE_SIZE,IMAGE_SIZE), interpolation=cv2.INTER_NEAREST)\n",
    "\n",
    "        # MASK IMAGE PREPROCESSING\n",
    "        mask[mask < 240] = 0\n",
    "        mask[mask >= 240] = 255\n",
    "        mask = mask / 255 # (0,1)\n",
    "\n",
    "        # BACKGROUND SETUP\n",
    "        mask_H, mask_W, mask_C = mask.shape # (512, 512, 3)\n",
    "        background = np.ones(shape=(mask_H, mask_W)) # FILL WITH 1\n",
    "        background[mask[...,0] != 0] = 0 # FILL BACKGROUND [0]\n",
    "        background[mask[...,1] != 0] = 0 # FILL BACKGROUND [1]\n",
    "        background[mask[...,2] != 0] = 0 # FILL BACKGROUND [2]\n",
    "        mask = np.concatenate([np.expand_dims(background, -1), mask], axis=-1) # (1, 2, 3, Background)\n",
    "        mask = np.argmax(mask, axis=-1, keepdims=False) # EX) [0, 1, 2, 3] : BIGGEST CHANNEL INTO 1 DIM\n",
    "\n",
    "        if self.transformer:\n",
    "            image = self.transformer(image)\n",
    "\n",
    "        target = torch.from_numpy(mask).long() # EX)torch.size([512, 512, 3]) : CONVERT INTO TENSOR\n",
    "\n",
    "        return image, target"
   ],
   "metadata": {
    "collapsed": false,
    "pycharm": {
     "name": "#%%\n"
    }
   }
  },
  {
   "cell_type": "code",
   "execution_count": 25,
   "id": "445e3f3f",
   "metadata": {
    "pycharm": {
     "name": "#%%\n"
    }
   },
   "outputs": [],
   "source": [
    "IMAGE_SIZE = 224"
   ]
  },
  {
   "cell_type": "code",
   "execution_count": 26,
   "id": "867aa168",
   "metadata": {
    "pycharm": {
     "name": "#%%\n"
    }
   },
   "outputs": [],
   "source": [
    "def build_transformer():\n",
    "    transformer = transforms.Compose([\n",
    "        transforms.ToTensor(),\n",
    "        transforms.Normalize([0.485, 0.456, 0.406], [0.229, 0.224, 0.225]) # IMAGENET DATA\n",
    "    ])\n",
    "    return transformer"
   ]
  },
  {
   "cell_type": "code",
   "execution_count": 27,
   "id": "cc17fc04",
   "metadata": {
    "pycharm": {
     "name": "#%%\n"
    }
   },
   "outputs": [],
   "source": [
    "def collate_fn(batch):\n",
    "    \"\"\"\n",
    "    * Formulate batch into mini batch.\n",
    "    * Dataloader returns the value after \"collate_fn\"\n",
    "    \"\"\"\n",
    "    images = []\n",
    "    targets = []\n",
    "    for a, b in batch: \n",
    "        images.append(a)\n",
    "        targets.append(b)\n",
    "    images = torch.stack(images, dim=0) \n",
    "    targets = torch.stack(targets, dim=0)\n",
    "\n",
    "    return images, targets"
   ]
  },
  {
   "cell_type": "code",
   "execution_count": 28,
   "id": "856b11e4",
   "metadata": {
    "pycharm": {
     "name": "#%%\n"
    }
   },
   "outputs": [],
   "source": [
    "transformer = build_transformer()\n",
    "tr_dataset = CT_dataset(data_dir=data_dir, phase=\"train\", transformer=transformer)\n",
    "val_dataset = CT_dataset(data_dir=data_dir, phase=\"val\", transformer=transformer)\n",
    "tr_dataloader = DataLoader(tr_dataset, batch_size=4, shuffle=True, collate_fn=collate_fn)\n",
    "val_dataloader = DataLoader(val_dataset, batch_size=1, shuffle=False, collate_fn=collate_fn)"
   ]
  },
  {
   "cell_type": "markdown",
   "source": [
    "### DATASET CLASS RESULT"
   ],
   "metadata": {
    "collapsed": false,
    "pycharm": {
     "name": "#%% md\n"
    }
   }
  },
  {
   "cell_type": "code",
   "execution_count": 29,
   "outputs": [
    {
     "name": "stdout",
     "output_type": "stream",
     "text": [
      "image shape : , torch.Size([3, 224, 224])\n",
      "\n",
      "target_shape : , torch.Size([224, 224])\n",
      "target_unique : , tensor([0, 1, 3])\n"
     ]
    }
   ],
   "source": [
    "image_sample, target_sample = tr_dataset[0]\n",
    "print(f\"image shape : , {image_sample.shape}\")\n",
    "print(f\"\\ntarget_shape : , {target_sample.shape}\")\n",
    "print(f\"target_unique : , {target_sample.unique()}\")"
   ],
   "metadata": {
    "collapsed": false,
    "pycharm": {
     "name": "#%%\n"
    }
   }
  },
  {
   "cell_type": "markdown",
   "source": [
    "### DATALOADER CLASS RESULT\n",
    "#### returns mini batch output"
   ],
   "metadata": {
    "collapsed": false,
    "pycharm": {
     "name": "#%% md\n"
    }
   }
  },
  {
   "cell_type": "code",
   "execution_count": 30,
   "outputs": [],
   "source": [
    "def build_dataloader(data_dir, batch_size=4):\n",
    "    transformer = build_transformer()\n",
    "\n",
    "    dataloaders = {}\n",
    "    tr_dataset = CT_dataset(data_dir=data_dir, phase=\"train\", transformer=transformer)\n",
    "    dataloaders[\"train\"] = DataLoader(tr_dataset, batch_size=batch_size, shuffle=True, collate_fn=collate_fn)\n",
    "\n",
    "    val_dataset = CT_dataset(data_dir=data_dir, phase=\"val\", transformer=transformer)\n",
    "    dataloaders[\"val\"] = DataLoader(val_dataset, batch_size=1, shuffle=False, collate_fn=collate_fn)\n",
    "    return dataloaders"
   ],
   "metadata": {
    "collapsed": false,
    "pycharm": {
     "name": "#%%\n"
    }
   }
  },
  {
   "cell_type": "markdown",
   "id": "2bc7c3f9",
   "metadata": {
    "pycharm": {
     "name": "#%% md\n"
    }
   },
   "source": [
    "## U-NET ARCHITECTURE"
   ]
  },
  {
   "attachments": {
    "unet-architecture.png": {
     "image/png": "[encoded data removed]"
    }
   },
   "cell_type": "markdown",
   "id": "61249f74",
   "metadata": {
    "pycharm": {
     "name": "#%% md\n"
    }
   },
   "source": [
    "![](unet-architecture.png)"
   ]
  },
  {
   "cell_type": "markdown",
   "source": [
    "### ENCODER"
   ],
   "metadata": {
    "collapsed": false,
    "pycharm": {
     "name": "#%% md\n"
    }
   }
  },
  {
   "cell_type": "code",
   "execution_count": 31,
   "outputs": [],
   "source": [
    "def ConvLayer(in_channels, out_channels):\n",
    "    layers = nn.Sequential(\n",
    "        nn.Conv2d(in_channels, out_channels, kernel_size=3, padding=1),\n",
    "        nn.BatchNorm2d(out_channels),\n",
    "        nn.ReLU(inplace=True),\n",
    "\n",
    "\n",
    "        nn.Conv2d(out_channels, out_channels, kernel_size=3, padding=1),\n",
    "        nn.BatchNorm2d(out_channels),\n",
    "        nn.ReLU(inplace=True),\n",
    "    )\n",
    "    return layers"
   ],
   "metadata": {
    "collapsed": false,
    "pycharm": {
     "name": "#%%\n"
    }
   }
  },
  {
   "cell_type": "code",
   "execution_count": 32,
   "outputs": [
    {
     "name": "stdout",
     "output_type": "stream",
     "text": [
      "images shape: torch.Size([4, 3, 224, 224])\n",
      "masks shape: torch.Size([4, 224, 224])\n"
     ]
    }
   ],
   "source": [
    "for index, batch in enumerate(tr_dataloader):\n",
    "    images = batch[0]\n",
    "    targets = batch[1]\n",
    "    print(f\"images shape: {images.shape}\")\n",
    "    print(f\"masks shape: {targets.shape}\")\n",
    "    if index == 0:\n",
    "        break"
   ],
   "metadata": {
    "collapsed": false,
    "pycharm": {
     "name": "#%%\n"
    }
   }
  },
  {
   "cell_type": "code",
   "execution_count": 33,
   "id": "e820e0b4",
   "metadata": {
    "pycharm": {
     "name": "#%%\n"
    }
   },
   "outputs": [],
   "source": [
    "class Encoder(nn.Module):\n",
    "    def __init__(self):\n",
    "        super().__init__()\n",
    "        self.conv_block1 = ConvLayer(in_channels=3, out_channels=64)\n",
    "        self.conv_block2 = ConvLayer(in_channels=64, out_channels=128)\n",
    "        self.conv_block3 = ConvLayer(in_channels=128, out_channels=256)\n",
    "        self.conv_block4 = ConvLayer(in_channels=256, out_channels=512)\n",
    "        self.conv_block5 = ConvLayer(in_channels=512, out_channels=1024)\n",
    "        self.pool = nn.MaxPool2d(kernel_size=2)\n",
    "        \n",
    "    def forward(self, x):\n",
    "        encode_features = []\n",
    "        out = self.conv_block1(x)\n",
    "        encode_features.append(out) # SKIP CONNECTION\n",
    "        out = self.pool(out)\n",
    "        \n",
    "        out = self.conv_block2(out)\n",
    "        encode_features.append(out)\n",
    "        out = self.pool(out)\n",
    "        \n",
    "        out = self.conv_block3(out)\n",
    "        encode_features.append(out)\n",
    "        out = self.pool(out)\n",
    "        \n",
    "        out = self.conv_block4(out)\n",
    "        encode_features.append(out)\n",
    "        out = self.pool(out)\n",
    "        \n",
    "        out = self.conv_block5(out)\n",
    "        return out, encode_features"
   ]
  },
  {
   "cell_type": "markdown",
   "source": [
    "### ENCODER TEST"
   ],
   "metadata": {
    "collapsed": false,
    "pycharm": {
     "name": "#%% md\n"
    }
   }
  },
  {
   "cell_type": "code",
   "execution_count": 34,
   "id": "12b44878",
   "metadata": {
    "pycharm": {
     "name": "#%%\n"
    }
   },
   "outputs": [
    {
     "name": "stdout",
     "output_type": "stream",
     "text": [
      "torch.Size([1, 64, 224, 224])\n",
      "torch.Size([1, 128, 112, 112])\n",
      "torch.Size([1, 256, 56, 56])\n",
      "torch.Size([1, 512, 28, 28])\n",
      "torch.Size([1, 1024, 14, 14])\n"
     ]
    }
   ],
   "source": [
    "encoder = Encoder()\n",
    "x = torch.randn(1, 3, 224, 224) # (B, C, H, W)\n",
    "out, ftrs = encoder(x)\n",
    "\n",
    "for ftr in ftrs:\n",
    "    print(ftr.shape)\n",
    "print(out.shape)"
   ]
  },
  {
   "cell_type": "markdown",
   "source": [
    "![](unet-architecture.png)"
   ],
   "metadata": {
    "collapsed": false,
    "pycharm": {
     "name": "#%% md\n"
    }
   }
  },
  {
   "cell_type": "markdown",
   "source": [
    "### DECODER"
   ],
   "metadata": {
    "collapsed": false,
    "pycharm": {
     "name": "#%% md\n"
    }
   }
  },
  {
   "cell_type": "code",
   "execution_count": 35,
   "id": "4b7ee447",
   "metadata": {
    "pycharm": {
     "name": "#%%\n"
    }
   },
   "outputs": [],
   "source": [
    "def UpConvLayer(in_channels, out_channels):\n",
    "    layers = nn.Sequential(\n",
    "        nn.ConvTranspose2d(in_channels, out_channels, kernel_size=2, stride=2),\n",
    "        nn.BatchNorm2d(out_channels),\n",
    "        nn.ReLU(inplace=True)\n",
    "    )\n",
    "    return layers"
   ]
  },
  {
   "cell_type": "code",
   "execution_count": 36,
   "id": "40d134a1",
   "metadata": {
    "pycharm": {
     "name": "#%%\n"
    }
   },
   "outputs": [],
   "source": [
    "class Decoder(nn.Module):\n",
    "    def __init__(self):\n",
    "        super().__init__()\n",
    "        self.upconv_layer1 = UpConvLayer(in_channels=1024, out_channels=512) # (LAST BOTTOM) UPCONV LAYER 2*2\n",
    "        self.conv_block1 = ConvLayer(in_channels=512+512, out_channels=512) # CONCATENATE\n",
    "        \n",
    "        self.upconv_layer2 = UpConvLayer(in_channels=512, out_channels=256)\n",
    "        self.conv_block2 = ConvLayer(in_channels=256+256, out_channels=256) # CONCATENATE\n",
    "        \n",
    "        self.upconv_layer3 = UpConvLayer(in_channels=256, out_channels=128)\n",
    "        self.conv_block3 = ConvLayer(in_channels=128+128, out_channels=128) # CONCATENATE\n",
    "        \n",
    "        self.upconv_layer4 = UpConvLayer(in_channels=128, out_channels=64)\n",
    "        self.conv_block4 = ConvLayer(in_channels=64+64, out_channels=64) # CONCATENATE\n",
    "        \n",
    "    def forward(self, x, encoder_features): # encoder_features : skip-connection\n",
    "        \"\"\"\n",
    "        encoder_features[-1] : the latest encoder (512, 512, 64)\n",
    "        out.shape[2:] : (H, W)\n",
    "        \"\"\"\n",
    "        out = self.upconv_layer1(x)\n",
    "        croped_enc_feature = self._center_crop(encoder_features[-1], out.shape[2:]) # SKIP CONNECTION -> (Batch, C, H, W) -> (H, W)\n",
    "        out = torch.cat([out, croped_enc_feature], dim=1) # (Batch, C, H, W)\n",
    "        out = self.conv_block1(out)\n",
    "        \n",
    "        out = self.upconv_layer2(out)\n",
    "        croped_enc_feature = self._center_crop(encoder_features[-2], out.shape[2:])\n",
    "        out = torch.cat([out, croped_enc_feature], dim=1)\n",
    "        out = self.conv_block2(out)\n",
    "        \n",
    "        out = self.upconv_layer3(out)\n",
    "        croped_enc_feature = self._center_crop(encoder_features[-3], out.shape[2:])\n",
    "        out = torch.cat([out, croped_enc_feature], dim=1)\n",
    "        out = self.conv_block3(out)\n",
    "        \n",
    "        out = self.upconv_layer4(out)\n",
    "        croped_enc_feature = self._center_crop(encoder_features[-4], out.shape[2:])\n",
    "        out = torch.cat([out, croped_enc_feature], dim=1)\n",
    "        out = self.conv_block4(out)\n",
    "        return out\n",
    "        \n",
    "    def _center_crop(self, encoder_feature, decoder_feature_size):\n",
    "        \"\"\"\n",
    "        :param decoder_feature_size: encoder_features[-1]\n",
    "        :param encoder_feature: out.shape[2:]\n",
    "        :return:\n",
    "        \"\"\"\n",
    "        croped_features = transforms.CenterCrop(size=decoder_feature_size)(encoder_feature)\n",
    "        return croped_features"
   ]
  },
  {
   "cell_type": "code",
   "execution_count": 37,
   "id": "e1be6706",
   "metadata": {
    "pycharm": {
     "name": "#%%\n"
    }
   },
   "outputs": [],
   "source": [
    "encoder = Encoder()\n",
    "decoder = Decoder()\n",
    "x = torch.randn(1, 3, 224, 224)\n",
    "out, ftrs = encoder(x)\n",
    "out = decoder(out, ftrs)"
   ]
  },
  {
   "cell_type": "code",
   "execution_count": 38,
   "id": "2e9482fd",
   "metadata": {
    "pycharm": {
     "name": "#%%\n"
    }
   },
   "outputs": [
    {
     "name": "stdout",
     "output_type": "stream",
     "text": [
      "torch.Size([1, 64, 224, 224])\n"
     ]
    }
   ],
   "source": [
    "print(out.shape)"
   ]
  },
  {
   "cell_type": "markdown",
   "source": [
    "## U-NET FUNCTION\n",
    "\n",
    "#### F.interpolate\n",
    "<pre><font size=\"4\">\n",
    "\n",
    "ttps://gaussian37.github.io/dl-pytorch-snippets/\n",
    "\n",
    "\"interpolation은 작은 feature의 크기를 크게 변경시킬떄 사용됩니다.\"\n",
    "\n",
    "</pre></font>\n"
   ],
   "metadata": {
    "collapsed": false,
    "pycharm": {
     "name": "#%% md\n"
    }
   }
  },
  {
   "cell_type": "code",
   "execution_count": 39,
   "id": "10fbf4e7",
   "metadata": {
    "pycharm": {
     "name": "#%%\n"
    }
   },
   "outputs": [],
   "source": [
    "class UNet(nn.Module):\n",
    "    def __init__(self, num_classes, retain_input_dim=True):\n",
    "        super().__init__()\n",
    "        self.encoder = Encoder()\n",
    "        self.decoder = Decoder()\n",
    "        self.head = nn.Conv2d(64, num_classes, kernel_size=1) # OUTPUT SEGMENT INTO NUMBER OF CLASSES\n",
    "        self.retain_input_dim = retain_input_dim\n",
    "        \n",
    "    def forward(self, x):\n",
    "        out, encode_features = self.encoder(x)\n",
    "        out = self.decoder(out, encode_features)\n",
    "        out = self.head(out)\n",
    "        if self.retain_input_dim:\n",
    "            _, _, H, W = x.shape\n",
    "            out = F.interpolate(out, size=(H,W))\n",
    "        return out"
   ]
  },
  {
   "cell_type": "code",
   "execution_count": 40,
   "id": "46aff9ef",
   "metadata": {
    "pycharm": {
     "name": "#%%\n"
    }
   },
   "outputs": [
    {
     "name": "stdout",
     "output_type": "stream",
     "text": [
      "input shape: torch.Size([1, 3, 224, 224])\n",
      "output shape: torch.Size([1, 4, 224, 224])\n"
     ]
    }
   ],
   "source": [
    "model = UNet(num_classes=4)\n",
    "x = torch.randn(1, 3, 224, 224)\n",
    "out = model(x)\n",
    "print(f\"input shape: {x.shape}\")\n",
    "print(f\"output shape: {out.shape}\")"
   ]
  },
  {
   "cell_type": "markdown",
   "id": "11d0823c",
   "metadata": {
    "pycharm": {
     "name": "#%% md\n"
    }
   },
   "source": [
    "## DICE SIMILARITY COEFFICIENT\n",
    "<pre><font size=\"4\">\n",
    "https://medium.com/ai-salon/understanding-dice-loss-for-crisp-boundary-detection-bb30c2e5f62b\n",
    "\n",
    "- As a result, cross entropy loss only considers loss in a micro sense rather than considering it globally,\n",
    "which is not enough for image level prediction.\n",
    "\n",
    "- Therefore, the range of DSC is between 0 and 1, the larger the better\n",
    "</pre></font>\n"
   ]
  },
  {
   "attachments": {
    "Scheme-to-explain-how-Dice-coefficient-is-calculated-The-light-red-and-light-green.png": {
     "image/png": "[encoded data removed]"
    }
   },
   "cell_type": "markdown",
   "id": "bf4e7f56",
   "metadata": {
    "pycharm": {
     "name": "#%% md\n"
    }
   },
   "source": [
    "![](Dice-coefficient.png)"
   ]
  },
  {
   "cell_type": "markdown",
   "id": "1b1fe0f1",
   "metadata": {
    "pycharm": {
     "name": "#%% md\n"
    }
   },
   "source": [
    "### - Dice similarity coefficient(DSC) == F1 score? YES only if binary segmentation task!\n",
    "### - What is Dice coefficient loss or Dice loss? Dice loss = 1 - DSC"
   ]
  },
  {
   "attachments": {
    "JCSB-07-209-g003.gif": {
     "image/gif": "[encoded data removed]"
    }
   },
   "cell_type": "markdown",
   "id": "34e44b8e",
   "metadata": {
    "pycharm": {
     "name": "#%% md\n"
    }
   },
   "source": [
    "![](JCSB-07-209-g003.gif)"
   ]
  },
  {
   "cell_type": "markdown",
   "source": [
    "### PREDICTION"
   ],
   "metadata": {
    "collapsed": false,
    "pycharm": {
     "name": "#%% md\n"
    }
   }
  },
  {
   "cell_type": "code",
   "execution_count": 41,
   "outputs": [
    {
     "name": "stdout",
     "output_type": "stream",
     "text": [
      "images shape: torch.Size([4, 3, 224, 224])\n",
      "masks shape: torch.Size([4, 224, 224])\n"
     ]
    }
   ],
   "source": [
    "for index, batch in enumerate(tr_dataloader):\n",
    "    images = batch[0]\n",
    "    targets = batch[1]\n",
    "    print(f\"images shape: {images.shape}\")\n",
    "    print(f\"masks shape: {targets.shape}\")\n",
    "    predictions = model(images)\n",
    "    if index == 0:\n",
    "        break"
   ],
   "metadata": {
    "collapsed": false,
    "pycharm": {
     "name": "#%%\n"
    }
   }
  },
  {
   "cell_type": "code",
   "execution_count": 42,
   "id": "ab761a33",
   "metadata": {
    "pycharm": {
     "name": "#%%\n"
    }
   },
   "outputs": [
    {
     "name": "stdout",
     "output_type": "stream",
     "text": [
      "predictions shape: torch.Size([4, 4, 224, 224])\n",
      "predictions argmax shape: torch.Size([4, 224, 224])\n"
     ]
    }
   ],
   "source": [
    "num_classes = 4\n",
    "print(f\"predictions shape: {predictions.shape}\")\n",
    "predictions_ = torch.argmax(predictions, dim=1) # MAX VALUE (4) in torch.Size([4, *4, 224, 224])\n",
    "print(f\"predictions argmax shape: {predictions_.shape}\")"
   ]
  },
  {
   "cell_type": "code",
   "execution_count": 43,
   "outputs": [
    {
     "name": "stdout",
     "output_type": "stream",
     "text": [
      "onehot pred shape: torch.Size([4, 224, 224, 4])\n",
      "onehot target shape: torch.Size([4, 224, 224, 4])\n",
      "onehot pred after permute shape: torch.Size([4, 4, 224, 224])\n",
      "onehot target after permute shape: torch.Size([4, 4, 224, 224])\n"
     ]
    }
   ],
   "source": [
    "# CLASS INDEX -> [0, 1, 2, 3]\n",
    "# 1 -> [0, 1, 0, 0]\n",
    "# 2 -> [0, 0, 1, 0]\n",
    "onehot_pred = F.one_hot(predictions_, num_classes=num_classes)\n",
    "print(f\"onehot pred shape: {onehot_pred.shape}\")\n",
    "onehot_target = F.one_hot(targets, num_classes=num_classes)\n",
    "print(f\"onehot target shape: {onehot_target.shape}\")\n",
    "\n",
    "onehot_pred = F.one_hot(predictions_, num_classes=num_classes).permute(0, 3, 1, 2)\n",
    "onehot_target = F.one_hot(targets, num_classes=num_classes).permute(0, 3, 1, 2)\n",
    "print(f\"onehot pred after permute shape: {onehot_pred.shape}\")\n",
    "print(f\"onehot target after permute shape: {onehot_target.shape}\")"
   ],
   "metadata": {
    "collapsed": false,
    "pycharm": {
     "name": "#%%\n"
    }
   }
  },
  {
   "cell_type": "code",
   "execution_count": 44,
   "outputs": [
    {
     "name": "stdout",
     "output_type": "stream",
     "text": [
      "onehot_pred[0] shape: torch.Size([4, 224, 224])\n",
      "onehot_target[0] shape: torch.Size([4, 224, 224])\n"
     ]
    }
   ],
   "source": [
    "onehot_pred_ = onehot_pred[0]\n",
    "onehot_target_ = onehot_target[0]\n",
    "print(f\"onehot_pred[0] shape: {onehot_pred_.shape}\")\n",
    "print(f\"onehot_target[0] shape: {onehot_target_.shape}\")"
   ],
   "metadata": {
    "collapsed": false,
    "pycharm": {
     "name": "#%%\n"
    }
   }
  },
  {
   "cell_type": "markdown",
   "source": [
    "### DICE COEFFICIENT"
   ],
   "metadata": {
    "collapsed": false,
    "pycharm": {
     "name": "#%% md\n"
    }
   }
  },
  {
   "cell_type": "code",
   "execution_count": 45,
   "id": "aef26837",
   "metadata": {
    "pycharm": {
     "name": "#%%\n"
    }
   },
   "outputs": [],
   "source": [
    "dice_coeff = 0\n",
    "\n",
    "for class_index in range(1, num_classes): # Excluding Background\n",
    "    a = onehot_pred_[class_index]\n",
    "    b = onehot_target_[class_index]\n",
    "    set_inter = torch.dot(a.reshape(-1).float(), b.reshape(-1).float()) # INTERSECTION\n",
    "    set_sum = a.sum() + b.sum() # SUM\n",
    "    dice_coeff += (2 * set_inter) / (set_sum + 1e-9) # 분모가 0인 것을 방지\n",
    "dice_coeff /= (num_classes-1) # divide bu number of classes, excluding background"
   ]
  },
  {
   "cell_type": "code",
   "execution_count": 46,
   "outputs": [
    {
     "data": {
      "text/plain": "tensor(0.1035)"
     },
     "execution_count": 46,
     "metadata": {},
     "output_type": "execute_result"
    }
   ],
   "source": [
    "dice_coeff"
   ],
   "metadata": {
    "collapsed": false,
    "pycharm": {
     "name": "#%%\n"
    }
   }
  },
  {
   "cell_type": "markdown",
   "source": [
    "#### DICE LOSS"
   ],
   "metadata": {
    "collapsed": false,
    "pycharm": {
     "name": "#%% md\n"
    }
   }
  },
  {
   "cell_type": "code",
   "execution_count": 47,
   "id": "b41592e9",
   "metadata": {
    "pycharm": {
     "name": "#%%\n"
    }
   },
   "outputs": [],
   "source": [
    "dice_loss = 1. - dice_coeff"
   ]
  },
  {
   "cell_type": "code",
   "execution_count": 48,
   "outputs": [
    {
     "data": {
      "text/plain": "tensor(0.8965)"
     },
     "execution_count": 48,
     "metadata": {},
     "output_type": "execute_result"
    }
   ],
   "source": [
    "dice_loss"
   ],
   "metadata": {
    "collapsed": false,
    "pycharm": {
     "name": "#%%\n"
    }
   }
  },
  {
   "cell_type": "markdown",
   "source": [
    "### UNET_METRIC"
   ],
   "metadata": {
    "collapsed": false,
    "pycharm": {
     "name": "#%% md\n"
    }
   }
  },
  {
   "cell_type": "code",
   "execution_count": 49,
   "id": "c7b0ec69",
   "metadata": {
    "pycharm": {
     "name": "#%%\n"
    }
   },
   "outputs": [],
   "source": [
    "class UNet_metric():\n",
    "    def __init__(self, num_classes):\n",
    "        self.num_classes = num_classes\n",
    "        \n",
    "    def __call__(self, pred, target):\n",
    "        onehot_pred = F.one_hot(torch.argmax(pred, dim=1), num_classes=self.num_classes).permute(0, 3, 1, 2)\n",
    "        onehot_target = F.one_hot(target, num_classes=self.num_classes).permute(0, 3, 1, 2)\n",
    "        dice_loss = self._get_dice_loss(onehot_pred, onehot_target)\n",
    "        dice_coefficient = self._get_batch_dice_coefficient(onehot_pred, onehot_target)\n",
    "        return dice_loss, dice_coefficient\n",
    "    \n",
    "    def _get_dice_coeffient(self, pred, target):\n",
    "        set_inter = torch.dot(pred.reshape(-1).float(), target.reshape(-1).float())\n",
    "        set_sum = pred.sum() + target.sum()\n",
    "        if set_sum.item() == 0:\n",
    "            set_sum = 2 * set_inter\n",
    "        dice_coeff = (2 * set_inter) / (set_sum + 1e-9)\n",
    "        return dice_coeff\n",
    "    \n",
    "    def _get_multiclass_dice_coefficient(self, pred, target):\n",
    "        dice = 0\n",
    "        for class_index in range(1, self.num_classes):\n",
    "            dice += self._get_dice_coeffient(pred[class_index], target[class_index])\n",
    "        return dice / (self.num_classes - 1)\n",
    "    \n",
    "    def _get_batch_dice_coefficient(self, pred, target):\n",
    "        num_batch = pred.shape[0]\n",
    "        dice = 0\n",
    "        for batch_index in range(num_batch):\n",
    "            dice += self._get_multiclass_dice_coefficient(pred[batch_index], target[batch_index])\n",
    "        return dice / num_batch\n",
    "    \n",
    "    def _get_dice_loss(self, pred, target):\n",
    "        return 1 - self._get_batch_dice_coefficient(pred, target)"
   ]
  },
  {
   "cell_type": "code",
   "execution_count": 50,
   "id": "e756672a",
   "metadata": {
    "pycharm": {
     "name": "#%%\n"
    }
   },
   "outputs": [
    {
     "data": {
      "text/plain": "(tensor(0.9641), tensor(0.0359))"
     },
     "execution_count": 50,
     "metadata": {},
     "output_type": "execute_result"
    }
   ],
   "source": [
    "criterion = UNet_metric(num_classes=4)\n",
    "criterion(predictions, targets) # dice_loss, dice_coefficient"
   ]
  },
  {
   "cell_type": "markdown",
   "id": "935191b5",
   "metadata": {
    "pycharm": {
     "name": "#%% md\n"
    }
   },
   "source": [
    "## LOSS FUNCTION, SGDM OPTIMIZATION"
   ]
  },
  {
   "cell_type": "code",
   "execution_count": 51,
   "id": "d4f05e88",
   "metadata": {
    "pycharm": {
     "name": "#%%\n"
    }
   },
   "outputs": [],
   "source": [
    "class UNet_metric():\n",
    "    def __init__(self, num_classes):\n",
    "        self.num_classes = num_classes\n",
    "        self.CE_loss = nn.CrossEntropyLoss(reduction=\"mean\")\n",
    "        \n",
    "    def __call__(self, pred, target):\n",
    "        loss1 = self.CE_loss(pred, target)\n",
    "        onehot_pred = F.one_hot(torch.argmax(pred, dim=1), num_classes=self.num_classes).permute(0, 3, 1, 2)\n",
    "        onehot_target = F.one_hot(target, num_classes=self.num_classes).permute(0, 3, 1, 2)\n",
    "        loss2 = self._get_dice_loss(onehot_pred, onehot_target)\n",
    "        loss = loss1 + loss2 # CROSS ENTROPHY + DICE LOSS\n",
    "        \n",
    "        dice_coefficient = self._get_batch_dice_coefficient(onehot_pred, onehot_target)\n",
    "        return loss, dice_coefficient\n",
    "    \n",
    "    def _get_dice_coeffient(self, pred, target):\n",
    "        set_inter = torch.dot(pred.reshape(-1).float(), target.reshape(-1).float())\n",
    "        set_sum = pred.sum() + target.sum()\n",
    "        if set_sum.item() == 0:\n",
    "            set_sum = 2 * set_inter\n",
    "        dice_coeff = (2 * set_inter) / (set_sum + 1e-9)\n",
    "        return dice_coeff\n",
    "    \n",
    "    def _get_multiclass_dice_coefficient(self, pred, target):\n",
    "        dice = 0\n",
    "        for class_index in range(1, self.num_classes):\n",
    "            dice += self._get_dice_coeffient(pred[class_index], target[class_index])\n",
    "        return dice / (self.num_classes - 1)\n",
    "    \n",
    "    def _get_batch_dice_coefficient(self, pred, target):\n",
    "        num_batch = pred.shape[0]\n",
    "        dice = 0\n",
    "        for batch_index in range(num_batch):\n",
    "            dice += self._get_multiclass_dice_coefficient(pred[batch_index], target[batch_index])\n",
    "        return dice / num_batch\n",
    "    \n",
    "    def _get_dice_loss(self, pred, target):\n",
    "        return 1 - self._get_batch_dice_coefficient(pred, target)"
   ]
  },
  {
   "cell_type": "code",
   "execution_count": 52,
   "id": "021cf67c",
   "metadata": {
    "pycharm": {
     "name": "#%%\n"
    }
   },
   "outputs": [
    {
     "data": {
      "text/plain": "(tensor(2.1214, grad_fn=<AddBackward0>), tensor(0.0359))"
     },
     "execution_count": 52,
     "metadata": {},
     "output_type": "execute_result"
    }
   ],
   "source": [
    "criterion = UNet_metric(num_classes=4)\n",
    "criterion(predictions, targets)"
   ]
  },
  {
   "cell_type": "code",
   "execution_count": 53,
   "id": "62a72460",
   "metadata": {
    "pycharm": {
     "name": "#%%\n"
    }
   },
   "outputs": [],
   "source": [
    "optimizer = torch.optim.SGD(model.parameters(), lr= 1E-3, momentum=0.9)"
   ]
  },
  {
   "cell_type": "code",
   "execution_count": 54,
   "id": "f01752f0",
   "metadata": {
    "pycharm": {
     "name": "#%%\n"
    }
   },
   "outputs": [],
   "source": [
    "for index, batch in enumerate(tr_dataloader):\n",
    "    images = batch[0]\n",
    "    targets = batch[1]\n",
    "    predictions = model(images)\n",
    "    criterion(predictions, targets)\n",
    "    if index == 1:\n",
    "        break"
   ]
  },
  {
   "cell_type": "markdown",
   "id": "a03c1455",
   "metadata": {
    "pycharm": {
     "name": "#%% md\n"
    }
   },
   "source": [
    "## SEMENTIC SEGMENTATION"
   ]
  },
  {
   "cell_type": "code",
   "execution_count": 55,
   "outputs": [],
   "source": [
    "CLASS_ID_TO_RGB = {\n",
    "    0: (0,0,0),\n",
    "    1: (255, 0, 0),\n",
    "    2: (0, 255, 0),\n",
    "    3: (0, 0, 255),\n",
    "}\n",
    "\n",
    "def save_model(model_state, model_name, save_dir=\"./trained_model\"):\n",
    "    os.makedirs(save_dir, exist_ok=True)\n",
    "    torch.save(model_state, os.path.join(save_dir, model_name))"
   ],
   "metadata": {
    "collapsed": false,
    "pycharm": {
     "name": "#%%\n"
    }
   }
  },
  {
   "cell_type": "code",
   "execution_count": 56,
   "outputs": [],
   "source": [
    "def train_one_epoch(dataloaders, model, optimizer, criterion, device):\n",
    "    losses = {}\n",
    "    dice_coefficients = {}\n",
    "\n",
    "    for phase in [\"train\", \"val\"]:\n",
    "        running_loss = 0.0\n",
    "        running_dice_coeff = 0.0\n",
    "\n",
    "        if phase == \"train\":\n",
    "            model.train()\n",
    "        else:\n",
    "            model.eval()\n",
    "\n",
    "        for index, batch in enumerate(dataloaders[phase]):\n",
    "            images = batch[0].to(device)\n",
    "            targets = batch[1].to(device)\n",
    "\n",
    "            with torch.set_grad_enabled(phase == \"train\"):\n",
    "                predictions = model(images)\n",
    "                loss, dice_coefficient = criterion(predictions, targets)\n",
    "\n",
    "                if phase == \"train\":\n",
    "                    optimizer.zero_grad()\n",
    "                    loss.backward()\n",
    "                    optimizer.step()\n",
    "\n",
    "            running_loss += loss.item()\n",
    "            running_dice_coeff += dice_coefficient.item()\n",
    "\n",
    "            if phase == \"train\":\n",
    "                if index % 100 == 0:\n",
    "                    text = f\"{index}/{len(dataloaders[phase])}\" + \\\n",
    "                            f\" - Running Loss: {loss.item():.4f}\" + \\\n",
    "                            f\" - Running Dice: {dice_coefficient.item():.4f}\"\n",
    "                    print(text)\n",
    "\n",
    "        losses[phase] = running_loss / len(dataloaders[phase])\n",
    "        dice_coefficients[phase] = running_dice_coeff / len(dataloaders[phase])\n",
    "    return losses, dice_coefficients"
   ],
   "metadata": {
    "collapsed": false,
    "pycharm": {
     "name": "#%%\n"
    }
   }
  },
  {
   "cell_type": "code",
   "execution_count": 57,
   "id": "7e0d3716",
   "metadata": {
    "pycharm": {
     "name": "#%%\n"
    }
   },
   "outputs": [],
   "source": [
    "is_cuda = True\n",
    "\n",
    "NUM_CLASSES = 4\n",
    "IMAGE_SIZE = 224\n",
    "# BATCH_SIZE = 2\n",
    "BATCH_SIZE = 12\n",
    "DEVICE = torch.device('cuda' if torch.cuda.is_available and is_cuda else 'cpu')\n",
    "\n",
    "dataloaders = build_dataloader(data_dir, batch_size=BATCH_SIZE)\n",
    "model = UNet(num_classes=NUM_CLASSES)\n",
    "model = model.to(DEVICE)\n",
    "criterion = UNet_metric(num_classes=NUM_CLASSES)\n",
    "optimizer = torch.optim.SGD(model.parameters(), lr= 1E-3, momentum=0.9)"
   ]
  },
  {
   "cell_type": "code",
   "execution_count": 58,
   "outputs": [
    {
     "name": "stdout",
     "output_type": "stream",
     "text": [
      "cuda\n",
      "1.12.1+cu113\n",
      "True\n"
     ]
    }
   ],
   "source": [
    "print(DEVICE)\n",
    "print(torch.__version__)\n",
    "print(torch.cuda.is_available())"
   ],
   "metadata": {
    "collapsed": false,
    "pycharm": {
     "name": "#%%\n"
    }
   }
  },
  {
   "cell_type": "markdown",
   "source": [
    "START : 13:15\n",
    "END :"
   ],
   "metadata": {
    "collapsed": false,
    "pycharm": {
     "name": "#%% md\n"
    }
   }
  },
  {
   "cell_type": "code",
   "execution_count": 60,
   "id": "4a1afb8d",
   "metadata": {
    "scrolled": true,
    "pycharm": {
     "name": "#%%\n"
    }
   },
   "outputs": [
    {
     "name": "stdout",
     "output_type": "stream",
     "text": [
      "0/1243 - Running Loss: 0.5968 - Running Dice: 0.4294\n",
      "100/1243 - Running Loss: 0.6542 - Running Dice: 0.3580\n",
      "200/1243 - Running Loss: 0.5448 - Running Dice: 0.4722\n",
      "300/1243 - Running Loss: 0.7307 - Running Dice: 0.2845\n",
      "400/1243 - Running Loss: 0.5782 - Running Dice: 0.4344\n",
      "500/1243 - Running Loss: 0.6683 - Running Dice: 0.3472\n",
      "600/1243 - Running Loss: 0.5698 - Running Dice: 0.4450\n",
      "700/1243 - Running Loss: 0.6923 - Running Dice: 0.3186\n",
      "800/1243 - Running Loss: 0.4325 - Running Dice: 0.5905\n",
      "900/1243 - Running Loss: 0.6184 - Running Dice: 0.3963\n",
      "1000/1243 - Running Loss: 0.6308 - Running Dice: 0.3834\n",
      "1100/1243 - Running Loss: 0.6135 - Running Dice: 0.4034\n",
      "1200/1243 - Running Loss: 0.6058 - Running Dice: 0.4060\n",
      "0/20 - Train Loss: 0.6098, Val Loss: 0.9185\n",
      "0/20 - Train Dice Coeff: 0.4059, Val Dice Coeff: 0.3406\n",
      "0/1243 - Running Loss: 0.7180 - Running Dice: 0.2934\n",
      "100/1243 - Running Loss: 0.5471 - Running Dice: 0.4678\n",
      "200/1243 - Running Loss: 0.5181 - Running Dice: 0.4938\n",
      "300/1243 - Running Loss: 0.4937 - Running Dice: 0.5184\n",
      "400/1243 - Running Loss: 0.6413 - Running Dice: 0.3720\n",
      "500/1243 - Running Loss: 0.5306 - Running Dice: 0.4825\n",
      "600/1243 - Running Loss: 0.5616 - Running Dice: 0.4555\n",
      "700/1243 - Running Loss: 0.6366 - Running Dice: 0.3765\n",
      "800/1243 - Running Loss: 0.5044 - Running Dice: 0.5216\n",
      "900/1243 - Running Loss: 0.5163 - Running Dice: 0.5047\n",
      "1000/1243 - Running Loss: 0.5271 - Running Dice: 0.4969\n",
      "1100/1243 - Running Loss: 0.6043 - Running Dice: 0.4189\n",
      "1200/1243 - Running Loss: 0.6367 - Running Dice: 0.3775\n",
      "1/20 - Train Loss: 0.6029, Val Loss: 0.8894\n",
      "1/20 - Train Dice Coeff: 0.4116, Val Dice Coeff: 0.3454\n",
      "0/1243 - Running Loss: 0.5559 - Running Dice: 0.4576\n",
      "100/1243 - Running Loss: 0.5038 - Running Dice: 0.5105\n",
      "200/1243 - Running Loss: 0.6468 - Running Dice: 0.3651\n",
      "300/1243 - Running Loss: 0.7823 - Running Dice: 0.2246\n",
      "400/1243 - Running Loss: 0.4670 - Running Dice: 0.5512\n",
      "500/1243 - Running Loss: 0.5708 - Running Dice: 0.4381\n",
      "600/1243 - Running Loss: 0.4669 - Running Dice: 0.5491\n",
      "700/1243 - Running Loss: 0.5486 - Running Dice: 0.4627\n",
      "800/1243 - Running Loss: 0.6475 - Running Dice: 0.3682\n",
      "900/1243 - Running Loss: 0.6337 - Running Dice: 0.3793\n",
      "1000/1243 - Running Loss: 0.5932 - Running Dice: 0.4158\n",
      "1100/1243 - Running Loss: 0.5331 - Running Dice: 0.4808\n",
      "1200/1243 - Running Loss: 0.6245 - Running Dice: 0.3856\n",
      "2/20 - Train Loss: 0.5981, Val Loss: 0.8959\n",
      "2/20 - Train Dice Coeff: 0.4159, Val Dice Coeff: 0.3533\n",
      "0/1243 - Running Loss: 0.4278 - Running Dice: 0.5887\n",
      "100/1243 - Running Loss: 0.5937 - Running Dice: 0.4200\n",
      "200/1243 - Running Loss: 0.6380 - Running Dice: 0.3753\n",
      "300/1243 - Running Loss: 0.5344 - Running Dice: 0.4722\n",
      "400/1243 - Running Loss: 0.7010 - Running Dice: 0.3216\n",
      "500/1243 - Running Loss: 0.5556 - Running Dice: 0.4745\n",
      "600/1243 - Running Loss: 0.5582 - Running Dice: 0.4576\n",
      "700/1243 - Running Loss: 0.5736 - Running Dice: 0.4359\n",
      "800/1243 - Running Loss: 0.5285 - Running Dice: 0.4961\n",
      "900/1243 - Running Loss: 0.5238 - Running Dice: 0.4995\n",
      "1000/1243 - Running Loss: 0.4025 - Running Dice: 0.6091\n",
      "1100/1243 - Running Loss: 0.4609 - Running Dice: 0.5487\n",
      "1200/1243 - Running Loss: 0.6121 - Running Dice: 0.4013\n",
      "3/20 - Train Loss: 0.5917, Val Loss: 0.9001\n",
      "3/20 - Train Dice Coeff: 0.4212, Val Dice Coeff: 0.3414\n",
      "0/1243 - Running Loss: 0.6260 - Running Dice: 0.3859\n",
      "100/1243 - Running Loss: 0.5875 - Running Dice: 0.4246\n",
      "200/1243 - Running Loss: 0.6278 - Running Dice: 0.3809\n",
      "300/1243 - Running Loss: 0.6403 - Running Dice: 0.3671\n",
      "400/1243 - Running Loss: 0.6160 - Running Dice: 0.3966\n",
      "500/1243 - Running Loss: 0.7023 - Running Dice: 0.3146\n",
      "600/1243 - Running Loss: 0.6085 - Running Dice: 0.4019\n",
      "700/1243 - Running Loss: 0.5507 - Running Dice: 0.4564\n",
      "800/1243 - Running Loss: 0.6220 - Running Dice: 0.3872\n",
      "900/1243 - Running Loss: 0.5291 - Running Dice: 0.4821\n",
      "1000/1243 - Running Loss: 0.6098 - Running Dice: 0.4007\n",
      "1100/1243 - Running Loss: 0.5382 - Running Dice: 0.4695\n",
      "1200/1243 - Running Loss: 0.5426 - Running Dice: 0.4679\n",
      "4/20 - Train Loss: 0.5884, Val Loss: 0.8998\n",
      "4/20 - Train Dice Coeff: 0.4240, Val Dice Coeff: 0.3494\n",
      "0/1243 - Running Loss: 0.6446 - Running Dice: 0.3667\n",
      "100/1243 - Running Loss: 0.6380 - Running Dice: 0.3815\n",
      "200/1243 - Running Loss: 0.5988 - Running Dice: 0.4098\n",
      "300/1243 - Running Loss: 0.6680 - Running Dice: 0.3388\n",
      "400/1243 - Running Loss: 0.5017 - Running Dice: 0.5089\n",
      "500/1243 - Running Loss: 0.4896 - Running Dice: 0.5210\n",
      "600/1243 - Running Loss: 0.5620 - Running Dice: 0.4467\n",
      "700/1243 - Running Loss: 0.5541 - Running Dice: 0.4590\n",
      "800/1243 - Running Loss: 0.5416 - Running Dice: 0.4669\n",
      "900/1243 - Running Loss: 0.5871 - Running Dice: 0.4231\n",
      "1000/1243 - Running Loss: 0.5862 - Running Dice: 0.4358\n",
      "1100/1243 - Running Loss: 0.4886 - Running Dice: 0.5237\n",
      "1200/1243 - Running Loss: 0.5449 - Running Dice: 0.4665\n",
      "5/20 - Train Loss: 0.5839, Val Loss: 0.8871\n",
      "5/20 - Train Dice Coeff: 0.4276, Val Dice Coeff: 0.3476\n",
      "0/1243 - Running Loss: 0.8401 - Running Dice: 0.1724\n",
      "100/1243 - Running Loss: 0.5833 - Running Dice: 0.4279\n",
      "200/1243 - Running Loss: 0.6236 - Running Dice: 0.3898\n",
      "300/1243 - Running Loss: 0.5438 - Running Dice: 0.4777\n",
      "400/1243 - Running Loss: 0.5085 - Running Dice: 0.4970\n",
      "500/1243 - Running Loss: 0.5806 - Running Dice: 0.4323\n",
      "600/1243 - Running Loss: 0.6439 - Running Dice: 0.3623\n",
      "700/1243 - Running Loss: 0.4279 - Running Dice: 0.5931\n",
      "800/1243 - Running Loss: 0.6988 - Running Dice: 0.3062\n",
      "900/1243 - Running Loss: 0.6333 - Running Dice: 0.3761\n",
      "1000/1243 - Running Loss: 0.5243 - Running Dice: 0.4864\n",
      "1100/1243 - Running Loss: 0.7352 - Running Dice: 0.2714\n",
      "1200/1243 - Running Loss: 0.6018 - Running Dice: 0.4118\n",
      "6/20 - Train Loss: 0.5806, Val Loss: 0.9003\n",
      "6/20 - Train Dice Coeff: 0.4305, Val Dice Coeff: 0.3419\n",
      "0/1243 - Running Loss: 0.6386 - Running Dice: 0.3692\n",
      "100/1243 - Running Loss: 0.6033 - Running Dice: 0.4026\n",
      "200/1243 - Running Loss: 0.5603 - Running Dice: 0.4557\n",
      "300/1243 - Running Loss: 0.5894 - Running Dice: 0.4191\n",
      "400/1243 - Running Loss: 0.6788 - Running Dice: 0.3272\n",
      "500/1243 - Running Loss: 0.5707 - Running Dice: 0.4397\n",
      "600/1243 - Running Loss: 0.5777 - Running Dice: 0.4309\n",
      "700/1243 - Running Loss: 0.6328 - Running Dice: 0.3757\n",
      "800/1243 - Running Loss: 0.6585 - Running Dice: 0.3491\n",
      "900/1243 - Running Loss: 0.6411 - Running Dice: 0.3678\n",
      "1000/1243 - Running Loss: 0.5441 - Running Dice: 0.4717\n",
      "1100/1243 - Running Loss: 0.5547 - Running Dice: 0.4535\n",
      "1200/1243 - Running Loss: 0.5701 - Running Dice: 0.4476\n",
      "7/20 - Train Loss: 0.5780, Val Loss: 0.9254\n",
      "7/20 - Train Dice Coeff: 0.4326, Val Dice Coeff: 0.3371\n",
      "0/1243 - Running Loss: 0.6848 - Running Dice: 0.3227\n",
      "100/1243 - Running Loss: 0.6278 - Running Dice: 0.3803\n",
      "200/1243 - Running Loss: 0.6333 - Running Dice: 0.3777\n",
      "300/1243 - Running Loss: 0.5324 - Running Dice: 0.4790\n",
      "400/1243 - Running Loss: 0.6957 - Running Dice: 0.3114\n",
      "500/1243 - Running Loss: 0.6060 - Running Dice: 0.4023\n",
      "600/1243 - Running Loss: 0.6454 - Running Dice: 0.3637\n",
      "700/1243 - Running Loss: 0.5538 - Running Dice: 0.4532\n",
      "800/1243 - Running Loss: 0.5802 - Running Dice: 0.4276\n",
      "900/1243 - Running Loss: 0.6622 - Running Dice: 0.3570\n",
      "1000/1243 - Running Loss: 0.5873 - Running Dice: 0.4180\n",
      "1100/1243 - Running Loss: 0.6216 - Running Dice: 0.3874\n",
      "1200/1243 - Running Loss: 0.4849 - Running Dice: 0.5260\n",
      "8/20 - Train Loss: 0.5772, Val Loss: 0.9079\n",
      "8/20 - Train Dice Coeff: 0.4336, Val Dice Coeff: 0.3489\n",
      "0/1243 - Running Loss: 0.5568 - Running Dice: 0.4516\n",
      "100/1243 - Running Loss: 0.5220 - Running Dice: 0.4876\n",
      "200/1243 - Running Loss: 0.5500 - Running Dice: 0.4696\n",
      "300/1243 - Running Loss: 0.5413 - Running Dice: 0.4725\n",
      "400/1243 - Running Loss: 0.6506 - Running Dice: 0.3596\n",
      "500/1243 - Running Loss: 0.5558 - Running Dice: 0.4520\n",
      "600/1243 - Running Loss: 0.5293 - Running Dice: 0.4788\n",
      "700/1243 - Running Loss: 0.5035 - Running Dice: 0.5056\n",
      "800/1243 - Running Loss: 0.5300 - Running Dice: 0.4762\n",
      "900/1243 - Running Loss: 0.6526 - Running Dice: 0.3549\n",
      "1000/1243 - Running Loss: 0.6019 - Running Dice: 0.4050\n",
      "1100/1243 - Running Loss: 0.4728 - Running Dice: 0.5498\n",
      "1200/1243 - Running Loss: 0.5648 - Running Dice: 0.4444\n",
      "9/20 - Train Loss: 0.5743, Val Loss: 0.9178\n",
      "9/20 - Train Dice Coeff: 0.4359, Val Dice Coeff: 0.3438\n",
      "0/1243 - Running Loss: 0.6269 - Running Dice: 0.3824\n",
      "100/1243 - Running Loss: 0.6279 - Running Dice: 0.3785\n",
      "200/1243 - Running Loss: 0.4102 - Running Dice: 0.6057\n",
      "300/1243 - Running Loss: 0.5085 - Running Dice: 0.5000\n",
      "400/1243 - Running Loss: 0.5381 - Running Dice: 0.4679\n",
      "500/1243 - Running Loss: 0.5100 - Running Dice: 0.4999\n",
      "600/1243 - Running Loss: 0.5006 - Running Dice: 0.5065\n",
      "700/1243 - Running Loss: 0.5754 - Running Dice: 0.4326\n",
      "800/1243 - Running Loss: 0.5367 - Running Dice: 0.4739\n",
      "900/1243 - Running Loss: 0.5391 - Running Dice: 0.4913\n",
      "1000/1243 - Running Loss: 0.6857 - Running Dice: 0.3209\n",
      "1100/1243 - Running Loss: 0.4244 - Running Dice: 0.5868\n",
      "1200/1243 - Running Loss: 0.6925 - Running Dice: 0.3133\n",
      "10/20 - Train Loss: 0.5714, Val Loss: 0.9257\n",
      "10/20 - Train Dice Coeff: 0.4382, Val Dice Coeff: 0.3470\n",
      "0/1243 - Running Loss: 0.5100 - Running Dice: 0.5100\n",
      "100/1243 - Running Loss: 0.5544 - Running Dice: 0.4546\n",
      "200/1243 - Running Loss: 0.6371 - Running Dice: 0.3728\n",
      "300/1243 - Running Loss: 0.5885 - Running Dice: 0.4245\n",
      "400/1243 - Running Loss: 0.4800 - Running Dice: 0.5247\n",
      "500/1243 - Running Loss: 0.6147 - Running Dice: 0.3900\n",
      "600/1243 - Running Loss: 0.5937 - Running Dice: 0.4131\n",
      "700/1243 - Running Loss: 0.5228 - Running Dice: 0.4882\n",
      "800/1243 - Running Loss: 0.6051 - Running Dice: 0.4015\n",
      "900/1243 - Running Loss: 0.6634 - Running Dice: 0.3429\n",
      "1000/1243 - Running Loss: 0.5526 - Running Dice: 0.4518\n",
      "1100/1243 - Running Loss: 0.5456 - Running Dice: 0.4613\n",
      "1200/1243 - Running Loss: 0.6080 - Running Dice: 0.3994\n",
      "11/20 - Train Loss: 0.5708, Val Loss: 0.9150\n",
      "11/20 - Train Dice Coeff: 0.4387, Val Dice Coeff: 0.3479\n",
      "0/1243 - Running Loss: 0.6457 - Running Dice: 0.3609\n",
      "100/1243 - Running Loss: 0.6292 - Running Dice: 0.3784\n",
      "200/1243 - Running Loss: 0.5394 - Running Dice: 0.4683\n",
      "300/1243 - Running Loss: 0.5706 - Running Dice: 0.4375\n",
      "400/1243 - Running Loss: 0.5478 - Running Dice: 0.4651\n",
      "500/1243 - Running Loss: 0.5488 - Running Dice: 0.4610\n",
      "600/1243 - Running Loss: 0.6161 - Running Dice: 0.3909\n",
      "700/1243 - Running Loss: 0.5713 - Running Dice: 0.4372\n",
      "800/1243 - Running Loss: 0.6566 - Running Dice: 0.3502\n",
      "900/1243 - Running Loss: 0.5773 - Running Dice: 0.4304\n",
      "1000/1243 - Running Loss: 0.6402 - Running Dice: 0.3688\n",
      "1100/1243 - Running Loss: 0.6434 - Running Dice: 0.3629\n",
      "1200/1243 - Running Loss: 0.5618 - Running Dice: 0.4444\n",
      "12/20 - Train Loss: 0.5683, Val Loss: 0.9217\n",
      "12/20 - Train Dice Coeff: 0.4408, Val Dice Coeff: 0.3469\n",
      "0/1243 - Running Loss: 0.5677 - Running Dice: 0.4374\n",
      "100/1243 - Running Loss: 0.6153 - Running Dice: 0.3949\n",
      "200/1243 - Running Loss: 0.6014 - Running Dice: 0.4058\n",
      "300/1243 - Running Loss: 0.5631 - Running Dice: 0.4475\n",
      "400/1243 - Running Loss: 0.5225 - Running Dice: 0.4844\n",
      "500/1243 - Running Loss: 0.5775 - Running Dice: 0.4371\n",
      "600/1243 - Running Loss: 0.5292 - Running Dice: 0.4788\n",
      "700/1243 - Running Loss: 0.5829 - Running Dice: 0.4248\n",
      "800/1243 - Running Loss: 0.5913 - Running Dice: 0.4140\n",
      "900/1243 - Running Loss: 0.5814 - Running Dice: 0.4287\n",
      "1000/1243 - Running Loss: 0.5584 - Running Dice: 0.4498\n",
      "1100/1243 - Running Loss: 0.5680 - Running Dice: 0.4380\n",
      "1200/1243 - Running Loss: 0.6445 - Running Dice: 0.3629\n",
      "13/20 - Train Loss: 0.5675, Val Loss: 0.9260\n",
      "13/20 - Train Dice Coeff: 0.4414, Val Dice Coeff: 0.3479\n",
      "0/1243 - Running Loss: 0.6076 - Running Dice: 0.3975\n",
      "100/1243 - Running Loss: 0.4529 - Running Dice: 0.5619\n",
      "200/1243 - Running Loss: 0.6234 - Running Dice: 0.3860\n",
      "300/1243 - Running Loss: 0.5873 - Running Dice: 0.4202\n",
      "400/1243 - Running Loss: 0.5383 - Running Dice: 0.4726\n",
      "500/1243 - Running Loss: 0.5045 - Running Dice: 0.5052\n",
      "600/1243 - Running Loss: 0.6083 - Running Dice: 0.3995\n",
      "700/1243 - Running Loss: 0.5319 - Running Dice: 0.4784\n",
      "800/1243 - Running Loss: 0.5065 - Running Dice: 0.5009\n",
      "900/1243 - Running Loss: 0.5524 - Running Dice: 0.4562\n",
      "1000/1243 - Running Loss: 0.5286 - Running Dice: 0.4776\n",
      "1100/1243 - Running Loss: 0.5055 - Running Dice: 0.5040\n",
      "1200/1243 - Running Loss: 0.5099 - Running Dice: 0.4976\n",
      "14/20 - Train Loss: 0.5688, Val Loss: 0.9344\n",
      "14/20 - Train Dice Coeff: 0.4404, Val Dice Coeff: 0.3481\n",
      "0/1243 - Running Loss: 0.6114 - Running Dice: 0.3958\n",
      "100/1243 - Running Loss: 0.5500 - Running Dice: 0.4553\n",
      "200/1243 - Running Loss: 0.6643 - Running Dice: 0.3429\n",
      "300/1243 - Running Loss: 0.5071 - Running Dice: 0.5016\n",
      "400/1243 - Running Loss: 0.6108 - Running Dice: 0.3943\n",
      "500/1243 - Running Loss: 0.5579 - Running Dice: 0.4501\n",
      "600/1243 - Running Loss: 0.6998 - Running Dice: 0.3063\n",
      "700/1243 - Running Loss: 0.6207 - Running Dice: 0.3857\n",
      "800/1243 - Running Loss: 0.5326 - Running Dice: 0.4750\n",
      "900/1243 - Running Loss: 0.6118 - Running Dice: 0.3953\n",
      "1000/1243 - Running Loss: 0.5626 - Running Dice: 0.4460\n",
      "1100/1243 - Running Loss: 0.6100 - Running Dice: 0.3947\n",
      "1200/1243 - Running Loss: 0.5428 - Running Dice: 0.4651\n",
      "15/20 - Train Loss: 0.5655, Val Loss: 0.9232\n",
      "15/20 - Train Dice Coeff: 0.4430, Val Dice Coeff: 0.3537\n",
      "0/1243 - Running Loss: 0.5679 - Running Dice: 0.4398\n",
      "100/1243 - Running Loss: 0.6752 - Running Dice: 0.3319\n",
      "200/1243 - Running Loss: 0.5571 - Running Dice: 0.4513\n",
      "300/1243 - Running Loss: 0.5330 - Running Dice: 0.4808\n",
      "400/1243 - Running Loss: 0.5757 - Running Dice: 0.4302\n",
      "500/1243 - Running Loss: 0.4776 - Running Dice: 0.5361\n",
      "600/1243 - Running Loss: 0.5729 - Running Dice: 0.4334\n",
      "700/1243 - Running Loss: 0.6047 - Running Dice: 0.3997\n",
      "800/1243 - Running Loss: 0.6567 - Running Dice: 0.3552\n",
      "900/1243 - Running Loss: 0.4646 - Running Dice: 0.5517\n",
      "1000/1243 - Running Loss: 0.6218 - Running Dice: 0.3872\n",
      "1100/1243 - Running Loss: 0.4721 - Running Dice: 0.5364\n",
      "1200/1243 - Running Loss: 0.5026 - Running Dice: 0.5041\n",
      "16/20 - Train Loss: 0.5637, Val Loss: 0.9330\n",
      "16/20 - Train Dice Coeff: 0.4446, Val Dice Coeff: 0.3489\n",
      "0/1243 - Running Loss: 0.5587 - Running Dice: 0.4514\n",
      "100/1243 - Running Loss: 0.6576 - Running Dice: 0.3483\n",
      "200/1243 - Running Loss: 0.6453 - Running Dice: 0.3589\n",
      "300/1243 - Running Loss: 0.6014 - Running Dice: 0.4069\n",
      "400/1243 - Running Loss: 0.3965 - Running Dice: 0.6166\n",
      "500/1243 - Running Loss: 0.4463 - Running Dice: 0.5641\n",
      "600/1243 - Running Loss: 0.6341 - Running Dice: 0.3716\n",
      "700/1243 - Running Loss: 0.4801 - Running Dice: 0.5301\n",
      "800/1243 - Running Loss: 0.5795 - Running Dice: 0.4282\n",
      "900/1243 - Running Loss: 0.6453 - Running Dice: 0.3620\n",
      "1000/1243 - Running Loss: 0.5593 - Running Dice: 0.4522\n",
      "1100/1243 - Running Loss: 0.6551 - Running Dice: 0.3517\n",
      "1200/1243 - Running Loss: 0.5925 - Running Dice: 0.4143\n",
      "17/20 - Train Loss: 0.5644, Val Loss: 0.9220\n",
      "17/20 - Train Dice Coeff: 0.4441, Val Dice Coeff: 0.3422\n",
      "0/1243 - Running Loss: 0.4607 - Running Dice: 0.5509\n",
      "100/1243 - Running Loss: 0.6744 - Running Dice: 0.3331\n",
      "200/1243 - Running Loss: 0.6098 - Running Dice: 0.3962\n",
      "300/1243 - Running Loss: 0.5676 - Running Dice: 0.4394\n",
      "400/1243 - Running Loss: 0.6158 - Running Dice: 0.3917\n",
      "500/1243 - Running Loss: 0.5875 - Running Dice: 0.4190\n",
      "600/1243 - Running Loss: 0.6730 - Running Dice: 0.3342\n",
      "700/1243 - Running Loss: 0.6055 - Running Dice: 0.4012\n",
      "800/1243 - Running Loss: 0.5574 - Running Dice: 0.4514\n",
      "900/1243 - Running Loss: 0.5169 - Running Dice: 0.4923\n",
      "1000/1243 - Running Loss: 0.5502 - Running Dice: 0.4588\n",
      "1100/1243 - Running Loss: 0.6285 - Running Dice: 0.3769\n",
      "1200/1243 - Running Loss: 0.6664 - Running Dice: 0.3421\n",
      "18/20 - Train Loss: 0.5630, Val Loss: 0.9290\n",
      "18/20 - Train Dice Coeff: 0.4451, Val Dice Coeff: 0.3485\n",
      "0/1243 - Running Loss: 0.4357 - Running Dice: 0.5756\n",
      "100/1243 - Running Loss: 0.5188 - Running Dice: 0.4903\n",
      "200/1243 - Running Loss: 0.7106 - Running Dice: 0.2947\n",
      "300/1243 - Running Loss: 0.5661 - Running Dice: 0.4411\n",
      "400/1243 - Running Loss: 0.6710 - Running Dice: 0.3369\n",
      "500/1243 - Running Loss: 0.4269 - Running Dice: 0.5839\n",
      "600/1243 - Running Loss: 0.5167 - Running Dice: 0.4913\n",
      "700/1243 - Running Loss: 0.6607 - Running Dice: 0.3469\n",
      "800/1243 - Running Loss: 0.6660 - Running Dice: 0.3381\n",
      "900/1243 - Running Loss: 0.6275 - Running Dice: 0.3780\n",
      "1000/1243 - Running Loss: 0.6245 - Running Dice: 0.3810\n",
      "1100/1243 - Running Loss: 0.4481 - Running Dice: 0.5599\n",
      "1200/1243 - Running Loss: 0.5951 - Running Dice: 0.4119\n",
      "19/20 - Train Loss: 0.5619, Val Loss: 0.9350\n",
      "19/20 - Train Dice Coeff: 0.4459, Val Dice Coeff: 0.3484\n",
      "Best epoch: 15 -> Best Dice Coeffient: 0.3537\n"
     ]
    }
   ],
   "source": [
    "num_epochs = 20\n",
    "\n",
    "best_epoch = 0\n",
    "best_score = 0.0\n",
    "train_loss, train_dice_coefficient = [], []\n",
    "val_loss, val_dice_coefficient = [], []\n",
    "\n",
    "for epoch in range(num_epochs):\n",
    "    losses, dice_coefficients = train_one_epoch(dataloaders, model, optimizer, criterion, DEVICE)\n",
    "    train_loss.append(losses[\"train\"])\n",
    "    val_loss.append(losses[\"val\"])\n",
    "    train_dice_coefficient.append(dice_coefficients[\"train\"])\n",
    "    val_dice_coefficient.append(dice_coefficients[\"val\"])\n",
    "    \n",
    "    print(f\"{epoch}/{num_epochs} - Train Loss: {losses['train']:.4f}, Val Loss: {losses['val']:.4f}\")\n",
    "    print(f\"{epoch}/{num_epochs} - Train Dice Coeff: {dice_coefficients['train']:.4f}, Val Dice Coeff: {dice_coefficients['val']:.4f}\")\n",
    "    \n",
    "    if (epoch > 3) and (dice_coefficients[\"val\"] > best_score):\n",
    "        best_epoch = epoch\n",
    "        best_score = dice_coefficients[\"val\"]\n",
    "        save_model(model.state_dict(), f\"model_{epoch:02d}.pth\")\n",
    "        \n",
    "print(f\"Best epoch: {best_epoch} -> Best Dice Coeffient: {best_score:.4f}\")"
   ]
  },
  {
   "cell_type": "code",
   "execution_count": 61,
   "id": "030a866c",
   "metadata": {
    "pycharm": {
     "name": "#%%\n"
    }
   },
   "outputs": [
    {
     "data": {
      "text/plain": "<Figure size 432x360 with 2 Axes>",
      "image/png": "[encoded data removed]"
     },
     "metadata": {
      "needs_background": "light"
     },
     "output_type": "display_data"
    }
   ],
   "source": [
    "plt.figure(figsize=(6, 5))\n",
    "plt.subplot(211)\n",
    "plt.plot(train_loss, label=\"train\")\n",
    "plt.plot(val_loss,  label=\"val\")\n",
    "plt.xlabel(\"epoch\")\n",
    "plt.ylabel(\"loss\")\n",
    "plt.grid(\"on\")\n",
    "plt.legend()\n",
    "plt.subplot(212)\n",
    "plt.plot(train_dice_coefficient, label=\"train\")\n",
    "plt.plot(val_dice_coefficient, label=\"val\")\n",
    "plt.xlabel(\"epoch\")\n",
    "plt.ylabel(\"dice coefficient\")\n",
    "plt.grid(\"on\")\n",
    "plt.legend()\n",
    "plt.tight_layout()"
   ]
  },
  {
   "cell_type": "markdown",
   "id": "420bccdb",
   "metadata": {
    "pycharm": {
     "name": "#%% md\n"
    }
   },
   "source": [
    "## Morphological filtering"
   ]
  },
  {
   "cell_type": "code",
   "execution_count": 62,
   "id": "d5356a19",
   "metadata": {
    "pycharm": {
     "name": "#%%\n"
    }
   },
   "outputs": [],
   "source": [
    "def load_model(ckpt_path, num_classes, device):\n",
    "    checkpoint = torch.load(ckpt_path, map_location=device)\n",
    "    model = UNet(num_classes=num_classes)\n",
    "    model.load_state_dict(checkpoint)\n",
    "    model = model.to(device)\n",
    "    model.eval()\n",
    "    return model"
   ]
  },
  {
   "cell_type": "code",
   "execution_count": 63,
   "id": "f1e33ad6",
   "metadata": {
    "pycharm": {
     "name": "#%%\n"
    }
   },
   "outputs": [],
   "source": [
    "is_cuda = True\n",
    "\n",
    "NUM_CLASSES = 4\n",
    "IMAGE_SIZE = 224\n",
    "DEVICE = torch.device('cuda' if torch.cuda.is_available and is_cuda else 'cpu')"
   ]
  },
  {
   "cell_type": "code",
   "execution_count": 64,
   "id": "5482ac8e",
   "metadata": {
    "pycharm": {
     "name": "#%%\n"
    }
   },
   "outputs": [],
   "source": [
    "ckpt_path = \"./trained_model/model_15.pth\"\n",
    "model = load_model(ckpt_path, NUM_CLASSES, DEVICE)\n",
    "\n",
    "transformer = transforms.Compose([\n",
    "            transforms.Resize((IMAGE_SIZE, IMAGE_SIZE)),\n",
    "            transforms.ToTensor(),\n",
    "            transforms.Normalize([0.485, 0.456, 0.406], [0.229, 0.224, 0.225])])"
   ]
  },
  {
   "cell_type": "markdown",
   "source": [
    "#### morpholocal_process\n",
    "#### - 각 영역별 필터가 다르기에, 주변의 영역값을 토대로 덥어준다.\n",
    "#### - Opening\n",
    "<pre><font size=\"4\">\n",
    "    0 1 0 0\n",
    "    1 1 1 0\n",
    "    1 0 1 1\n",
    "    1 1 1 0\n",
    "</pre></font>\n",
    "<pre><font size=\"4\">\n",
    "    0 0 0 0\n",
    "    1 1 1 0\n",
    "    1 0 1 0\n",
    "    1 1 1 0\n",
    "</pre></font>\n",
    "#### - Closing\n",
    "<pre><font size=\"4\">\n",
    "    0 1 0 0\n",
    "    1 1 1 0\n",
    "    1 0 1 1\n",
    "    1 1 1 0\n",
    "</pre></font>\n",
    "<pre><font size=\"4\">\n",
    "    0 1 0 0\n",
    "    1 1 1 0\n",
    "    1 1 1 0\n",
    "    1 1 1 0\n",
    "</pre></font>\n"
   ],
   "metadata": {
    "collapsed": false,
    "pycharm": {
     "name": "#%% md\n"
    }
   }
  },
  {
   "cell_type": "code",
   "execution_count": 66,
   "id": "c4ec3bd5",
   "metadata": {
    "pycharm": {
     "name": "#%%\n"
    }
   },
   "outputs": [],
   "source": [
    "def morpholocal_process(mask, num_classes, ksize=7):\n",
    "    new_mask = mask.copy()\n",
    "    kernel = cv2.getStructuringElement(cv2.MORPH_RECT,(ksize, ksize))\n",
    "\n",
    "    for class_index in range(1, num_classes):\n",
    "        binary_mask = (mask == class_index).astype(np.uint8)\n",
    "        closing = cv2.morphologyEx(binary_mask, cv2.MORPH_CLOSE, kernel)\n",
    "        new_mask[closing.astype(np.bool_)] = class_index\n",
    "    return new_mask"
   ]
  },
  {
   "cell_type": "code",
   "execution_count": 67,
   "id": "cff2438f",
   "metadata": {
    "pycharm": {
     "name": "#%%\n"
    }
   },
   "outputs": [],
   "source": [
    "def decode_segmap(mask, num_classes):\n",
    "    mask_H, mask_W = mask.shape\n",
    "    R_channel = np.zeros((mask_H, mask_W), dtype=np.uint8)\n",
    "    G_channel = np.zeros((mask_H, mask_W), dtype=np.uint8)\n",
    "    B_channel = np.zeros((mask_H, mask_W), dtype=np.uint8)\n",
    "\n",
    "    for class_index in range(1, num_classes):\n",
    "        R_channel[mask == class_index] = CLASS_ID_TO_RGB[class_index][0]\n",
    "        G_channel[mask == class_index] = CLASS_ID_TO_RGB[class_index][1]\n",
    "        B_channel[mask == class_index] = CLASS_ID_TO_RGB[class_index][2]\n",
    "    \n",
    "    RGB_mask = cv2.merge((B_channel, G_channel, R_channel))\n",
    "    return RGB_mask"
   ]
  },
  {
   "cell_type": "code",
   "execution_count": 68,
   "id": "2249d57b",
   "metadata": {
    "pycharm": {
     "name": "#%%\n"
    }
   },
   "outputs": [],
   "source": [
    "@torch.no_grad()\n",
    "def predict_segment(image, model, num_classes, device):\n",
    "    PIL_image = Image.fromarray(image)\n",
    "    tensor_image = transformer(PIL_image)\n",
    "    tensor_image = tensor_image.to(device)\n",
    "\n",
    "    pred_mask = model(torch.unsqueeze(tensor_image, dim=0))\n",
    "    pred_mask = torch.argmax(pred_mask.squeeze(0).cpu(), dim=0)\n",
    "    pred_mask = pred_mask.numpy()\n",
    "    pred_mask = morpholocal_process(pred_mask, num_classes)\n",
    "    rgb_mask = decode_segmap(pred_mask, num_classes)\n",
    "    return rgb_mask"
   ]
  },
  {
   "cell_type": "code",
   "execution_count": 69,
   "id": "ea3894b1",
   "metadata": {
    "pycharm": {
     "name": "#%%\n"
    }
   },
   "outputs": [],
   "source": [
    "video_path = \"../data/segmentation/video/test/ID00411637202309374271828.mp4\"\n",
    "cnt = 0\n",
    "vidcap = cv2.VideoCapture(video_path)\n",
    "while (vidcap.isOpened()):\n",
    "    ret, frame = vidcap.read()\n",
    "\n",
    "    if ret:\n",
    "        rgb_mask = predict_segment(frame, model, NUM_CLASSES, DEVICE)\n",
    "        rgb_mask = cv2.resize(rgb_mask, dsize=frame.shape[:2])\n",
    "              \n",
    "        alpha = 0.6\n",
    "        blend = cv2.addWeighted(frame, alpha, rgb_mask, 1-alpha, 0)\n",
    "        cv2.imshow('output', blend)\n",
    "        \n",
    "        key = cv2.waitKey(1)\n",
    "        if key == 27:\n",
    "            break\n",
    "        if key == ord('s'):\n",
    "            cv2.waitKey(0)\n",
    "    else:\n",
    "        break\n",
    "        \n",
    "vidcap.release()\n",
    "cv2.destroyAllWindows()"
   ]
  }
 ],
 "metadata": {
  "kernelspec": {
   "display_name": "Python 3 (ipykernel)",
   "language": "python",
   "name": "python3"
  },
  "language_info": {
   "codemirror_mode": {
    "name": "ipython",
    "version": 3
   },
   "file_extension": ".py",
   "mimetype": "text/x-python",
   "name": "python",
   "nbconvert_exporter": "python",
   "pygments_lexer": "ipython3",
   "version": "3.8.13"
  }
 },
 "nbformat": 4,
 "nbformat_minor": 5
}